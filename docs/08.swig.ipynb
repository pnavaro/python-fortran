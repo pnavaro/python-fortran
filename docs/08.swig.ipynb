{
 "cells": [
  {
   "cell_type": "markdown",
   "metadata": {},
   "source": [
    "# SWIG and Ctypes\n",
    " \n",
    "Interfacing Fortran code through C interface"
   ]
  },
  {
   "cell_type": "markdown",
   "metadata": {},
   "source": [
    "\n",
    "I found [this reference](https://www.fortran90.org/src/best-practices.html#interfacing-with-python) with good examples."
   ]
  },
  {
   "cell_type": "markdown",
   "metadata": {},
   "source": [
    "## Problem: Collatz conjecture\n",
    "\n",
    " -  Choose $u_0$ \n",
    " -  If $u_k$ even, $u_{k+1} \\rightarrow \\frac{u_k}{2}$ ;\n",
    " -  If $u_k$ odd,  $u_{k+1}  \\rightarrow 3 u_k+1$\n",
    " \n",
    " - The Collatz conjecture is: For all  $u_0>0$ , the process will eventually reach $u_k=1$.\n",
    " - The programs below compute number of steps (named flight) to reach $f(u_0)$ for $1\\leq u_0 \\leq N$, $N$ given.\n",
    " \n",
    "[The Collatz conjecture on Wikipedia](https://en.wikipedia.org/wiki/Collatz_conjecture)"
   ]
  },
  {
   "cell_type": "markdown",
   "metadata": {},
   "source": [
    "## C program"
   ]
  },
  {
   "cell_type": "code",
   "execution_count": 1,
   "metadata": {},
   "outputs": [],
   "source": [
    "%%file syracuse.c\n",
    "#include <stdlib.h> \n",
    "#include <stdio.h>\n",
    "long syracuse(long n) { \n",
    "   long count = 0L ; \n",
    "   while (n > 1) {\n",
    "      if ((n&1)==0) \n",
    "          n /= 2; \n",
    "      else \n",
    "          n = 3*n+1; \n",
    "      count++;   \n",
    "   }\n",
    "   return count ; \n",
    "}\n",
    "\n",
    "int main() {\n",
    "   const long N = 1000000; \n",
    "   double t1, t2;\n",
    "   long i , *flights ;\n",
    "   flights = (long*)malloc(N*sizeof(long));\n",
    "   for (i = 0; i <N; i++) flights[i] = syracuse(i+1); \n",
    "   return EXIT_SUCCESS;\n",
    "}"
   ]
  },
  {
   "cell_type": "code",
   "execution_count": 2,
   "metadata": {},
   "outputs": [
    {
     "name": "stderr",
     "output_type": "stream",
     "text": [
      "\n",
      "real\t0m0.173s\n",
      "user\t0m0.001s\n",
      "sys\t0m0.001s\n"
     ]
    }
   ],
   "source": [
    "%%bash\n",
    "gcc -O3 syracuse.c \n",
    "time ./a.out"
   ]
  },
  {
   "cell_type": "markdown",
   "metadata": {},
   "source": [
    "## Python program"
   ]
  },
  {
   "cell_type": "code",
   "execution_count": 3,
   "metadata": {},
   "outputs": [
    {
     "name": "stdout",
     "output_type": "stream",
     "text": [
      "CPU times: user 18.6 s, sys: 28 ms, total: 18.7 s\n",
      "Wall time: 18.7 s\n"
     ]
    }
   ],
   "source": [
    "%%time\n",
    "\n",
    "from itertools import count\n",
    "\n",
    "def syracuse(n):\n",
    "    x = n\n",
    "    for steps in count() :\n",
    "        if x & 1 : \n",
    "            x = 3*x+1\n",
    "        else:\n",
    "            x = x // 2\n",
    "            \n",
    "        if x == 1:\n",
    "            return steps\n",
    "\n",
    "N = 1000000\n",
    "flights = [syracuse(i) for i in range(1,N+1)]"
   ]
  },
  {
   "cell_type": "markdown",
   "metadata": {},
   "source": [
    "## Performances\n",
    "\n",
    "- The python syntax is simpler.\n",
    "- 100 times slower\n",
    "- Solution : call the C function from python."
   ]
  },
  {
   "cell_type": "markdown",
   "metadata": {},
   "source": [
    "## Ctypes\n",
    "\n",
    "This is the C function we will call from python"
   ]
  },
  {
   "cell_type": "code",
   "execution_count": 4,
   "metadata": {},
   "outputs": [
    {
     "name": "stdout",
     "output_type": "stream",
     "text": [
      "Overwriting syrac.c\n"
     ]
    }
   ],
   "source": [
    "%%file syrac.c\n",
    "\n",
    "long syracuse(long n)\n",
    "{ \n",
    "   long count = 0L ; \n",
    "   while (n > 1)\n",
    "   {\n",
    "      if ((n&1)==0) \n",
    "         n /= 2; \n",
    "      else \n",
    "         n = 3*n+1; \n",
    "      count++;   \n",
    "   }\n",
    "   return count ; \n",
    "}"
   ]
  },
  {
   "cell_type": "markdown",
   "metadata": {},
   "source": [
    "Build the shared library"
   ]
  },
  {
   "cell_type": "code",
   "execution_count": 5,
   "metadata": {},
   "outputs": [],
   "source": [
    "%%bash\n",
    "gcc -fPIC -shared -O3 \\\n",
    "    -o syrac.so syrac.c"
   ]
  },
  {
   "cell_type": "code",
   "execution_count": 6,
   "metadata": {},
   "outputs": [
    {
     "name": "stdout",
     "output_type": "stream",
     "text": [
      "CPU times: user 466 ms, sys: 8.37 ms, total: 475 ms\n",
      "Wall time: 644 ms\n"
     ]
    }
   ],
   "source": [
    "%%time\n",
    "\n",
    "import time\n",
    "from ctypes import *\n",
    "\n",
    "syracDLL = CDLL(\"./syrac.so\")\n",
    "syracuse = syracDLL.syracuse\n",
    "\n",
    "flights = [syracuse(i) for i in range(1,N+1)]"
   ]
  },
  {
   "cell_type": "markdown",
   "metadata": {},
   "source": [
    "## Ctypes with Fortran module\n",
    "\n",
    "If you change the fortran file you have to restart the kernel"
   ]
  },
  {
   "cell_type": "code",
   "execution_count": 7,
   "metadata": {},
   "outputs": [
    {
     "name": "stdout",
     "output_type": "stream",
     "text": [
      "Overwriting syrac.F90\n"
     ]
    }
   ],
   "source": [
    "%%file syrac.F90\n",
    "\n",
    "module syrac_f90\n",
    "  use iso_c_binding\n",
    "  implicit none\n",
    "\n",
    "contains\n",
    "\n",
    "  function f_syrac(n) bind(c, name='c_syrac') result(f)\n",
    "    \n",
    "    integer(c_long) :: f\n",
    "    integer(c_long), intent(in), value :: n\n",
    "    integer(c_long) :: x\n",
    "    x = n\n",
    "    f = 0_8\n",
    "    do while(x>1)\n",
    "       if (iand(x,1_8) == 0) then\n",
    "          x = x / 2\n",
    "       else\n",
    "          x = 3*x+1\n",
    "       end if\n",
    "       f = f + 1_8\n",
    "    end do\n",
    "\n",
    "  end function f_syrac\n",
    "\n",
    "end module syrac_f90"
   ]
  },
  {
   "cell_type": "code",
   "execution_count": 8,
   "metadata": {},
   "outputs": [],
   "source": [
    "%%bash\n",
    "rm -f *.o *.so *.dylib\n",
    "gfortran -fPIC -shared -O3 -o syrac.dylib syrac.F90"
   ]
  },
  {
   "cell_type": "code",
   "execution_count": 9,
   "metadata": {},
   "outputs": [
    {
     "data": {
      "text/plain": [
       "111"
      ]
     },
     "execution_count": 9,
     "metadata": {},
     "output_type": "execute_result"
    }
   ],
   "source": [
    "from ctypes import *\n",
    "\n",
    "syrac_f90 = CDLL('./syrac.dylib')\n",
    "\n",
    "syrac_f90.c_syrac.restype = c_long\n",
    "\n",
    "syrac_f90.c_syrac(1000)"
   ]
  },
  {
   "cell_type": "code",
   "execution_count": 10,
   "metadata": {},
   "outputs": [
    {
     "name": "stdout",
     "output_type": "stream",
     "text": [
      "CPU times: user 583 ms, sys: 6.87 ms, total: 590 ms\n",
      "Wall time: 591 ms\n"
     ]
    }
   ],
   "source": [
    "%%time\n",
    "N = 1000000\n",
    "flights = [syrac_f90.c_syrac(i) for i in range(1,N+1)]"
   ]
  },
  {
   "cell_type": "markdown",
   "metadata": {},
   "source": [
    "- Faster than pure Python\n",
    "- We can call function from DLL windows libraries.\n",
    "- Unfortunately you need to adapt the syntax to the operating system.\n",
    "\n",
    "http://docs.python.org/library/ctypes.html}"
   ]
  },
  {
   "cell_type": "markdown",
   "metadata": {},
   "source": [
    "## SWIG"
   ]
  },
  {
   "cell_type": "markdown",
   "metadata": {},
   "source": [
    "Interface file syrac.i for C function in syrac.c"
   ]
  },
  {
   "cell_type": "code",
   "execution_count": 11,
   "metadata": {
    "lines_to_next_cell": 2
   },
   "outputs": [
    {
     "name": "stdout",
     "output_type": "stream",
     "text": [
      "Overwriting syrac.i\n"
     ]
    }
   ],
   "source": [
    "%%file syrac.i\n",
    "\n",
    "%module syracuseC\n",
    "%{\n",
    "   extern long syracuse(long n);\n",
    "%}\n",
    "extern long syracuse(long n);"
   ]
  },
  {
   "cell_type": "markdown",
   "metadata": {},
   "source": [
    "### Build the python module \n",
    "\n",
    "- Using command line\n",
    "\n",
    "```bash\n",
    "swig -python syrac.i\n",
    "\n",
    "gcc `python3-config --cflags` -fPIC \\\n",
    "  -shared -O3 -o _syracuseC.so syrac_wrap.c syrac.c `python3-config --ldflags`\n",
    " ```"
   ]
  },
  {
   "cell_type": "markdown",
   "metadata": {},
   "source": [
    "- With distutils"
   ]
  },
  {
   "cell_type": "code",
   "execution_count": 12,
   "metadata": {},
   "outputs": [
    {
     "name": "stdout",
     "output_type": "stream",
     "text": [
      "Overwriting setup.py\n"
     ]
    }
   ],
   "source": [
    "%%file setup.py\n",
    "from numpy.distutils.core import Extension, setup\n",
    "\n",
    "\n",
    "module_swig = Extension('_syracuseC', sources=['syrac_wrap.c', 'syrac.c'])\n",
    "\n",
    "setup( name='Syracuse',\n",
    "       version = '0.1.0',\n",
    "       author      = \"Pierre Navaro\",\n",
    "       description = \"\"\"Simple C Fortran interface example \"\"\",\n",
    "       ext_modules = [module_swig],\n",
    ")"
   ]
  },
  {
   "cell_type": "code",
   "execution_count": 13,
   "metadata": {},
   "outputs": [
    {
     "name": "stdout",
     "output_type": "stream",
     "text": [
      "\u001b[39mrunning build_ext\u001b[0m\n",
      "\u001b[39mrunning build_src\u001b[0m\n",
      "\u001b[39mbuild_src\u001b[0m\n",
      "\u001b[39mbuilding extension \"_syracuseC\" sources\u001b[0m\n",
      "\u001b[39mbuild_src: building npy-pkg config files\u001b[0m\n",
      "\u001b[39mcustomize UnixCCompiler\u001b[0m\n",
      "\u001b[39mcustomize UnixCCompiler using build_ext\u001b[0m\n",
      "\u001b[39mbuilding '_syracuseC' extension\u001b[0m\n",
      "\u001b[39mcompiling C sources\u001b[0m\n",
      "\u001b[39mC compiler: clang -Wno-unused-result -Wsign-compare -Wunreachable-code -fno-common -dynamic -DNDEBUG -g -fwrapv -O3 -Wall -isysroot /Library/Developer/CommandLineTools/SDKs/MacOSX10.15.sdk -I/Library/Developer/CommandLineTools/SDKs/MacOSX10.15.sdk/usr/include -I/Library/Developer/CommandLineTools/SDKs/MacOSX10.15.sdk/System/Library/Frameworks/Tk.framework/Versions/8.5/Headers\n",
      "\u001b[0m\n",
      "\u001b[39mcompile options: '-I/usr/local/lib/python3.8/site-packages/numpy/core/include -I/usr/local/include -I/usr/local/opt/openssl@1.1/include -I/usr/local/opt/sqlite/include -I/usr/local/Cellar/python@3.8/3.8.5/Frameworks/Python.framework/Versions/3.8/include/python3.8 -c'\u001b[0m\n",
      "\u001b[39mclang: syrac.c\u001b[0m\n",
      "\u001b[39mclang -bundle -undefined dynamic_lookup -isysroot /Library/Developer/CommandLineTools/SDKs/MacOSX10.15.sdk build/temp.macosx-10.15-x86_64-3.8/syrac_wrap.o build/temp.macosx-10.15-x86_64-3.8/syrac.o -L/usr/local/lib -L/usr/local/opt/openssl@1.1/lib -L/usr/local/opt/sqlite/lib -o _syracuseC.cpython-38-darwin.so\u001b[0m\n"
     ]
    }
   ],
   "source": [
    "import sys\n",
    "!{sys.executable} setup.py build_ext --inplace --quiet"
   ]
  },
  {
   "cell_type": "code",
   "execution_count": 14,
   "metadata": {},
   "outputs": [
    {
     "data": {
      "text/plain": [
       "111"
      ]
     },
     "execution_count": 14,
     "metadata": {},
     "output_type": "execute_result"
    }
   ],
   "source": [
    "import _syracuseC\n",
    "\n",
    "syracuse = _syracuseC.syracuse\n",
    "syracuse(1000)"
   ]
  },
  {
   "cell_type": "code",
   "execution_count": 15,
   "metadata": {},
   "outputs": [
    {
     "name": "stdout",
     "output_type": "stream",
     "text": [
      "CPU times: user 258 ms, sys: 6.5 ms, total: 264 ms\n",
      "Wall time: 264 ms\n"
     ]
    }
   ],
   "source": [
    "%%time\n",
    "N=1000000\n",
    "\n",
    "flights = [syracuse(i) for i in range(1,N+1)]"
   ]
  },
  {
   "cell_type": "markdown",
   "metadata": {},
   "source": [
    "## References\n",
    "\n",
    " - [Interfacage C-Python par Xavier Juvigny](http://calcul.math.cnrs.fr/Documents/Ecoles/2010/InterfacagePython.pdf)\n",
    " - [Optimizing and interfacing with Cython par Konrad Hinsen](http://calcul.math.cnrs.fr/Documents/Ecoles/2010/cours_cython.pdf)\n",
    " - Python Scripting for Computational Science de Hans Petter Langtangen chez Springer"
   ]
  }
 ],
 "metadata": {
  "@webio": {
   "lastCommId": null,
   "lastKernelId": null
  },
  "jupytext": {
   "formats": "py:light,docs//ipynb"
  },
  "kernelspec": {
   "display_name": "Python 3",
   "language": "python",
   "name": "python3"
  },
  "language_info": {
   "codemirror_mode": {
    "name": "ipython",
    "version": 3
   },
   "file_extension": ".py",
   "mimetype": "text/x-python",
   "name": "python",
   "nbconvert_exporter": "python",
   "pygments_lexer": "ipython3",
   "version": "3.8.5"
  }
 },
 "nbformat": 4,
 "nbformat_minor": 4
}
