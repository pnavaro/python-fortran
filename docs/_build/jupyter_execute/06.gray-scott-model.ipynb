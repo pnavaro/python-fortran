{
 "cells": [
  {
   "cell_type": "markdown",
   "metadata": {},
   "source": [
    "# Gray-Scott Model\n",
    "\n",
    "This notebook is originally an idea of [@gouarin](https://github.com/gouarin)"
   ]
  },
  {
   "cell_type": "code",
   "execution_count": 1,
   "metadata": {
    "execution": {
     "iopub.execute_input": "2020-08-12T13:16:15.490039Z",
     "iopub.status.busy": "2020-08-12T13:16:15.488814Z",
     "iopub.status.idle": "2020-08-12T13:16:15.492139Z",
     "shell.execute_reply": "2020-08-12T13:16:15.492671Z"
    }
   },
   "outputs": [
    {
     "name": "stdout",
     "output_type": "stream",
     "text": [
      "env: CC=gcc-10\n"
     ]
    }
   ],
   "source": [
    "import sys\n",
    "if sys.platform == \"darwin\":\n",
    "    %env CC=gcc-10"
   ]
  },
  {
   "cell_type": "code",
   "execution_count": 2,
   "metadata": {
    "execution": {
     "iopub.execute_input": "2020-08-12T13:16:15.496627Z",
     "iopub.status.busy": "2020-08-12T13:16:15.495910Z",
     "iopub.status.idle": "2020-08-12T13:16:15.581498Z",
     "shell.execute_reply": "2020-08-12T13:16:15.581977Z"
    }
   },
   "outputs": [],
   "source": [
    "import numpy as np"
   ]
  },
  {
   "cell_type": "code",
   "execution_count": 3,
   "metadata": {
    "execution": {
     "iopub.execute_input": "2020-08-12T13:16:15.591358Z",
     "iopub.status.busy": "2020-08-12T13:16:15.590779Z",
     "iopub.status.idle": "2020-08-12T13:16:15.593016Z",
     "shell.execute_reply": "2020-08-12T13:16:15.593437Z"
    }
   },
   "outputs": [],
   "source": [
    "%config InlineBackend.figure_format = 'retina'"
   ]
  },
  {
   "cell_type": "markdown",
   "metadata": {},
   "source": [
    "# Gray-Scott Model"
   ]
  },
  {
   "cell_type": "markdown",
   "metadata": {},
   "source": [
    "The reaction-diffusion system described here involves two generic chemical species U and V, whose concentration at a given point in space is referred to by variables u and v. As the term implies, they react with each other, and they diffuse through the medium. Therefore the concentration of U and V at any given location changes with time and can differ from that at other locations.\n",
    "\n",
    "The overall behavior of the system is described by the following formula, two equations which describe three sources of increase and decrease for each of the two chemicals:\n",
    "\n",
    "\n",
    "$$\n",
    "\\begin{array}{l}\n",
    "\\displaystyle \\frac{\\partial u}{\\partial t} = D_u \\Delta u - uv^2 + F(1-u) \\\\\n",
    "\\displaystyle \\frac{\\partial v}{\\partial t} = D_v \\Delta v + uv^2 - (F+k)v\n",
    "\\end{array}\n",
    "$$\n",
    "\n",
    "The laplacian is computed with the following numerical scheme\n",
    "\n",
    "$$\n",
    "\\Delta u_{i,j} \\approx u_{i,j-1} + u_{i-1,j} -4u_{i,j} + u_{i+1, j} + u_{i, j+1}\n",
    "$$\n",
    "\n",
    "The classic Euler scheme is used to integrate the time derivative."
   ]
  },
  {
   "cell_type": "markdown",
   "metadata": {},
   "source": [
    "## Initialization\n",
    "\n",
    "$u$ is $1$ everywhere et $v$ is $0$ in the domain except in a square zone where $v = 0.25$ and $ u = 0.5$. This square located in the center of the domain is  $[0, 1]\\times[0,1]$ with a size of $0.2$.\n"
   ]
  },
  {
   "cell_type": "code",
   "execution_count": 4,
   "metadata": {
    "execution": {
     "iopub.execute_input": "2020-08-12T13:16:15.598265Z",
     "iopub.status.busy": "2020-08-12T13:16:15.597657Z",
     "iopub.status.idle": "2020-08-12T13:16:15.599882Z",
     "shell.execute_reply": "2020-08-12T13:16:15.600358Z"
    }
   },
   "outputs": [],
   "source": [
    "def init(n):\n",
    " \n",
    "    u = np.ones((n+2,n+2))\n",
    "    v = np.zeros((n+2,n+2))\n",
    "    \n",
    "    x, y = np.meshgrid(np.linspace(0, 1, n+2), np.linspace(0, 1, n+2))\n",
    "\n",
    "    mask = (0.4<x) & (x<0.6) & (0.4<y) & (y<0.6)\n",
    "    \n",
    "    u[mask] = 0.50\n",
    "    v[mask] = 0.25\n",
    "        \n",
    "    return u, v"
   ]
  },
  {
   "cell_type": "markdown",
   "metadata": {},
   "source": [
    "## Boundary conditions\n",
    "\n",
    "We assume that the domain is periodic.\n"
   ]
  },
  {
   "cell_type": "code",
   "execution_count": 5,
   "metadata": {
    "execution": {
     "iopub.execute_input": "2020-08-12T13:16:15.604554Z",
     "iopub.status.busy": "2020-08-12T13:16:15.603978Z",
     "iopub.status.idle": "2020-08-12T13:16:15.606190Z",
     "shell.execute_reply": "2020-08-12T13:16:15.606619Z"
    }
   },
   "outputs": [],
   "source": [
    "def periodic_bc(u):\n",
    "    u[0, :] = u[-2, :]\n",
    "    u[-1, :] = u[1, :]\n",
    "    u[:, 0] = u[:, -2]\n",
    "    u[:, -1] = u[:, 1]"
   ]
  },
  {
   "cell_type": "markdown",
   "metadata": {},
   "source": [
    "## Laplacian"
   ]
  },
  {
   "cell_type": "code",
   "execution_count": 6,
   "metadata": {
    "execution": {
     "iopub.execute_input": "2020-08-12T13:16:15.611193Z",
     "iopub.status.busy": "2020-08-12T13:16:15.610607Z",
     "iopub.status.idle": "2020-08-12T13:16:15.612730Z",
     "shell.execute_reply": "2020-08-12T13:16:15.613156Z"
    }
   },
   "outputs": [],
   "source": [
    "def laplacian(u):\n",
    "    \"\"\"\n",
    "    second order finite differences\n",
    "    \"\"\"\n",
    "    return (                  u[ :-2, 1:-1] +\n",
    "             u[1:-1, :-2] - 4*u[1:-1, 1:-1] + u[1:-1, 2:] +\n",
    "                          +   u[2:  , 1:-1] )"
   ]
  },
  {
   "cell_type": "markdown",
   "metadata": {},
   "source": [
    "## Gray-Scott model"
   ]
  },
  {
   "cell_type": "code",
   "execution_count": 7,
   "metadata": {
    "execution": {
     "iopub.execute_input": "2020-08-12T13:16:15.617912Z",
     "iopub.status.busy": "2020-08-12T13:16:15.617284Z",
     "iopub.status.idle": "2020-08-12T13:16:15.619826Z",
     "shell.execute_reply": "2020-08-12T13:16:15.619344Z"
    }
   },
   "outputs": [],
   "source": [
    "def numpy_grayscott(U, V, Du, Dv, F, k):\n",
    "    \n",
    "    u, v = U[1:-1,1:-1], V[1:-1,1:-1]\n",
    "\n",
    "    Lu = laplacian(U)\n",
    "    Lv = laplacian(V)\n",
    "\n",
    "    uvv = u*v*v\n",
    "    u += Du*Lu - uvv + F*(1 - u)\n",
    "    v += Dv*Lv + uvv - (F + k)*v\n",
    "\n",
    "    periodic_bc(U)\n",
    "    periodic_bc(V)\n",
    "    \n",
    "    return U, V"
   ]
  },
  {
   "cell_type": "markdown",
   "metadata": {},
   "source": [
    "## Visualization\n",
    "\n",
    "Nous utiliserons les données suivantes."
   ]
  },
  {
   "cell_type": "code",
   "execution_count": 8,
   "metadata": {
    "execution": {
     "iopub.execute_input": "2020-08-12T13:16:15.623344Z",
     "iopub.status.busy": "2020-08-12T13:16:15.622657Z",
     "iopub.status.idle": "2020-08-12T13:16:15.624639Z",
     "shell.execute_reply": "2020-08-12T13:16:15.625219Z"
    }
   },
   "outputs": [],
   "source": [
    "Du, Dv = .1, .05\n",
    "F, k = 0.0545, 0.062"
   ]
  },
  {
   "cell_type": "code",
   "execution_count": 9,
   "metadata": {
    "execution": {
     "iopub.execute_input": "2020-08-12T13:16:15.630116Z",
     "iopub.status.busy": "2020-08-12T13:16:15.629532Z",
     "iopub.status.idle": "2020-08-12T13:16:47.370584Z",
     "shell.execute_reply": "2020-08-12T13:16:47.371049Z"
    }
   },
   "outputs": [
    {
     "data": {
      "application/vnd.jupyter.widget-view+json": {
       "model_id": "7e5c6060e30d4910ad65b43e79265bf3",
       "version_major": 2,
       "version_minor": 0
      },
      "text/plain": [
       "HBox(children=(FloatProgress(value=0.0, max=500.0), HTML(value='')))"
      ]
     },
     "metadata": {},
     "output_type": "display_data"
    },
    {
     "name": "stdout",
     "output_type": "stream",
     "text": [
      "\n",
      "CPU times: user 31.4 s, sys: 372 ms, total: 31.8 s\n",
      "Wall time: 31.7 s\n"
     ]
    }
   ],
   "source": [
    "%%time\n",
    "from tqdm.notebook import tqdm\n",
    "from PIL import Image\n",
    "U, V = init(300)\n",
    "\n",
    "def create_image(grayscott):\n",
    "    global U, V\n",
    "    for t in range(40):\n",
    "        U, V = grayscott(U, V, Du, Dv, F, k)\n",
    "    V_scaled = np.uint8(255*(V-V.min()) / (V.max()-V.min()))\n",
    "    return V_scaled\n",
    "\n",
    "def create_frames(n, grayscott):\n",
    "\n",
    "    return [create_image(grayscott) for i in tqdm(range(n))]\n",
    "    \n",
    "frames = create_frames(500, numpy_grayscott)"
   ]
  },
  {
   "cell_type": "code",
   "execution_count": 10,
   "metadata": {
    "execution": {
     "iopub.execute_input": "2020-08-12T13:16:47.387181Z",
     "iopub.status.busy": "2020-08-12T13:16:47.386326Z",
     "iopub.status.idle": "2020-08-12T13:16:47.410877Z",
     "shell.execute_reply": "2020-08-12T13:16:47.411265Z"
    }
   },
   "outputs": [
    {
     "data": {
      "application/vnd.jupyter.widget-view+json": {
       "model_id": "758bf3ed05764ad9b198261b5ac0d5f6",
       "version_major": 2,
       "version_minor": 0
      },
      "text/plain": [
       "interactive(children=(IntSlider(value=0, description='iframe', max=499), Output()), _dom_classes=('widget-inte…"
      ]
     },
     "metadata": {},
     "output_type": "display_data"
    },
    {
     "data": {
      "text/plain": [
       "<function __main__.display_sequence(iframe)>"
      ]
     },
     "execution_count": 10,
     "metadata": {},
     "output_type": "execute_result"
    }
   ],
   "source": [
    "from ipywidgets import interact, IntSlider\n",
    "\n",
    "def display_sequence(iframe):\n",
    "    \n",
    "    return Image.fromarray(frames[iframe])\n",
    "    \n",
    "interact(display_sequence, \n",
    "         iframe=IntSlider(min=0,\n",
    "                          max=len(frames)-1,\n",
    "                          step=1,\n",
    "                          value=0, \n",
    "                          continuous_update=True))"
   ]
  },
  {
   "cell_type": "code",
   "execution_count": 11,
   "metadata": {
    "execution": {
     "iopub.execute_input": "2020-08-12T13:16:47.415969Z",
     "iopub.status.busy": "2020-08-12T13:16:47.415323Z",
     "iopub.status.idle": "2020-08-12T13:16:52.836093Z",
     "shell.execute_reply": "2020-08-12T13:16:52.836690Z"
    }
   },
   "outputs": [],
   "source": [
    "import imageio\n",
    "frames_scaled = [np.uint8(255 * frame) for frame in frames]\n",
    "imageio.mimsave('movie.gif', frames_scaled, format='gif', fps=60)"
   ]
  },
  {
   "cell_type": "markdown",
   "metadata": {},
   "source": [
    "![grayscott](movie.gif \"grayscott\")"
   ]
  },
  {
   "cell_type": "markdown",
   "metadata": {},
   "source": [
    "## References\n",
    "\n",
    "- [Reaction-Diffusion by the Gray-Scott Model: Pearson's Parametrization](https://mrob.com/pub/comp/xmorphia/)"
   ]
  },
  {
   "cell_type": "markdown",
   "metadata": {},
   "source": [
    "## Cython\n",
    "\n",
    "[Program by Hyry](https://stackoverflow.com/questions/26823312/numba-or-cython-acceleration-in-reaction-diffusion-algorithm)"
   ]
  },
  {
   "cell_type": "code",
   "execution_count": 12,
   "metadata": {
    "execution": {
     "iopub.execute_input": "2020-08-12T13:16:52.841289Z",
     "iopub.status.busy": "2020-08-12T13:16:52.840604Z",
     "iopub.status.idle": "2020-08-12T13:16:53.916177Z",
     "shell.execute_reply": "2020-08-12T13:16:53.916667Z"
    }
   },
   "outputs": [],
   "source": [
    "%load_ext cython"
   ]
  },
  {
   "cell_type": "code",
   "execution_count": 13,
   "metadata": {
    "execution": {
     "iopub.execute_input": "2020-08-12T13:16:53.921394Z",
     "iopub.status.busy": "2020-08-12T13:16:53.920460Z",
     "iopub.status.idle": "2020-08-12T13:16:53.934301Z",
     "shell.execute_reply": "2020-08-12T13:16:53.934896Z"
    }
   },
   "outputs": [],
   "source": [
    "%%cython\n",
    "\n",
    "cimport cython\n",
    "import numpy as np\n",
    "cimport numpy as np\n",
    "\n",
    "cpdef cython_grayscott(np.ndarray[double, ndim=2] U, np.ndarray[double, ndim=2] V, double Du, double Dv, double F, double k):\n",
    "   \n",
    "    cdef np.ndarray u = U[1:-1,1:-1]\n",
    "    cdef np.ndarray v = V[1:-1,1:-1]\n",
    "\n",
    "    cdef np.ndarray Lu = np.zeros_like(u)\n",
    "    cdef np.ndarray Lv = np.zeros_like(v)\n",
    "    cdef Py_ssize_t i, c, r, r1, c1, r2, c2\n",
    "    cdef double uvv\n",
    "\n",
    "    cdef double[:, ::1] bU = U\n",
    "    cdef double[:, ::1] bV = V\n",
    "    cdef double[:, ::1] bLu = Lu\n",
    "    cdef double[:, ::1] bLv = Lv\n",
    "    \n",
    "    n = np.shape(U)[0]-2\n",
    "\n",
    "    for r in range(n):\n",
    "        r1 = r + 1\n",
    "        r2 = r + 2\n",
    "        for c in range(n):\n",
    "            c1 = c + 1\n",
    "            c2 = c + 2\n",
    "            bLu[r,c] = bU[r1,c2] + bU[r1,c] + bU[r2,c1] + bU[r,c1] - 4*bU[r1,c1]\n",
    "            bLv[r,c] = bV[r1,c2] + bV[r1,c] + bV[r2,c1] + bV[r,c1] - 4*bV[r1,c1]\n",
    "\n",
    "    for r in range(n):\n",
    "        r1 = r + 1\n",
    "        for c in range(n):\n",
    "            c1 = c + 1\n",
    "            uvv = bU[r1,c1]*bV[r1,c1]*bV[r1,c1]\n",
    "            bU[r1,c1] += Du*bLu[r,c] - uvv + F*(1 - bU[r1,c1])\n",
    "            bV[r1,c1] += Dv*bLv[r,c] + uvv - (F + k)*bV[r1,c1]\n",
    "\n",
    "    return U, V"
   ]
  },
  {
   "cell_type": "code",
   "execution_count": 14,
   "metadata": {
    "execution": {
     "iopub.execute_input": "2020-08-12T13:16:53.939203Z",
     "iopub.status.busy": "2020-08-12T13:16:53.938531Z",
     "iopub.status.idle": "2020-08-12T13:17:20.579683Z",
     "shell.execute_reply": "2020-08-12T13:17:20.579200Z"
    }
   },
   "outputs": [
    {
     "data": {
      "application/vnd.jupyter.widget-view+json": {
       "model_id": "f6e9c3bf47ea41cf9f5734f7aeb59c08",
       "version_major": 2,
       "version_minor": 0
      },
      "text/plain": [
       "HBox(children=(FloatProgress(value=0.0, max=500.0), HTML(value='')))"
      ]
     },
     "metadata": {},
     "output_type": "display_data"
    },
    {
     "name": "stdout",
     "output_type": "stream",
     "text": [
      "\n"
     ]
    }
   ],
   "source": [
    "U, V = init(300)\n",
    "frames = create_frames(500, cython_grayscott)"
   ]
  },
  {
   "cell_type": "code",
   "execution_count": 15,
   "metadata": {
    "execution": {
     "iopub.execute_input": "2020-08-12T13:17:20.594784Z",
     "iopub.status.busy": "2020-08-12T13:17:20.594015Z",
     "iopub.status.idle": "2020-08-12T13:17:20.606621Z",
     "shell.execute_reply": "2020-08-12T13:17:20.604659Z"
    }
   },
   "outputs": [
    {
     "data": {
      "application/vnd.jupyter.widget-view+json": {
       "model_id": "1614d4175acb4fd7a2480b6b18bdb96b",
       "version_major": 2,
       "version_minor": 0
      },
      "text/plain": [
       "interactive(children=(IntSlider(value=0, description='iframe', max=499), Output()), _dom_classes=('widget-inte…"
      ]
     },
     "metadata": {},
     "output_type": "display_data"
    },
    {
     "data": {
      "text/plain": [
       "<function __main__.display_sequence(iframe)>"
      ]
     },
     "execution_count": 15,
     "metadata": {},
     "output_type": "execute_result"
    }
   ],
   "source": [
    "interact(display_sequence, \n",
    "         iframe=IntSlider(min=0,\n",
    "                          max=len(frames)-1,\n",
    "                          step=1,\n",
    "                          value=0, \n",
    "                          continuous_update=True))"
   ]
  },
  {
   "cell_type": "code",
   "execution_count": 16,
   "metadata": {
    "execution": {
     "iopub.execute_input": "2020-08-12T13:17:20.609955Z",
     "iopub.status.busy": "2020-08-12T13:17:20.609325Z",
     "iopub.status.idle": "2020-08-12T13:17:20.686677Z",
     "shell.execute_reply": "2020-08-12T13:17:20.687196Z"
    }
   },
   "outputs": [
    {
     "data": {
      "application/javascript": [
       "new Promise(function(resolve, reject) {\n",
       "\tvar script = document.createElement(\"script\");\n",
       "\tscript.onload = resolve;\n",
       "\tscript.onerror = reject;\n",
       "\tscript.src = \"https://raw.github.com/marijnh/CodeMirror/master/mode/fortran/fortran.js\";\n",
       "\tdocument.head.appendChild(script);\n",
       "}).then(() => {\n",
       "IPython.config.cell_magic_highlight['magic_fortran'] = {'reg':[/^%%fortran/]};\n",
       "});"
      ]
     },
     "metadata": {},
     "output_type": "display_data"
    }
   ],
   "source": [
    "%load_ext fortranmagic"
   ]
  },
  {
   "cell_type": "code",
   "execution_count": 17,
   "metadata": {
    "execution": {
     "iopub.execute_input": "2020-08-12T13:17:20.691618Z",
     "iopub.status.busy": "2020-08-12T13:17:20.691019Z",
     "iopub.status.idle": "2020-08-12T13:17:22.802844Z",
     "shell.execute_reply": "2020-08-12T13:17:22.803304Z"
    }
   },
   "outputs": [],
   "source": [
    "%%fortran\n",
    "\n",
    "subroutine fortran_grayscott( U, V, Du, Dv, F, k)\n",
    "\n",
    "    real(8), intent(in) :: Du, Dv, F, k\n",
    "    real(8) :: U(:,:)\n",
    "    real(8) :: V(:,:)\n",
    "    real(8), allocatable :: Lu(:,:), Lv(:,:)\n",
    "    integer :: n, c, r, r1, c1, r2, c2\n",
    "    real(8) :: uvv\n",
    "\n",
    "    n = size(U,1)\n",
    "   \n",
    "    Lu = U(2:n-1,2:n-1)\n",
    "    Lv = V(2:n-1,2:n-1)\n",
    "\n",
    "    do c = 1, n-2\n",
    "        c1 = c + 1\n",
    "        c2 = c + 2\n",
    "        do r = 1, n-2\n",
    "            r1 = r + 1\n",
    "            r2 = r + 2 \n",
    "            Lu(r,c) = U(r1,c2) + U(r1,c) + U(r2,c1) + U(r,c1) - 4*U(r1,c1)\n",
    "            Lv(r,c) = V(r1,c2) + V(r1,c) + V(r2,c1) + V(r,c1) - 4*V(r1,c1)\n",
    "        end do\n",
    "    end do\n",
    "\n",
    "    do c = 1, n-2\n",
    "        c1 = c + 1\n",
    "        do r = 1, n-2\n",
    "            r1 = r + 1     \n",
    "            uvv = U(r1,c1)*V(r1,c1)*V(r1,c1)\n",
    "            U(r1,c1) = U(r1, c1) + Du*Lu(r,c) - uvv + F*(1 - U(r1,c1))\n",
    "            V(r1,c1) = V(r1, c1) + Dv*Lv(r,c) + uvv - (F + k)*V(r1,c1)\n",
    "        end do\n",
    "    end do\n",
    "\n",
    "end subroutine fortran_grayscott"
   ]
  },
  {
   "cell_type": "code",
   "execution_count": 18,
   "metadata": {
    "execution": {
     "iopub.execute_input": "2020-08-12T13:17:22.809266Z",
     "iopub.status.busy": "2020-08-12T13:17:22.808596Z",
     "iopub.status.idle": "2020-08-12T13:17:30.040942Z",
     "shell.execute_reply": "2020-08-12T13:17:30.039775Z"
    }
   },
   "outputs": [
    {
     "data": {
      "application/vnd.jupyter.widget-view+json": {
       "model_id": "2993f77e94f9411d9ef63d388b374599",
       "version_major": 2,
       "version_minor": 0
      },
      "text/plain": [
       "HBox(children=(FloatProgress(value=0.0, max=500.0), HTML(value='')))"
      ]
     },
     "metadata": {},
     "output_type": "display_data"
    },
    {
     "name": "stdout",
     "output_type": "stream",
     "text": [
      "\n"
     ]
    }
   ],
   "source": [
    "U, V = init(300)\n",
    "U = np.asfortranarray(U)\n",
    "V = np.asfortranarray(V)\n",
    "def create_image():\n",
    "    global U, V\n",
    "    for t in range(40):\n",
    "        fortran_grayscott(U, V, Du, Dv, F, k)\n",
    "    V_scaled = np.uint8(255*(V-V.min()) / (V.max()-V.min()))\n",
    "    return V_scaled\n",
    "\n",
    "def create_frames(n):\n",
    "\n",
    "    return [create_image() for i in tqdm(range(n))]\n",
    "    \n",
    "frames = create_frames(500)"
   ]
  },
  {
   "cell_type": "code",
   "execution_count": 19,
   "metadata": {
    "execution": {
     "iopub.execute_input": "2020-08-12T13:17:30.056797Z",
     "iopub.status.busy": "2020-08-12T13:17:30.055876Z",
     "iopub.status.idle": "2020-08-12T13:17:30.070281Z",
     "shell.execute_reply": "2020-08-12T13:17:30.068949Z"
    }
   },
   "outputs": [
    {
     "data": {
      "application/vnd.jupyter.widget-view+json": {
       "model_id": "026aec3a58cf4f059b90e66cd3e14792",
       "version_major": 2,
       "version_minor": 0
      },
      "text/plain": [
       "interactive(children=(IntSlider(value=0, description='iframe', max=499), Output()), _dom_classes=('widget-inte…"
      ]
     },
     "metadata": {},
     "output_type": "display_data"
    },
    {
     "data": {
      "text/plain": [
       "<function __main__.display_sequence(iframe)>"
      ]
     },
     "execution_count": 19,
     "metadata": {},
     "output_type": "execute_result"
    }
   ],
   "source": [
    "interact(display_sequence, \n",
    "         iframe=IntSlider(min=0,\n",
    "                          max=len(frames)-1,\n",
    "                          step=1,\n",
    "                          value=0, \n",
    "                          continuous_update=True))"
   ]
  },
  {
   "cell_type": "code",
   "execution_count": 20,
   "metadata": {
    "execution": {
     "iopub.execute_input": "2020-08-12T13:17:30.073858Z",
     "iopub.status.busy": "2020-08-12T13:17:30.073277Z",
     "iopub.status.idle": "2020-08-12T13:17:43.396477Z",
     "shell.execute_reply": "2020-08-12T13:17:43.396896Z"
    }
   },
   "outputs": [
    {
     "name": "stdout",
     "output_type": "stream",
     "text": [
      "1.66 ms ± 99 µs per loop (mean ± std. dev. of 7 runs, 1000 loops each)\n"
     ]
    }
   ],
   "source": [
    "U, V = init(300)\n",
    "%timeit numpy_grayscott(U, V, Du, Dv, F, k)"
   ]
  },
  {
   "cell_type": "code",
   "execution_count": 21,
   "metadata": {
    "execution": {
     "iopub.execute_input": "2020-08-12T13:17:43.400641Z",
     "iopub.status.busy": "2020-08-12T13:17:43.400061Z",
     "iopub.status.idle": "2020-08-12T13:17:53.875048Z",
     "shell.execute_reply": "2020-08-12T13:17:53.875681Z"
    }
   },
   "outputs": [
    {
     "name": "stdout",
     "output_type": "stream",
     "text": [
      "1.29 ms ± 38.1 µs per loop (mean ± std. dev. of 7 runs, 1000 loops each)\n"
     ]
    }
   ],
   "source": [
    "U, V = init(300)\n",
    "%timeit cython_grayscott(U, V, Du, Dv, F, k)"
   ]
  },
  {
   "cell_type": "code",
   "execution_count": 22,
   "metadata": {
    "execution": {
     "iopub.execute_input": "2020-08-12T13:17:53.880117Z",
     "iopub.status.busy": "2020-08-12T13:17:53.879509Z",
     "iopub.status.idle": "2020-08-12T13:17:56.795323Z",
     "shell.execute_reply": "2020-08-12T13:17:56.795759Z"
    }
   },
   "outputs": [
    {
     "name": "stdout",
     "output_type": "stream",
     "text": [
      "356 µs ± 6.3 µs per loop (mean ± std. dev. of 7 runs, 1000 loops each)\n"
     ]
    }
   ],
   "source": [
    "U, V = init(300)\n",
    "U = np.asfortranarray(U)\n",
    "V = np.asfortranarray(V)\n",
    "%timeit fortran_grayscott(U, V, Du, Dv, F, k)"
   ]
  },
  {
   "cell_type": "code",
   "execution_count": null,
   "metadata": {},
   "outputs": [],
   "source": []
  }
 ],
 "metadata": {
  "jupytext": {
   "comment_magics": false,
   "encoding": "# -*- coding: utf-8 -*-",
   "formats": "py,docs//ipynb"
  },
  "kernelspec": {
   "display_name": "Python 3",
   "language": "python",
   "name": "python3"
  },
  "language_info": {
   "codemirror_mode": {
    "name": "ipython",
    "version": 3
   },
   "file_extension": ".py",
   "mimetype": "text/x-python",
   "name": "python",
   "nbconvert_exporter": "python",
   "pygments_lexer": "ipython3",
   "version": "3.8.5"
  },
  "widgets": {
   "application/vnd.jupyter.widget-state+json": {
    "state": {
     "026aec3a58cf4f059b90e66cd3e14792": {
      "model_module": "@jupyter-widgets/controls",
      "model_module_version": "1.5.0",
      "model_name": "VBoxModel",
      "state": {
       "_dom_classes": [
        "widget-interact"
       ],
       "_model_module": "@jupyter-widgets/controls",
       "_model_module_version": "1.5.0",
       "_model_name": "VBoxModel",
       "_view_count": null,
       "_view_module": "@jupyter-widgets/controls",
       "_view_module_version": "1.5.0",
       "_view_name": "VBoxView",
       "box_style": "",
       "children": [
        "IPY_MODEL_1153ad5952c74f11b59de0395862a986",
        "IPY_MODEL_727b7988c4474473bbf5129152abacc0"
       ],
       "layout": "IPY_MODEL_2de52275dbd149c88327e090920b7e35"
      }
     },
     "03e1c0409c204b3abb796b3527e99f19": {
      "model_module": "@jupyter-widgets/base",
      "model_module_version": "1.2.0",
      "model_name": "LayoutModel",
      "state": {
       "_model_module": "@jupyter-widgets/base",
       "_model_module_version": "1.2.0",
       "_model_name": "LayoutModel",
       "_view_count": null,
       "_view_module": "@jupyter-widgets/base",
       "_view_module_version": "1.2.0",
       "_view_name": "LayoutView",
       "align_content": null,
       "align_items": null,
       "align_self": null,
       "border": null,
       "bottom": null,
       "display": null,
       "flex": null,
       "flex_flow": null,
       "grid_area": null,
       "grid_auto_columns": null,
       "grid_auto_flow": null,
       "grid_auto_rows": null,
       "grid_column": null,
       "grid_gap": null,
       "grid_row": null,
       "grid_template_areas": null,
       "grid_template_columns": null,
       "grid_template_rows": null,
       "height": null,
       "justify_content": null,
       "justify_items": null,
       "left": null,
       "margin": null,
       "max_height": null,
       "max_width": null,
       "min_height": null,
       "min_width": null,
       "object_fit": null,
       "object_position": null,
       "order": null,
       "overflow": null,
       "overflow_x": null,
       "overflow_y": null,
       "padding": null,
       "right": null,
       "top": null,
       "visibility": null,
       "width": null
      }
     },
     "0d433b85cd0441c2abcd1fd9f023279a": {
      "model_module": "@jupyter-widgets/base",
      "model_module_version": "1.2.0",
      "model_name": "LayoutModel",
      "state": {
       "_model_module": "@jupyter-widgets/base",
       "_model_module_version": "1.2.0",
       "_model_name": "LayoutModel",
       "_view_count": null,
       "_view_module": "@jupyter-widgets/base",
       "_view_module_version": "1.2.0",
       "_view_name": "LayoutView",
       "align_content": null,
       "align_items": null,
       "align_self": null,
       "border": null,
       "bottom": null,
       "display": null,
       "flex": null,
       "flex_flow": null,
       "grid_area": null,
       "grid_auto_columns": null,
       "grid_auto_flow": null,
       "grid_auto_rows": null,
       "grid_column": null,
       "grid_gap": null,
       "grid_row": null,
       "grid_template_areas": null,
       "grid_template_columns": null,
       "grid_template_rows": null,
       "height": null,
       "justify_content": null,
       "justify_items": null,
       "left": null,
       "margin": null,
       "max_height": null,
       "max_width": null,
       "min_height": null,
       "min_width": null,
       "object_fit": null,
       "object_position": null,
       "order": null,
       "overflow": null,
       "overflow_x": null,
       "overflow_y": null,
       "padding": null,
       "right": null,
       "top": null,
       "visibility": null,
       "width": null
      }
     },
     "1153ad5952c74f11b59de0395862a986": {
      "model_module": "@jupyter-widgets/controls",
      "model_module_version": "1.5.0",
      "model_name": "IntSliderModel",
      "state": {
       "_dom_classes": [],
       "_model_module": "@jupyter-widgets/controls",
       "_model_module_version": "1.5.0",
       "_model_name": "IntSliderModel",
       "_view_count": null,
       "_view_module": "@jupyter-widgets/controls",
       "_view_module_version": "1.5.0",
       "_view_name": "IntSliderView",
       "continuous_update": true,
       "description": "iframe",
       "description_tooltip": null,
       "disabled": false,
       "layout": "IPY_MODEL_ec0d2d47b1064c639221b333047ab93b",
       "max": 499,
       "min": 0,
       "orientation": "horizontal",
       "readout": true,
       "readout_format": "d",
       "step": 1,
       "style": "IPY_MODEL_189c448801d442a5a9220a2bb9cd0240",
       "value": 0
      }
     },
     "144d83e13ef149068f8c95ae1ce85146": {
      "model_module": "@jupyter-widgets/base",
      "model_module_version": "1.2.0",
      "model_name": "LayoutModel",
      "state": {
       "_model_module": "@jupyter-widgets/base",
       "_model_module_version": "1.2.0",
       "_model_name": "LayoutModel",
       "_view_count": null,
       "_view_module": "@jupyter-widgets/base",
       "_view_module_version": "1.2.0",
       "_view_name": "LayoutView",
       "align_content": null,
       "align_items": null,
       "align_self": null,
       "border": null,
       "bottom": null,
       "display": null,
       "flex": null,
       "flex_flow": null,
       "grid_area": null,
       "grid_auto_columns": null,
       "grid_auto_flow": null,
       "grid_auto_rows": null,
       "grid_column": null,
       "grid_gap": null,
       "grid_row": null,
       "grid_template_areas": null,
       "grid_template_columns": null,
       "grid_template_rows": null,
       "height": null,
       "justify_content": null,
       "justify_items": null,
       "left": null,
       "margin": null,
       "max_height": null,
       "max_width": null,
       "min_height": null,
       "min_width": null,
       "object_fit": null,
       "object_position": null,
       "order": null,
       "overflow": null,
       "overflow_x": null,
       "overflow_y": null,
       "padding": null,
       "right": null,
       "top": null,
       "visibility": null,
       "width": null
      }
     },
     "1614d4175acb4fd7a2480b6b18bdb96b": {
      "model_module": "@jupyter-widgets/controls",
      "model_module_version": "1.5.0",
      "model_name": "VBoxModel",
      "state": {
       "_dom_classes": [
        "widget-interact"
       ],
       "_model_module": "@jupyter-widgets/controls",
       "_model_module_version": "1.5.0",
       "_model_name": "VBoxModel",
       "_view_count": null,
       "_view_module": "@jupyter-widgets/controls",
       "_view_module_version": "1.5.0",
       "_view_name": "VBoxView",
       "box_style": "",
       "children": [
        "IPY_MODEL_d31baf9531544aeaac024cc9ba57fdd4",
        "IPY_MODEL_cd093f983df04c1e82e949ead6c3868f"
       ],
       "layout": "IPY_MODEL_ac932a282dcb4d4db42f79c4ecd75899"
      }
     },
     "189c448801d442a5a9220a2bb9cd0240": {
      "model_module": "@jupyter-widgets/controls",
      "model_module_version": "1.5.0",
      "model_name": "SliderStyleModel",
      "state": {
       "_model_module": "@jupyter-widgets/controls",
       "_model_module_version": "1.5.0",
       "_model_name": "SliderStyleModel",
       "_view_count": null,
       "_view_module": "@jupyter-widgets/base",
       "_view_module_version": "1.2.0",
       "_view_name": "StyleView",
       "description_width": "",
       "handle_color": null
      }
     },
     "1f2474852295442ba3bd0f41253aa422": {
      "model_module": "@jupyter-widgets/base",
      "model_module_version": "1.2.0",
      "model_name": "LayoutModel",
      "state": {
       "_model_module": "@jupyter-widgets/base",
       "_model_module_version": "1.2.0",
       "_model_name": "LayoutModel",
       "_view_count": null,
       "_view_module": "@jupyter-widgets/base",
       "_view_module_version": "1.2.0",
       "_view_name": "LayoutView",
       "align_content": null,
       "align_items": null,
       "align_self": null,
       "border": null,
       "bottom": null,
       "display": null,
       "flex": null,
       "flex_flow": null,
       "grid_area": null,
       "grid_auto_columns": null,
       "grid_auto_flow": null,
       "grid_auto_rows": null,
       "grid_column": null,
       "grid_gap": null,
       "grid_row": null,
       "grid_template_areas": null,
       "grid_template_columns": null,
       "grid_template_rows": null,
       "height": null,
       "justify_content": null,
       "justify_items": null,
       "left": null,
       "margin": null,
       "max_height": null,
       "max_width": null,
       "min_height": null,
       "min_width": null,
       "object_fit": null,
       "object_position": null,
       "order": null,
       "overflow": null,
       "overflow_x": null,
       "overflow_y": null,
       "padding": null,
       "right": null,
       "top": null,
       "visibility": null,
       "width": null
      }
     },
     "24cf2781c4da4afaa0dfcea31e5e77f4": {
      "model_module": "@jupyter-widgets/controls",
      "model_module_version": "1.5.0",
      "model_name": "ProgressStyleModel",
      "state": {
       "_model_module": "@jupyter-widgets/controls",
       "_model_module_version": "1.5.0",
       "_model_name": "ProgressStyleModel",
       "_view_count": null,
       "_view_module": "@jupyter-widgets/base",
       "_view_module_version": "1.2.0",
       "_view_name": "StyleView",
       "bar_color": null,
       "description_width": "initial"
      }
     },
     "2993f77e94f9411d9ef63d388b374599": {
      "model_module": "@jupyter-widgets/controls",
      "model_module_version": "1.5.0",
      "model_name": "HBoxModel",
      "state": {
       "_dom_classes": [],
       "_model_module": "@jupyter-widgets/controls",
       "_model_module_version": "1.5.0",
       "_model_name": "HBoxModel",
       "_view_count": null,
       "_view_module": "@jupyter-widgets/controls",
       "_view_module_version": "1.5.0",
       "_view_name": "HBoxView",
       "box_style": "",
       "children": [
        "IPY_MODEL_a1e2cd247db742f9b0237ea04dd40767",
        "IPY_MODEL_2c5712c6ce484952aa6edb165ae1e576"
       ],
       "layout": "IPY_MODEL_578ebd34d5574bdd93b96ff32ae47351"
      }
     },
     "2bcce925769d4eb68094f910c8ad98b2": {
      "model_module": "@jupyter-widgets/controls",
      "model_module_version": "1.5.0",
      "model_name": "SliderStyleModel",
      "state": {
       "_model_module": "@jupyter-widgets/controls",
       "_model_module_version": "1.5.0",
       "_model_name": "SliderStyleModel",
       "_view_count": null,
       "_view_module": "@jupyter-widgets/base",
       "_view_module_version": "1.2.0",
       "_view_name": "StyleView",
       "description_width": "",
       "handle_color": null
      }
     },
     "2c5712c6ce484952aa6edb165ae1e576": {
      "model_module": "@jupyter-widgets/controls",
      "model_module_version": "1.5.0",
      "model_name": "HTMLModel",
      "state": {
       "_dom_classes": [],
       "_model_module": "@jupyter-widgets/controls",
       "_model_module_version": "1.5.0",
       "_model_name": "HTMLModel",
       "_view_count": null,
       "_view_module": "@jupyter-widgets/controls",
       "_view_module_version": "1.5.0",
       "_view_name": "HTMLView",
       "description": "",
       "description_tooltip": null,
       "layout": "IPY_MODEL_478f0556259349cfa5bcde2089b3ee7e",
       "placeholder": "​",
       "style": "IPY_MODEL_3f4908433ede4577b999f85c02783a13",
       "value": " 500/500 [00:07&lt;00:00, 69.26it/s]"
      }
     },
     "2cf8754e4b8c4e58a83da6bd2add5972": {
      "model_module": "@jupyter-widgets/controls",
      "model_module_version": "1.5.0",
      "model_name": "ProgressStyleModel",
      "state": {
       "_model_module": "@jupyter-widgets/controls",
       "_model_module_version": "1.5.0",
       "_model_name": "ProgressStyleModel",
       "_view_count": null,
       "_view_module": "@jupyter-widgets/base",
       "_view_module_version": "1.2.0",
       "_view_name": "StyleView",
       "bar_color": null,
       "description_width": "initial"
      }
     },
     "2de52275dbd149c88327e090920b7e35": {
      "model_module": "@jupyter-widgets/base",
      "model_module_version": "1.2.0",
      "model_name": "LayoutModel",
      "state": {
       "_model_module": "@jupyter-widgets/base",
       "_model_module_version": "1.2.0",
       "_model_name": "LayoutModel",
       "_view_count": null,
       "_view_module": "@jupyter-widgets/base",
       "_view_module_version": "1.2.0",
       "_view_name": "LayoutView",
       "align_content": null,
       "align_items": null,
       "align_self": null,
       "border": null,
       "bottom": null,
       "display": null,
       "flex": null,
       "flex_flow": null,
       "grid_area": null,
       "grid_auto_columns": null,
       "grid_auto_flow": null,
       "grid_auto_rows": null,
       "grid_column": null,
       "grid_gap": null,
       "grid_row": null,
       "grid_template_areas": null,
       "grid_template_columns": null,
       "grid_template_rows": null,
       "height": null,
       "justify_content": null,
       "justify_items": null,
       "left": null,
       "margin": null,
       "max_height": null,
       "max_width": null,
       "min_height": null,
       "min_width": null,
       "object_fit": null,
       "object_position": null,
       "order": null,
       "overflow": null,
       "overflow_x": null,
       "overflow_y": null,
       "padding": null,
       "right": null,
       "top": null,
       "visibility": null,
       "width": null
      }
     },
     "3059a5ea00fb4f18ae99285a116ab30a": {
      "model_module": "@jupyter-widgets/controls",
      "model_module_version": "1.5.0",
      "model_name": "DescriptionStyleModel",
      "state": {
       "_model_module": "@jupyter-widgets/controls",
       "_model_module_version": "1.5.0",
       "_model_name": "DescriptionStyleModel",
       "_view_count": null,
       "_view_module": "@jupyter-widgets/base",
       "_view_module_version": "1.2.0",
       "_view_name": "StyleView",
       "description_width": ""
      }
     },
     "310f8e500f58432c82c50b7a9fca6f88": {
      "model_module": "@jupyter-widgets/controls",
      "model_module_version": "1.5.0",
      "model_name": "DescriptionStyleModel",
      "state": {
       "_model_module": "@jupyter-widgets/controls",
       "_model_module_version": "1.5.0",
       "_model_name": "DescriptionStyleModel",
       "_view_count": null,
       "_view_module": "@jupyter-widgets/base",
       "_view_module_version": "1.2.0",
       "_view_name": "StyleView",
       "description_width": ""
      }
     },
     "32691885ee1d4f269fce2c0b2d3beea6": {
      "model_module": "@jupyter-widgets/base",
      "model_module_version": "1.2.0",
      "model_name": "LayoutModel",
      "state": {
       "_model_module": "@jupyter-widgets/base",
       "_model_module_version": "1.2.0",
       "_model_name": "LayoutModel",
       "_view_count": null,
       "_view_module": "@jupyter-widgets/base",
       "_view_module_version": "1.2.0",
       "_view_name": "LayoutView",
       "align_content": null,
       "align_items": null,
       "align_self": null,
       "border": null,
       "bottom": null,
       "display": null,
       "flex": null,
       "flex_flow": null,
       "grid_area": null,
       "grid_auto_columns": null,
       "grid_auto_flow": null,
       "grid_auto_rows": null,
       "grid_column": null,
       "grid_gap": null,
       "grid_row": null,
       "grid_template_areas": null,
       "grid_template_columns": null,
       "grid_template_rows": null,
       "height": null,
       "justify_content": null,
       "justify_items": null,
       "left": null,
       "margin": null,
       "max_height": null,
       "max_width": null,
       "min_height": null,
       "min_width": null,
       "object_fit": null,
       "object_position": null,
       "order": null,
       "overflow": null,
       "overflow_x": null,
       "overflow_y": null,
       "padding": null,
       "right": null,
       "top": null,
       "visibility": null,
       "width": null
      }
     },
     "372b91dee129459892493b51dc617c8c": {
      "model_module": "@jupyter-widgets/controls",
      "model_module_version": "1.5.0",
      "model_name": "FloatProgressModel",
      "state": {
       "_dom_classes": [],
       "_model_module": "@jupyter-widgets/controls",
       "_model_module_version": "1.5.0",
       "_model_name": "FloatProgressModel",
       "_view_count": null,
       "_view_module": "@jupyter-widgets/controls",
       "_view_module_version": "1.5.0",
       "_view_name": "ProgressView",
       "bar_style": "success",
       "description": "100%",
       "description_tooltip": null,
       "layout": "IPY_MODEL_0d433b85cd0441c2abcd1fd9f023279a",
       "max": 500.0,
       "min": 0.0,
       "orientation": "horizontal",
       "style": "IPY_MODEL_e3182e3c6f8746f3b470c95005b71cce",
       "value": 500.0
      }
     },
     "3f4908433ede4577b999f85c02783a13": {
      "model_module": "@jupyter-widgets/controls",
      "model_module_version": "1.5.0",
      "model_name": "DescriptionStyleModel",
      "state": {
       "_model_module": "@jupyter-widgets/controls",
       "_model_module_version": "1.5.0",
       "_model_name": "DescriptionStyleModel",
       "_view_count": null,
       "_view_module": "@jupyter-widgets/base",
       "_view_module_version": "1.2.0",
       "_view_name": "StyleView",
       "description_width": ""
      }
     },
     "478f0556259349cfa5bcde2089b3ee7e": {
      "model_module": "@jupyter-widgets/base",
      "model_module_version": "1.2.0",
      "model_name": "LayoutModel",
      "state": {
       "_model_module": "@jupyter-widgets/base",
       "_model_module_version": "1.2.0",
       "_model_name": "LayoutModel",
       "_view_count": null,
       "_view_module": "@jupyter-widgets/base",
       "_view_module_version": "1.2.0",
       "_view_name": "LayoutView",
       "align_content": null,
       "align_items": null,
       "align_self": null,
       "border": null,
       "bottom": null,
       "display": null,
       "flex": null,
       "flex_flow": null,
       "grid_area": null,
       "grid_auto_columns": null,
       "grid_auto_flow": null,
       "grid_auto_rows": null,
       "grid_column": null,
       "grid_gap": null,
       "grid_row": null,
       "grid_template_areas": null,
       "grid_template_columns": null,
       "grid_template_rows": null,
       "height": null,
       "justify_content": null,
       "justify_items": null,
       "left": null,
       "margin": null,
       "max_height": null,
       "max_width": null,
       "min_height": null,
       "min_width": null,
       "object_fit": null,
       "object_position": null,
       "order": null,
       "overflow": null,
       "overflow_x": null,
       "overflow_y": null,
       "padding": null,
       "right": null,
       "top": null,
       "visibility": null,
       "width": null
      }
     },
     "4799c0686f9f41c291d20cf9bb182ac8": {
      "model_module": "@jupyter-widgets/base",
      "model_module_version": "1.2.0",
      "model_name": "LayoutModel",
      "state": {
       "_model_module": "@jupyter-widgets/base",
       "_model_module_version": "1.2.0",
       "_model_name": "LayoutModel",
       "_view_count": null,
       "_view_module": "@jupyter-widgets/base",
       "_view_module_version": "1.2.0",
       "_view_name": "LayoutView",
       "align_content": null,
       "align_items": null,
       "align_self": null,
       "border": null,
       "bottom": null,
       "display": null,
       "flex": null,
       "flex_flow": null,
       "grid_area": null,
       "grid_auto_columns": null,
       "grid_auto_flow": null,
       "grid_auto_rows": null,
       "grid_column": null,
       "grid_gap": null,
       "grid_row": null,
       "grid_template_areas": null,
       "grid_template_columns": null,
       "grid_template_rows": null,
       "height": null,
       "justify_content": null,
       "justify_items": null,
       "left": null,
       "margin": null,
       "max_height": null,
       "max_width": null,
       "min_height": null,
       "min_width": null,
       "object_fit": null,
       "object_position": null,
       "order": null,
       "overflow": null,
       "overflow_x": null,
       "overflow_y": null,
       "padding": null,
       "right": null,
       "top": null,
       "visibility": null,
       "width": null
      }
     },
     "48ce564c075d4298ac346d89384e64fe": {
      "model_module": "@jupyter-widgets/output",
      "model_module_version": "1.0.0",
      "model_name": "OutputModel",
      "state": {
       "_dom_classes": [],
       "_model_module": "@jupyter-widgets/output",
       "_model_module_version": "1.0.0",
       "_model_name": "OutputModel",
       "_view_count": null,
       "_view_module": "@jupyter-widgets/output",
       "_view_module_version": "1.0.0",
       "_view_name": "OutputView",
       "layout": "IPY_MODEL_03e1c0409c204b3abb796b3527e99f19",
       "msg_id": "",
       "outputs": [
        {
         "data": {
          "image/png": "iVBORw0KGgoAAAANSUhEUgAAAS4AAAEuCAAAAAAVK6CfAAACOUlEQVR4nO3cS2ocMRRAUUmUy39MFmDoidfgjWUZWVcga/DEkLEHiX/p6kLKJHPz2jbPJufMG6kuQvTkqRQAAAAAAAAAAAAAAAAAAAAAAAAAAAAAAAAAAAAAAAAAAAAA+Ihq4sr7rj3KeNOdBKTlqm1q+y0++tqzemXlqtPRxekUPye11PXx1581qdeUs2xtR5fXV4fr2kPBamnTtL358fMp6Xwl5SrTxfXXzfPDEvzs2uaz49tvv5flnfb1grTTdXq1Od7WWoO3Qa3tZHP1/a7+X6erTofP27v7XQ/+rh0spR9OWVduVq4y1od6/7CEc81lHlkXfWKusi51t+zCd1fZLWN9py29LO909V5779Fcpfc+0v52lZa1cCmjlDKCHz7Gvx8mycv1io/O65V4uj4juULkCpErRK4QuULkCpErRK4QuULkCpErRK4QuULkCpErRK4QuULkCpErRK4QuULkCpErRK4QuULkCpErRK4QuULkCpErRK4QuULkCpErRK4QuULkCpErRK4QuULkCsnL9YoJzrzXHBJPVy2lxGeLS2atvHnG2lptrQWnx2prrY09H6B4A3nTstNcD+YSHy4+mEfiprMWrtNZW8oeo+vn5z1tcj0t11i3xydl3mN0/fzL0zZtdj0p1+iPN7ebPkZwuriO0Z9ubx6zprGTjnVtJ5/yURdPBgWXT+JBqujKn/C5MwAAAAAAAAAAAAAAAAAAAAAAAAAAAAAAAAAAAAAAAAAAAAD4mP4C+l+ZgdAL/OcAAAAASUVORK5CYII=\n",
          "text/plain": "<PIL.Image.Image image mode=L size=302x302 at 0x109F80BE0>"
         },
         "metadata": {},
         "output_type": "display_data"
        }
       ]
      }
     },
     "4de476b3dfa2459e9b1bc7ff69355527": {
      "model_module": "@jupyter-widgets/base",
      "model_module_version": "1.2.0",
      "model_name": "LayoutModel",
      "state": {
       "_model_module": "@jupyter-widgets/base",
       "_model_module_version": "1.2.0",
       "_model_name": "LayoutModel",
       "_view_count": null,
       "_view_module": "@jupyter-widgets/base",
       "_view_module_version": "1.2.0",
       "_view_name": "LayoutView",
       "align_content": null,
       "align_items": null,
       "align_self": null,
       "border": null,
       "bottom": null,
       "display": null,
       "flex": null,
       "flex_flow": null,
       "grid_area": null,
       "grid_auto_columns": null,
       "grid_auto_flow": null,
       "grid_auto_rows": null,
       "grid_column": null,
       "grid_gap": null,
       "grid_row": null,
       "grid_template_areas": null,
       "grid_template_columns": null,
       "grid_template_rows": null,
       "height": null,
       "justify_content": null,
       "justify_items": null,
       "left": null,
       "margin": null,
       "max_height": null,
       "max_width": null,
       "min_height": null,
       "min_width": null,
       "object_fit": null,
       "object_position": null,
       "order": null,
       "overflow": null,
       "overflow_x": null,
       "overflow_y": null,
       "padding": null,
       "right": null,
       "top": null,
       "visibility": null,
       "width": null
      }
     },
     "53d83f506fdc4587ab0ac2f8d4105a3e": {
      "model_module": "@jupyter-widgets/base",
      "model_module_version": "1.2.0",
      "model_name": "LayoutModel",
      "state": {
       "_model_module": "@jupyter-widgets/base",
       "_model_module_version": "1.2.0",
       "_model_name": "LayoutModel",
       "_view_count": null,
       "_view_module": "@jupyter-widgets/base",
       "_view_module_version": "1.2.0",
       "_view_name": "LayoutView",
       "align_content": null,
       "align_items": null,
       "align_self": null,
       "border": null,
       "bottom": null,
       "display": null,
       "flex": null,
       "flex_flow": null,
       "grid_area": null,
       "grid_auto_columns": null,
       "grid_auto_flow": null,
       "grid_auto_rows": null,
       "grid_column": null,
       "grid_gap": null,
       "grid_row": null,
       "grid_template_areas": null,
       "grid_template_columns": null,
       "grid_template_rows": null,
       "height": null,
       "justify_content": null,
       "justify_items": null,
       "left": null,
       "margin": null,
       "max_height": null,
       "max_width": null,
       "min_height": null,
       "min_width": null,
       "object_fit": null,
       "object_position": null,
       "order": null,
       "overflow": null,
       "overflow_x": null,
       "overflow_y": null,
       "padding": null,
       "right": null,
       "top": null,
       "visibility": null,
       "width": null
      }
     },
     "578ebd34d5574bdd93b96ff32ae47351": {
      "model_module": "@jupyter-widgets/base",
      "model_module_version": "1.2.0",
      "model_name": "LayoutModel",
      "state": {
       "_model_module": "@jupyter-widgets/base",
       "_model_module_version": "1.2.0",
       "_model_name": "LayoutModel",
       "_view_count": null,
       "_view_module": "@jupyter-widgets/base",
       "_view_module_version": "1.2.0",
       "_view_name": "LayoutView",
       "align_content": null,
       "align_items": null,
       "align_self": null,
       "border": null,
       "bottom": null,
       "display": null,
       "flex": null,
       "flex_flow": null,
       "grid_area": null,
       "grid_auto_columns": null,
       "grid_auto_flow": null,
       "grid_auto_rows": null,
       "grid_column": null,
       "grid_gap": null,
       "grid_row": null,
       "grid_template_areas": null,
       "grid_template_columns": null,
       "grid_template_rows": null,
       "height": null,
       "justify_content": null,
       "justify_items": null,
       "left": null,
       "margin": null,
       "max_height": null,
       "max_width": null,
       "min_height": null,
       "min_width": null,
       "object_fit": null,
       "object_position": null,
       "order": null,
       "overflow": null,
       "overflow_x": null,
       "overflow_y": null,
       "padding": null,
       "right": null,
       "top": null,
       "visibility": null,
       "width": null
      }
     },
     "57a17aceaa7f43519bb90ca7d444f29c": {
      "model_module": "@jupyter-widgets/controls",
      "model_module_version": "1.5.0",
      "model_name": "IntSliderModel",
      "state": {
       "_dom_classes": [],
       "_model_module": "@jupyter-widgets/controls",
       "_model_module_version": "1.5.0",
       "_model_name": "IntSliderModel",
       "_view_count": null,
       "_view_module": "@jupyter-widgets/controls",
       "_view_module_version": "1.5.0",
       "_view_name": "IntSliderView",
       "continuous_update": true,
       "description": "iframe",
       "description_tooltip": null,
       "disabled": false,
       "layout": "IPY_MODEL_4799c0686f9f41c291d20cf9bb182ac8",
       "max": 499,
       "min": 0,
       "orientation": "horizontal",
       "readout": true,
       "readout_format": "d",
       "step": 1,
       "style": "IPY_MODEL_2bcce925769d4eb68094f910c8ad98b2",
       "value": 0
      }
     },
     "636dbf7d1f584b3abc7a3f4fd327313e": {
      "model_module": "@jupyter-widgets/controls",
      "model_module_version": "1.5.0",
      "model_name": "SliderStyleModel",
      "state": {
       "_model_module": "@jupyter-widgets/controls",
       "_model_module_version": "1.5.0",
       "_model_name": "SliderStyleModel",
       "_view_count": null,
       "_view_module": "@jupyter-widgets/base",
       "_view_module_version": "1.2.0",
       "_view_name": "StyleView",
       "description_width": "",
       "handle_color": null
      }
     },
     "727b7988c4474473bbf5129152abacc0": {
      "model_module": "@jupyter-widgets/output",
      "model_module_version": "1.0.0",
      "model_name": "OutputModel",
      "state": {
       "_dom_classes": [],
       "_model_module": "@jupyter-widgets/output",
       "_model_module_version": "1.0.0",
       "_model_name": "OutputModel",
       "_view_count": null,
       "_view_module": "@jupyter-widgets/output",
       "_view_module_version": "1.0.0",
       "_view_name": "OutputView",
       "layout": "IPY_MODEL_53d83f506fdc4587ab0ac2f8d4105a3e",
       "msg_id": "",
       "outputs": [
        {
         "data": {
          "image/png": "iVBORw0KGgoAAAANSUhEUgAAAS4AAAEuCAAAAAAVK6CfAAACOklEQVR4nO3cS2ocMRRAUUmUy25/MFlAoCdegzeWZWRdgazBE0PGHiT+pasLKZPMzWvHPJucM2+kugjRk6dSAAAAAAAAAAAAAAAAAAAAAAAAAAAAAAAAAAAAAAAAAAAAAOA9qokrH7r2KOOf7iQgLVdtUzts8dHXntUrK1edTi7Ppvg5qaWujz9/r0m9ppxlazv5fH11vK49FKyWNk27m+8/npLOV1KuMl1ef9k+PyzBz65tPt/cfv21LG+0rxekna6zq+1mV2sN3ga1ts326ttd/b9OV52On3d39/se/F07Wko/nrKu3KxcZawP9f5hCeeayzyyLvrEXGVd6n7Zh++usl/G+kZbelne6eq99t6juUrvfaT97Sota+FSRillBD98jL8/TJKX6xUfndcr8XR9RHKFyBUiV4hcIXKFyBUiV4hcIXKFyBUiV4hcIXKFyBUiV4hcIXKFyBUiV4hcIXKFyBUiV4hcIXKFyBUiV4hcIXKFyBUiV4hcIXKFyBUiV4hcIXKFyBUiV4hcIXKFyBWSl+sVE5x5rzkknq5aSonPFpfMWnnzjLW12loLTo/V1lobBz5A8Q/kTctOcz2aS3y4+GgeiZvOWrhO520pB4yuX1z0tMn1tFxj3W1Oy3zA6PrFp6dd2ux6Uq7RH29ut32M4HRxHaM/3d48Zk1jJx3r2k4/5KMungwKLp/Eg1TRlT/gc2cAAAAAAAAAAAAAAAAAAAAAAAAAAAAAAAAAAAAAAAAAAAAA8D79ASc1mYAeD/wQAAAAAElFTkSuQmCC\n",
          "text/plain": "<PIL.Image.Image image mode=L size=302x302 at 0x109F27370>"
         },
         "metadata": {},
         "output_type": "display_data"
        }
       ]
      }
     },
     "758bf3ed05764ad9b198261b5ac0d5f6": {
      "model_module": "@jupyter-widgets/controls",
      "model_module_version": "1.5.0",
      "model_name": "VBoxModel",
      "state": {
       "_dom_classes": [
        "widget-interact"
       ],
       "_model_module": "@jupyter-widgets/controls",
       "_model_module_version": "1.5.0",
       "_model_name": "VBoxModel",
       "_view_count": null,
       "_view_module": "@jupyter-widgets/controls",
       "_view_module_version": "1.5.0",
       "_view_name": "VBoxView",
       "box_style": "",
       "children": [
        "IPY_MODEL_57a17aceaa7f43519bb90ca7d444f29c",
        "IPY_MODEL_48ce564c075d4298ac346d89384e64fe"
       ],
       "layout": "IPY_MODEL_4de476b3dfa2459e9b1bc7ff69355527"
      }
     },
     "7e5c6060e30d4910ad65b43e79265bf3": {
      "model_module": "@jupyter-widgets/controls",
      "model_module_version": "1.5.0",
      "model_name": "HBoxModel",
      "state": {
       "_dom_classes": [],
       "_model_module": "@jupyter-widgets/controls",
       "_model_module_version": "1.5.0",
       "_model_name": "HBoxModel",
       "_view_count": null,
       "_view_module": "@jupyter-widgets/controls",
       "_view_module_version": "1.5.0",
       "_view_name": "HBoxView",
       "box_style": "",
       "children": [
        "IPY_MODEL_372b91dee129459892493b51dc617c8c",
        "IPY_MODEL_7f77750f41b640a0a86fef86d5a81fff"
       ],
       "layout": "IPY_MODEL_144d83e13ef149068f8c95ae1ce85146"
      }
     },
     "7f77750f41b640a0a86fef86d5a81fff": {
      "model_module": "@jupyter-widgets/controls",
      "model_module_version": "1.5.0",
      "model_name": "HTMLModel",
      "state": {
       "_dom_classes": [],
       "_model_module": "@jupyter-widgets/controls",
       "_model_module_version": "1.5.0",
       "_model_name": "HTMLModel",
       "_view_count": null,
       "_view_module": "@jupyter-widgets/controls",
       "_view_module_version": "1.5.0",
       "_view_name": "HTMLView",
       "description": "",
       "description_tooltip": null,
       "layout": "IPY_MODEL_32691885ee1d4f269fce2c0b2d3beea6",
       "placeholder": "​",
       "style": "IPY_MODEL_3059a5ea00fb4f18ae99285a116ab30a",
       "value": " 500/500 [00:31&lt;00:00, 15.74it/s]"
      }
     },
     "80158117c68f4e3fb100b07f666694af": {
      "model_module": "@jupyter-widgets/base",
      "model_module_version": "1.2.0",
      "model_name": "LayoutModel",
      "state": {
       "_model_module": "@jupyter-widgets/base",
       "_model_module_version": "1.2.0",
       "_model_name": "LayoutModel",
       "_view_count": null,
       "_view_module": "@jupyter-widgets/base",
       "_view_module_version": "1.2.0",
       "_view_name": "LayoutView",
       "align_content": null,
       "align_items": null,
       "align_self": null,
       "border": null,
       "bottom": null,
       "display": null,
       "flex": null,
       "flex_flow": null,
       "grid_area": null,
       "grid_auto_columns": null,
       "grid_auto_flow": null,
       "grid_auto_rows": null,
       "grid_column": null,
       "grid_gap": null,
       "grid_row": null,
       "grid_template_areas": null,
       "grid_template_columns": null,
       "grid_template_rows": null,
       "height": null,
       "justify_content": null,
       "justify_items": null,
       "left": null,
       "margin": null,
       "max_height": null,
       "max_width": null,
       "min_height": null,
       "min_width": null,
       "object_fit": null,
       "object_position": null,
       "order": null,
       "overflow": null,
       "overflow_x": null,
       "overflow_y": null,
       "padding": null,
       "right": null,
       "top": null,
       "visibility": null,
       "width": null
      }
     },
     "941edf05aa5a40d0b42a7fe0c24a95b3": {
      "model_module": "@jupyter-widgets/base",
      "model_module_version": "1.2.0",
      "model_name": "LayoutModel",
      "state": {
       "_model_module": "@jupyter-widgets/base",
       "_model_module_version": "1.2.0",
       "_model_name": "LayoutModel",
       "_view_count": null,
       "_view_module": "@jupyter-widgets/base",
       "_view_module_version": "1.2.0",
       "_view_name": "LayoutView",
       "align_content": null,
       "align_items": null,
       "align_self": null,
       "border": null,
       "bottom": null,
       "display": null,
       "flex": null,
       "flex_flow": null,
       "grid_area": null,
       "grid_auto_columns": null,
       "grid_auto_flow": null,
       "grid_auto_rows": null,
       "grid_column": null,
       "grid_gap": null,
       "grid_row": null,
       "grid_template_areas": null,
       "grid_template_columns": null,
       "grid_template_rows": null,
       "height": null,
       "justify_content": null,
       "justify_items": null,
       "left": null,
       "margin": null,
       "max_height": null,
       "max_width": null,
       "min_height": null,
       "min_width": null,
       "object_fit": null,
       "object_position": null,
       "order": null,
       "overflow": null,
       "overflow_x": null,
       "overflow_y": null,
       "padding": null,
       "right": null,
       "top": null,
       "visibility": null,
       "width": null
      }
     },
     "a1e2cd247db742f9b0237ea04dd40767": {
      "model_module": "@jupyter-widgets/controls",
      "model_module_version": "1.5.0",
      "model_name": "FloatProgressModel",
      "state": {
       "_dom_classes": [],
       "_model_module": "@jupyter-widgets/controls",
       "_model_module_version": "1.5.0",
       "_model_name": "FloatProgressModel",
       "_view_count": null,
       "_view_module": "@jupyter-widgets/controls",
       "_view_module_version": "1.5.0",
       "_view_name": "ProgressView",
       "bar_style": "success",
       "description": "100%",
       "description_tooltip": null,
       "layout": "IPY_MODEL_1f2474852295442ba3bd0f41253aa422",
       "max": 500.0,
       "min": 0.0,
       "orientation": "horizontal",
       "style": "IPY_MODEL_2cf8754e4b8c4e58a83da6bd2add5972",
       "value": 500.0
      }
     },
     "ac932a282dcb4d4db42f79c4ecd75899": {
      "model_module": "@jupyter-widgets/base",
      "model_module_version": "1.2.0",
      "model_name": "LayoutModel",
      "state": {
       "_model_module": "@jupyter-widgets/base",
       "_model_module_version": "1.2.0",
       "_model_name": "LayoutModel",
       "_view_count": null,
       "_view_module": "@jupyter-widgets/base",
       "_view_module_version": "1.2.0",
       "_view_name": "LayoutView",
       "align_content": null,
       "align_items": null,
       "align_self": null,
       "border": null,
       "bottom": null,
       "display": null,
       "flex": null,
       "flex_flow": null,
       "grid_area": null,
       "grid_auto_columns": null,
       "grid_auto_flow": null,
       "grid_auto_rows": null,
       "grid_column": null,
       "grid_gap": null,
       "grid_row": null,
       "grid_template_areas": null,
       "grid_template_columns": null,
       "grid_template_rows": null,
       "height": null,
       "justify_content": null,
       "justify_items": null,
       "left": null,
       "margin": null,
       "max_height": null,
       "max_width": null,
       "min_height": null,
       "min_width": null,
       "object_fit": null,
       "object_position": null,
       "order": null,
       "overflow": null,
       "overflow_x": null,
       "overflow_y": null,
       "padding": null,
       "right": null,
       "top": null,
       "visibility": null,
       "width": null
      }
     },
     "cd093f983df04c1e82e949ead6c3868f": {
      "model_module": "@jupyter-widgets/output",
      "model_module_version": "1.0.0",
      "model_name": "OutputModel",
      "state": {
       "_dom_classes": [],
       "_model_module": "@jupyter-widgets/output",
       "_model_module_version": "1.0.0",
       "_model_name": "OutputModel",
       "_view_count": null,
       "_view_module": "@jupyter-widgets/output",
       "_view_module_version": "1.0.0",
       "_view_name": "OutputView",
       "layout": "IPY_MODEL_e9f6d4bb1eb44b488004a904cee87366",
       "msg_id": "",
       "outputs": [
        {
         "data": {
          "image/png": "iVBORw0KGgoAAAANSUhEUgAAAS4AAAEuCAAAAAAVK6CfAAACOklEQVR4nO3cP04cMRTAYdsaBlhAKAeItA1n4GI5Rs4VKWegQUpNkfAvOzuy06RHbwl6oHxfv7LnJ8va5rkUAAAAAAAAAAAAAAAAAAAAAAAAAAAAAAAAAAAAAAAAAAAAAHiPauLKh649yvinOwlIy1Xb1A5bfPS1Z/XKylWnk8uzKX5Oaqnr48/fa1KvKWfZ2k4+X18dr2sPBaulTdPu5vuPp6TzlZSrTJfXX7bPD0vws2ubz09vv/5aljfa1wvSTtfZ1Xazq7UGb4Na22Z79e2u/l+nq07Hz7u7+30P/q4dLaUfT1lXblauMtaHev+whHPNZR5ZF31irrIudb/sw3dX2S9jfaMtvSzvdPVee+/RXKX3PtL+dpWWtXApo5Qygh8+xt8fJsnL9YqPzuuVeLo+IrlC5AqRK0SuELlC5AqRK0SuELlC5AqRK0SuELlC5AqRK0SuELlC5AqRK0SuELlC5AqRK0SuELlC5AqRK0SuELlC5AqRK0SuELlC5AqRK0SuELlC5AqRK0SuELlC5ArJy/WKCc681xwST1ctpcRni0tmrbx5xtpaba0Fp8dqa62NAx+g+AfypmWnuR7NJT5cfDSPxE1nLVyn87aUA0bXLy562uR6Wq6x7k43ZT5gdP3i09MubXY9Kdfojze32z5GcLq4jtGfbm8es6axk451bZsP+aiLJ4OCyyfxIFV05Q/43BkAAAAAAAAAAAAAAAAAAAAAAAAAAAAAAAAAAAAAAAAAAAAAvE9/AM3PmYLcpsWwAAAAAElFTkSuQmCC\n",
          "text/plain": "<PIL.Image.Image image mode=L size=302x302 at 0x1272388E0>"
         },
         "metadata": {},
         "output_type": "display_data"
        }
       ]
      }
     },
     "d31baf9531544aeaac024cc9ba57fdd4": {
      "model_module": "@jupyter-widgets/controls",
      "model_module_version": "1.5.0",
      "model_name": "IntSliderModel",
      "state": {
       "_dom_classes": [],
       "_model_module": "@jupyter-widgets/controls",
       "_model_module_version": "1.5.0",
       "_model_name": "IntSliderModel",
       "_view_count": null,
       "_view_module": "@jupyter-widgets/controls",
       "_view_module_version": "1.5.0",
       "_view_name": "IntSliderView",
       "continuous_update": true,
       "description": "iframe",
       "description_tooltip": null,
       "disabled": false,
       "layout": "IPY_MODEL_f35ea18814ea41ce99a8165b5a0644dc",
       "max": 499,
       "min": 0,
       "orientation": "horizontal",
       "readout": true,
       "readout_format": "d",
       "step": 1,
       "style": "IPY_MODEL_636dbf7d1f584b3abc7a3f4fd327313e",
       "value": 0
      }
     },
     "e3182e3c6f8746f3b470c95005b71cce": {
      "model_module": "@jupyter-widgets/controls",
      "model_module_version": "1.5.0",
      "model_name": "ProgressStyleModel",
      "state": {
       "_model_module": "@jupyter-widgets/controls",
       "_model_module_version": "1.5.0",
       "_model_name": "ProgressStyleModel",
       "_view_count": null,
       "_view_module": "@jupyter-widgets/base",
       "_view_module_version": "1.2.0",
       "_view_name": "StyleView",
       "bar_color": null,
       "description_width": "initial"
      }
     },
     "e9f6d4bb1eb44b488004a904cee87366": {
      "model_module": "@jupyter-widgets/base",
      "model_module_version": "1.2.0",
      "model_name": "LayoutModel",
      "state": {
       "_model_module": "@jupyter-widgets/base",
       "_model_module_version": "1.2.0",
       "_model_name": "LayoutModel",
       "_view_count": null,
       "_view_module": "@jupyter-widgets/base",
       "_view_module_version": "1.2.0",
       "_view_name": "LayoutView",
       "align_content": null,
       "align_items": null,
       "align_self": null,
       "border": null,
       "bottom": null,
       "display": null,
       "flex": null,
       "flex_flow": null,
       "grid_area": null,
       "grid_auto_columns": null,
       "grid_auto_flow": null,
       "grid_auto_rows": null,
       "grid_column": null,
       "grid_gap": null,
       "grid_row": null,
       "grid_template_areas": null,
       "grid_template_columns": null,
       "grid_template_rows": null,
       "height": null,
       "justify_content": null,
       "justify_items": null,
       "left": null,
       "margin": null,
       "max_height": null,
       "max_width": null,
       "min_height": null,
       "min_width": null,
       "object_fit": null,
       "object_position": null,
       "order": null,
       "overflow": null,
       "overflow_x": null,
       "overflow_y": null,
       "padding": null,
       "right": null,
       "top": null,
       "visibility": null,
       "width": null
      }
     },
     "ec0d2d47b1064c639221b333047ab93b": {
      "model_module": "@jupyter-widgets/base",
      "model_module_version": "1.2.0",
      "model_name": "LayoutModel",
      "state": {
       "_model_module": "@jupyter-widgets/base",
       "_model_module_version": "1.2.0",
       "_model_name": "LayoutModel",
       "_view_count": null,
       "_view_module": "@jupyter-widgets/base",
       "_view_module_version": "1.2.0",
       "_view_name": "LayoutView",
       "align_content": null,
       "align_items": null,
       "align_self": null,
       "border": null,
       "bottom": null,
       "display": null,
       "flex": null,
       "flex_flow": null,
       "grid_area": null,
       "grid_auto_columns": null,
       "grid_auto_flow": null,
       "grid_auto_rows": null,
       "grid_column": null,
       "grid_gap": null,
       "grid_row": null,
       "grid_template_areas": null,
       "grid_template_columns": null,
       "grid_template_rows": null,
       "height": null,
       "justify_content": null,
       "justify_items": null,
       "left": null,
       "margin": null,
       "max_height": null,
       "max_width": null,
       "min_height": null,
       "min_width": null,
       "object_fit": null,
       "object_position": null,
       "order": null,
       "overflow": null,
       "overflow_x": null,
       "overflow_y": null,
       "padding": null,
       "right": null,
       "top": null,
       "visibility": null,
       "width": null
      }
     },
     "ecd4c01ec20f40a8bac7a1b40e0200b8": {
      "model_module": "@jupyter-widgets/base",
      "model_module_version": "1.2.0",
      "model_name": "LayoutModel",
      "state": {
       "_model_module": "@jupyter-widgets/base",
       "_model_module_version": "1.2.0",
       "_model_name": "LayoutModel",
       "_view_count": null,
       "_view_module": "@jupyter-widgets/base",
       "_view_module_version": "1.2.0",
       "_view_name": "LayoutView",
       "align_content": null,
       "align_items": null,
       "align_self": null,
       "border": null,
       "bottom": null,
       "display": null,
       "flex": null,
       "flex_flow": null,
       "grid_area": null,
       "grid_auto_columns": null,
       "grid_auto_flow": null,
       "grid_auto_rows": null,
       "grid_column": null,
       "grid_gap": null,
       "grid_row": null,
       "grid_template_areas": null,
       "grid_template_columns": null,
       "grid_template_rows": null,
       "height": null,
       "justify_content": null,
       "justify_items": null,
       "left": null,
       "margin": null,
       "max_height": null,
       "max_width": null,
       "min_height": null,
       "min_width": null,
       "object_fit": null,
       "object_position": null,
       "order": null,
       "overflow": null,
       "overflow_x": null,
       "overflow_y": null,
       "padding": null,
       "right": null,
       "top": null,
       "visibility": null,
       "width": null
      }
     },
     "f35ea18814ea41ce99a8165b5a0644dc": {
      "model_module": "@jupyter-widgets/base",
      "model_module_version": "1.2.0",
      "model_name": "LayoutModel",
      "state": {
       "_model_module": "@jupyter-widgets/base",
       "_model_module_version": "1.2.0",
       "_model_name": "LayoutModel",
       "_view_count": null,
       "_view_module": "@jupyter-widgets/base",
       "_view_module_version": "1.2.0",
       "_view_name": "LayoutView",
       "align_content": null,
       "align_items": null,
       "align_self": null,
       "border": null,
       "bottom": null,
       "display": null,
       "flex": null,
       "flex_flow": null,
       "grid_area": null,
       "grid_auto_columns": null,
       "grid_auto_flow": null,
       "grid_auto_rows": null,
       "grid_column": null,
       "grid_gap": null,
       "grid_row": null,
       "grid_template_areas": null,
       "grid_template_columns": null,
       "grid_template_rows": null,
       "height": null,
       "justify_content": null,
       "justify_items": null,
       "left": null,
       "margin": null,
       "max_height": null,
       "max_width": null,
       "min_height": null,
       "min_width": null,
       "object_fit": null,
       "object_position": null,
       "order": null,
       "overflow": null,
       "overflow_x": null,
       "overflow_y": null,
       "padding": null,
       "right": null,
       "top": null,
       "visibility": null,
       "width": null
      }
     },
     "f6e9c3bf47ea41cf9f5734f7aeb59c08": {
      "model_module": "@jupyter-widgets/controls",
      "model_module_version": "1.5.0",
      "model_name": "HBoxModel",
      "state": {
       "_dom_classes": [],
       "_model_module": "@jupyter-widgets/controls",
       "_model_module_version": "1.5.0",
       "_model_name": "HBoxModel",
       "_view_count": null,
       "_view_module": "@jupyter-widgets/controls",
       "_view_module_version": "1.5.0",
       "_view_name": "HBoxView",
       "box_style": "",
       "children": [
        "IPY_MODEL_f8245b57f16943eaa006c61cd5d29cbe",
        "IPY_MODEL_fbe8c208c4224b348ed849c3592d514a"
       ],
       "layout": "IPY_MODEL_ecd4c01ec20f40a8bac7a1b40e0200b8"
      }
     },
     "f8245b57f16943eaa006c61cd5d29cbe": {
      "model_module": "@jupyter-widgets/controls",
      "model_module_version": "1.5.0",
      "model_name": "FloatProgressModel",
      "state": {
       "_dom_classes": [],
       "_model_module": "@jupyter-widgets/controls",
       "_model_module_version": "1.5.0",
       "_model_name": "FloatProgressModel",
       "_view_count": null,
       "_view_module": "@jupyter-widgets/controls",
       "_view_module_version": "1.5.0",
       "_view_name": "ProgressView",
       "bar_style": "success",
       "description": "100%",
       "description_tooltip": null,
       "layout": "IPY_MODEL_80158117c68f4e3fb100b07f666694af",
       "max": 500.0,
       "min": 0.0,
       "orientation": "horizontal",
       "style": "IPY_MODEL_24cf2781c4da4afaa0dfcea31e5e77f4",
       "value": 500.0
      }
     },
     "fbe8c208c4224b348ed849c3592d514a": {
      "model_module": "@jupyter-widgets/controls",
      "model_module_version": "1.5.0",
      "model_name": "HTMLModel",
      "state": {
       "_dom_classes": [],
       "_model_module": "@jupyter-widgets/controls",
       "_model_module_version": "1.5.0",
       "_model_name": "HTMLModel",
       "_view_count": null,
       "_view_module": "@jupyter-widgets/controls",
       "_view_module_version": "1.5.0",
       "_view_name": "HTMLView",
       "description": "",
       "description_tooltip": null,
       "layout": "IPY_MODEL_941edf05aa5a40d0b42a7fe0c24a95b3",
       "placeholder": "​",
       "style": "IPY_MODEL_310f8e500f58432c82c50b7a9fca6f88",
       "value": " 500/500 [00:26&lt;00:00, 18.73it/s]"
      }
     }
    },
    "version_major": 2,
    "version_minor": 0
   }
  }
 },
 "nbformat": 4,
 "nbformat_minor": 4
}