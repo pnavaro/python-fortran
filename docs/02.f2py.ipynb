{
 "cells": [
  {
   "cell_type": "markdown",
   "metadata": {},
   "source": [
    "# Python class linked with fortran module"
   ]
  },
  {
   "cell_type": "code",
   "execution_count": 1,
   "metadata": {},
   "outputs": [
    {
     "data": {
      "application/javascript": [
       "new Promise(function(resolve, reject) {\n",
       "\tvar script = document.createElement(\"script\");\n",
       "\tscript.onload = resolve;\n",
       "\tscript.onerror = reject;\n",
       "\tscript.src = \"https://raw.github.com/marijnh/CodeMirror/master/mode/fortran/fortran.js\";\n",
       "\tdocument.head.appendChild(script);\n",
       "}).then(() => {\n",
       "IPython.config.cell_magic_highlight['magic_fortran'] = {'reg':[/^%%fortran/]};\n",
       "});"
      ]
     },
     "metadata": {},
     "output_type": "display_data"
    }
   ],
   "source": [
    "%load_ext fortranmagic"
   ]
  },
  {
   "cell_type": "code",
   "execution_count": 2,
   "metadata": {},
   "outputs": [],
   "source": [
    "%%fortran\n",
    "module particles_f90\n",
    "\n",
    "    implicit none\n",
    "    \n",
    "    real(8), dimension(:), allocatable :: positions\n",
    "    real(8), dimension(:), allocatable :: velocities\n",
    "            \n",
    "contains\n",
    "    subroutine init_particles( n )\n",
    "    \n",
    "        integer, intent(in) :: n\n",
    "                \n",
    "        integer :: i\n",
    "        \n",
    "        if (.not. allocated(positions)) then\n",
    "            allocate(positions(n))\n",
    "        end if\n",
    "        positions = [(i, i = 1, n, 1)]\n",
    "        if (.not. allocated(velocities)) then\n",
    "            allocate(velocities(n))\n",
    "        end if\n",
    "        velocities = 1.0\n",
    "\n",
    "    end subroutine init_particles\n",
    " \n",
    "    subroutine push_particles( dt )\n",
    "        \n",
    "        real(8), intent(in) :: dt\n",
    "    \n",
    "        positions = positions + dt * velocities\n",
    "        \n",
    "    end subroutine push_particles\n",
    "end module particles_f90"
   ]
  },
  {
   "cell_type": "markdown",
   "metadata": {},
   "source": [
    "## The Python class"
   ]
  },
  {
   "cell_type": "code",
   "execution_count": 3,
   "metadata": {},
   "outputs": [],
   "source": [
    "class Particles(object):\n",
    "    \n",
    "    def __init__(self, n):\n",
    "        self.index       = 0\n",
    "        self.numberof    = n\n",
    "        particles_f90.init_particles( n)\n",
    "        self.positions  = particles_f90.positions\n",
    "        self.velocities = particles_f90.velocities\n",
    "        \n",
    "    @property \n",
    "    def position(self):      \n",
    "        return self.positions[self.index]\n",
    "    \n",
    "    @property \n",
    "    def velocity(self):      \n",
    "        return self.velocities[self.index]"
   ]
  },
  {
   "cell_type": "markdown",
   "metadata": {},
   "source": [
    "## Access to Fortran data from Python"
   ]
  },
  {
   "cell_type": "code",
   "execution_count": 4,
   "metadata": {},
   "outputs": [
    {
     "data": {
      "text/plain": [
       "array([1., 1., 1., 1., 1., 1., 1., 1., 1., 1.])"
      ]
     },
     "execution_count": 4,
     "metadata": {},
     "output_type": "execute_result"
    }
   ],
   "source": [
    "particles = Particles(10)\n",
    "particles.velocities "
   ]
  },
  {
   "cell_type": "code",
   "execution_count": 5,
   "metadata": {},
   "outputs": [
    {
     "data": {
      "text/plain": [
       "array([ 1.,  2.,  3.,  4.,  5.,  6.,  7.,  8.,  9., 10.])"
      ]
     },
     "execution_count": 5,
     "metadata": {},
     "output_type": "execute_result"
    }
   ],
   "source": [
    "particles.positions"
   ]
  },
  {
   "cell_type": "code",
   "execution_count": 6,
   "metadata": {},
   "outputs": [
    {
     "data": {
      "text/plain": [
       "1.0"
      ]
     },
     "execution_count": 6,
     "metadata": {},
     "output_type": "execute_result"
    }
   ],
   "source": [
    "particles.index = 0\n",
    "particles.position"
   ]
  },
  {
   "cell_type": "code",
   "execution_count": 7,
   "metadata": {},
   "outputs": [
    {
     "data": {
      "text/plain": [
       "2.0"
      ]
     },
     "execution_count": 7,
     "metadata": {},
     "output_type": "execute_result"
    }
   ],
   "source": [
    "particles.index = 1\n",
    "particles.position"
   ]
  },
  {
   "cell_type": "markdown",
   "metadata": {},
   "source": [
    "## Create an Iterator class"
   ]
  },
  {
   "cell_type": "code",
   "execution_count": 8,
   "metadata": {},
   "outputs": [],
   "source": [
    "class ParticleArray(object):\n",
    "    \n",
    "    def __init__(self, particles):\n",
    "        self.particles = particles\n",
    "        self.numberof = particles.numberof\n",
    "        \n",
    "    def __getitem__(self, index): \n",
    "        self.particles.index = index \n",
    "        return self.particles\n",
    "    \n",
    "    def __len__(self): \n",
    "        return self.numberof\n",
    "    \n",
    "    def __iter__(self): \n",
    "        for i in range(self.numberof):\n",
    "            self.particles.index = i\n",
    "            yield self.particles"
   ]
  },
  {
   "cell_type": "code",
   "execution_count": 9,
   "metadata": {},
   "outputs": [
    {
     "data": {
      "text/plain": [
       "1.0"
      ]
     },
     "execution_count": 9,
     "metadata": {},
     "output_type": "execute_result"
    }
   ],
   "source": [
    "particle_array = ParticleArray(particles)\n",
    "particle_array[0].position"
   ]
  },
  {
   "cell_type": "code",
   "execution_count": 10,
   "metadata": {
    "lines_to_next_cell": 2
   },
   "outputs": [
    {
     "name": "stdout",
     "output_type": "stream",
     "text": [
      "1.0\n",
      "2.0\n",
      "3.0\n",
      "4.0\n",
      "5.0\n",
      "6.0\n",
      "7.0\n",
      "8.0\n",
      "9.0\n",
      "10.0\n"
     ]
    }
   ],
   "source": [
    "for p in particle_array:\n",
    "    print(p.position)"
   ]
  },
  {
   "cell_type": "markdown",
   "metadata": {},
   "source": [
    "## Fortran derived type"
   ]
  },
  {
   "cell_type": "code",
   "execution_count": 11,
   "metadata": {
    "lines_to_end_of_cell_marker": 2
   },
   "outputs": [],
   "source": [
    "%%fortran\n",
    "module mesh\n",
    "\n",
    "implicit none\n",
    "type :: geometry\n",
    "    real(8) :: xmin, xmax, dx            ! coordinates of origin and grid size\n",
    "    integer :: nx                        ! number of grid points\n",
    "    real(8), dimension(:), pointer :: x  ! coordinates of points\n",
    "end type geometry\n",
    "\n",
    "contains\n",
    "\n",
    "subroutine create(geom, xmin, xmax, nx)\n",
    "\n",
    "    !f2py integer(8), intent(out) :: geom\n",
    "    type(geometry), pointer :: geom\n",
    "    real(8), intent(in) :: xmin, xmax\n",
    "    integer, intent(in) :: nx\n",
    "            \n",
    "    real(8) :: dx\n",
    "            \n",
    "    integer :: i\n",
    "            \n",
    "    allocate(geom)\n",
    "    geom%xmin = xmin\n",
    "    geom%xmax = xmax\n",
    "    geom%dx = ( xmax - xmin ) / (nx-1) \n",
    "    geom%nx = nx\n",
    "    allocate(geom%x(nx))\n",
    "    do i=1,nx\n",
    "        geom%x(i)=geom%xmin+(i-1)*geom%dx\n",
    "    end do\n",
    "\n",
    "end subroutine create\n",
    "\n",
    "subroutine view(geom)\n",
    "    !f2py integer(8), intent(in) :: geom\n",
    "    type(geometry), pointer :: geom\n",
    "    print*, 'nx = ', geom%nx\n",
    "    print*, geom%xmin, geom%xmax\n",
    "    print*, geom%x(:)\n",
    "end subroutine view\n",
    "\n",
    "subroutine get_size(geom, nx)\n",
    "\n",
    "    !f2py integer(8), intent(in) :: geom\n",
    "    type(geometry), pointer :: geom\n",
    "    integer, intent(out) :: nx\n",
    "    \n",
    "    nx = geom%nx\n",
    "    \n",
    "end subroutine get_size\n",
    "\n",
    "\n",
    "end module mesh"
   ]
  },
  {
   "cell_type": "code",
   "execution_count": 12,
   "metadata": {},
   "outputs": [],
   "source": [
    "geom = mesh.create(0.0, 1.0, 10)"
   ]
  },
  {
   "cell_type": "code",
   "execution_count": 13,
   "metadata": {},
   "outputs": [
    {
     "data": {
      "text/plain": [
       "10"
      ]
     },
     "execution_count": 13,
     "metadata": {},
     "output_type": "execute_result"
    }
   ],
   "source": [
    "mesh.get_size(geom)"
   ]
  },
  {
   "cell_type": "code",
   "execution_count": 14,
   "metadata": {},
   "outputs": [
    {
     "data": {
      "text/plain": [
       "int"
      ]
     },
     "execution_count": 14,
     "metadata": {},
     "output_type": "execute_result"
    }
   ],
   "source": [
    "type(geom)"
   ]
  },
  {
   "cell_type": "markdown",
   "metadata": {},
   "source": [
    "## f2py with C code\n",
    "\n",
    "- Signature file is mandatory\n",
    "- `intent(c)` must be used for all variables and can be set globally.\n",
    "- Function name is declared with `intent(c)`"
   ]
  },
  {
   "cell_type": "code",
   "execution_count": 15,
   "metadata": {},
   "outputs": [],
   "source": [
    "%rm -rf cfuncts*"
   ]
  },
  {
   "cell_type": "code",
   "execution_count": 16,
   "metadata": {
    "lines_to_next_cell": 2
   },
   "outputs": [
    {
     "name": "stdout",
     "output_type": "stream",
     "text": [
      "Writing cfuncts.c\n"
     ]
    }
   ],
   "source": [
    "%%file cfuncts.c\n",
    "\n",
    "void push_particles(double* positions, double* velocities, double dt, int n){\n",
    "    for (int i=0; i<n; i++){\n",
    "       positions[i] = positions[i] + dt * velocities[i];\n",
    "        \n",
    "    }\n",
    "} "
   ]
  },
  {
   "cell_type": "code",
   "execution_count": 17,
   "metadata": {},
   "outputs": [
    {
     "name": "stdout",
     "output_type": "stream",
     "text": [
      "Writing cfuncts.pyf\n"
     ]
    }
   ],
   "source": [
    "%%file cfuncts.pyf\n",
    "\n",
    "python module cfuncts \n",
    "    interface\n",
    "        subroutine push_particles(positions, velocities, dt, n) \n",
    "            intent(c):: push_particles\n",
    "            intent(c)\n",
    "            integer, optional, depend(velocities) :: n = len(velocities)\n",
    "            real(8), dimension(n),  intent(inplace)  :: positions \n",
    "            real(8), dimension(n),  intent(in) :: velocities\n",
    "            real(8), intent(in) :: dt\n",
    "        end subroutine push_particles\n",
    "    end interface\n",
    "end python module cfuncts"
   ]
  },
  {
   "cell_type": "code",
   "execution_count": 18,
   "metadata": {},
   "outputs": [],
   "source": [
    "import sys\n",
    "!{sys.executable} -m numpy.f2py --quiet -c cfuncts.c cfuncts.pyf -m cfuncts"
   ]
  },
  {
   "cell_type": "code",
   "execution_count": 19,
   "metadata": {},
   "outputs": [],
   "source": [
    "import numpy as np\n",
    "import cfuncts"
   ]
  },
  {
   "cell_type": "code",
   "execution_count": 20,
   "metadata": {},
   "outputs": [
    {
     "name": "stdout",
     "output_type": "stream",
     "text": [
      "push_particles(positions,velocities,dt,[n])\n",
      "\n",
      "Wrapper for ``push_particles``.\n",
      "\n",
      "Parameters\n",
      "----------\n",
      "positions :  rank-1 array('d') with bounds (n)\n",
      "velocities : input rank-1 array('d') with bounds (n)\n",
      "dt : input float\n",
      "\n",
      "Other Parameters\n",
      "----------------\n",
      "n : input int, optional\n",
      "    Default: len(velocities)\n",
      "\n"
     ]
    }
   ],
   "source": [
    "print(cfuncts.push_particles.__doc__)"
   ]
  },
  {
   "cell_type": "code",
   "execution_count": 21,
   "metadata": {},
   "outputs": [],
   "source": [
    "n = 10\n",
    "dt = 0.1\n",
    "x = np.arange(n, dtype=\"d\")\n",
    "v = np.ones(n, dtype=\"d\")\n",
    "cfuncts.push_particles( x, v, dt)"
   ]
  },
  {
   "cell_type": "code",
   "execution_count": 22,
   "metadata": {},
   "outputs": [
    {
     "data": {
      "text/plain": [
       "array([0.1, 1.1, 2.1, 3.1, 4.1, 5.1, 6.1, 7.1, 8.1, 9.1])"
      ]
     },
     "execution_count": 22,
     "metadata": {},
     "output_type": "execute_result"
    }
   ],
   "source": [
    "x"
   ]
  },
  {
   "cell_type": "markdown",
   "metadata": {},
   "source": [
    "## References\n",
    " \n",
    "- f2py documentation https://docs.scipy.org/doc/numpy/f2py/\n",
    "- Transparents E. Sonnendrucker http://calcul.math.cnrs.fr/Documents/Journees/dec2006/python-fortran.pdf\n",
    "- Documentation Sagemath http://doc.sagemath.org/html/en/thematic_tutorials/numerical_sage/f2py.html\n",
    "- Hans Petter Langtangen : Python Scripting for Computational Science."
   ]
  }
 ],
 "metadata": {
  "@webio": {
   "lastCommId": null,
   "lastKernelId": null
  },
  "jupytext": {
   "formats": "py:light,docs//ipynb"
  },
  "kernelspec": {
   "display_name": "Python 3",
   "language": "python",
   "name": "python3"
  },
  "language_info": {
   "codemirror_mode": {
    "name": "ipython",
    "version": 3
   },
   "file_extension": ".py",
   "mimetype": "text/x-python",
   "name": "python",
   "nbconvert_exporter": "python",
   "pygments_lexer": "ipython3",
   "version": "3.8.5"
  }
 },
 "nbformat": 4,
 "nbformat_minor": 4
}
