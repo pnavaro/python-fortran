{
 "cells": [
  {
   "cell_type": "markdown",
   "metadata": {},
   "source": [
    "# Python class linked with fortran module"
   ]
  },
  {
   "cell_type": "code",
   "execution_count": null,
   "metadata": {},
   "outputs": [],
   "source": [
    "%load_ext fortranmagic"
   ]
  },
  {
   "cell_type": "code",
   "execution_count": null,
   "metadata": {},
   "outputs": [],
   "source": [
    "%%fortran\n",
    "module particles_f90\n",
    "\n",
    "    implicit none\n",
    "    \n",
    "    real(8), dimension(:), allocatable :: positions\n",
    "    real(8), dimension(:), allocatable :: velocities\n",
    "            \n",
    "contains\n",
    "    subroutine init_particles( n )\n",
    "    \n",
    "        integer, intent(in) :: n\n",
    "                \n",
    "        integer :: i\n",
    "        \n",
    "        if (.not. allocated(positions)) then\n",
    "            allocate(positions(n))\n",
    "        end if\n",
    "        positions = [(i, i = 1, n, 1)]\n",
    "        if (.not. allocated(velocities)) then\n",
    "            allocate(velocities(n))\n",
    "        end if\n",
    "        velocities = 1.0\n",
    "\n",
    "    end subroutine init_particles\n",
    " \n",
    "    subroutine push_particles( dt )\n",
    "        \n",
    "        real(8), intent(in) :: dt\n",
    "    \n",
    "        positions = positions + dt * velocities\n",
    "        \n",
    "    end subroutine push_particles\n",
    "end module particles_f90"
   ]
  },
  {
   "cell_type": "markdown",
   "metadata": {},
   "source": [
    "## The Python class"
   ]
  },
  {
   "cell_type": "code",
   "execution_count": null,
   "metadata": {},
   "outputs": [],
   "source": [
    "class Particles(object):\n",
    "    \n",
    "    def __init__(self, n):\n",
    "        self.index       = 0\n",
    "        self.numberof    = n\n",
    "        particles_f90.init_particles( n)\n",
    "        self.positions  = particles_f90.positions\n",
    "        self.velocities = particles_f90.velocities\n",
    "        \n",
    "    @property \n",
    "    def position(self):      \n",
    "        return self.positions[self.index]\n",
    "    \n",
    "    @property \n",
    "    def velocity(self):      \n",
    "        return self.velocities[self.index]"
   ]
  },
  {
   "cell_type": "markdown",
   "metadata": {},
   "source": [
    "## Access to Fortran data from Python"
   ]
  },
  {
   "cell_type": "code",
   "execution_count": null,
   "metadata": {},
   "outputs": [],
   "source": [
    "particles = Particles(10)\n",
    "particles.velocities "
   ]
  },
  {
   "cell_type": "code",
   "execution_count": null,
   "metadata": {},
   "outputs": [],
   "source": [
    "particles.positions"
   ]
  },
  {
   "cell_type": "code",
   "execution_count": null,
   "metadata": {},
   "outputs": [],
   "source": [
    "particles.index = 0\n",
    "particles.position"
   ]
  },
  {
   "cell_type": "code",
   "execution_count": null,
   "metadata": {},
   "outputs": [],
   "source": [
    "particles.index = 1\n",
    "particles.position"
   ]
  },
  {
   "cell_type": "markdown",
   "metadata": {},
   "source": [
    "## Create an Iterator class"
   ]
  },
  {
   "cell_type": "code",
   "execution_count": null,
   "metadata": {},
   "outputs": [],
   "source": [
    "class ParticleArray(object):\n",
    "    \n",
    "    def __init__(self, particles):\n",
    "        self.particles = particles\n",
    "        self.numberof = particles.numberof\n",
    "        \n",
    "    def __getitem__(self, index): \n",
    "        self.particles.index = index \n",
    "        return self.particles\n",
    "    \n",
    "    def __len__(self): \n",
    "        return self.numberof\n",
    "    \n",
    "    def __iter__(self): \n",
    "        for i in range(self.numberof):\n",
    "            self.particles.index = i\n",
    "            yield self.particles"
   ]
  },
  {
   "cell_type": "code",
   "execution_count": null,
   "metadata": {},
   "outputs": [],
   "source": [
    "particle_array = ParticleArray(particles)\n",
    "particle_array[0].position"
   ]
  },
  {
   "cell_type": "code",
   "execution_count": null,
   "metadata": {
    "lines_to_next_cell": 2
   },
   "outputs": [],
   "source": [
    "for p in particle_array:\n",
    "    print(p.position)"
   ]
  },
  {
   "cell_type": "markdown",
   "metadata": {},
   "source": [
    "## Fortran derived type"
   ]
  },
  {
   "cell_type": "code",
   "execution_count": null,
   "metadata": {
    "lines_to_end_of_cell_marker": 2
   },
   "outputs": [],
   "source": [
    "%%fortran\n",
    "module mesh\n",
    "\n",
    "implicit none\n",
    "type :: geometry\n",
    "    real(8) :: xmin, xmax, dx            ! coordinates of origin and grid size\n",
    "    integer :: nx                        ! number of grid points\n",
    "    real(8), dimension(:), pointer :: x  ! coordinates of points\n",
    "end type geometry\n",
    "\n",
    "contains\n",
    "\n",
    "subroutine create(geom, xmin, xmax, nx)\n",
    "\n",
    "    !f2py integer(8), intent(out) :: geom\n",
    "    type(geometry), pointer :: geom\n",
    "    real(8), intent(in) :: xmin, xmax\n",
    "    integer, intent(in) :: nx\n",
    "            \n",
    "    real(8) :: dx\n",
    "            \n",
    "    integer :: i\n",
    "            \n",
    "    allocate(geom)\n",
    "    geom%xmin = xmin\n",
    "    geom%xmax = xmax\n",
    "    geom%dx = ( xmax - xmin ) / (nx-1) \n",
    "    geom%nx = nx\n",
    "    allocate(geom%x(nx))\n",
    "    do i=1,nx\n",
    "        geom%x(i)=geom%xmin+(i-1)*geom%dx\n",
    "    end do\n",
    "\n",
    "end subroutine create\n",
    "\n",
    "subroutine view(geom)\n",
    "    !f2py integer(8), intent(in) :: geom\n",
    "    type(geometry), pointer :: geom\n",
    "    print*, 'nx = ', geom%nx\n",
    "    print*, geom%xmin, geom%xmax\n",
    "    print*, geom%x(:)\n",
    "end subroutine view\n",
    "\n",
    "subroutine get_size(geom, nx)\n",
    "\n",
    "    !f2py integer(8), intent(in) :: geom\n",
    "    type(geometry), pointer :: geom\n",
    "    integer, intent(out) :: nx\n",
    "    \n",
    "    nx = geom%nx\n",
    "    \n",
    "end subroutine get_size\n",
    "\n",
    "\n",
    "end module mesh"
   ]
  },
  {
   "cell_type": "code",
   "execution_count": null,
   "metadata": {},
   "outputs": [],
   "source": [
    "geom = mesh.create(0.0, 1.0, 10)"
   ]
  },
  {
   "cell_type": "code",
   "execution_count": null,
   "metadata": {},
   "outputs": [],
   "source": [
    "mesh.get_size(geom)"
   ]
  },
  {
   "cell_type": "code",
   "execution_count": null,
   "metadata": {},
   "outputs": [],
   "source": [
    "type(geom)"
   ]
  },
  {
   "cell_type": "markdown",
   "metadata": {},
   "source": [
    "## f2py with C code\n",
    "\n",
    "- Signature file is mandatory\n",
    "- `intent(c)` must be used for all variables and can be set globally.\n",
    "- Function name is declared with `intent(c)`"
   ]
  },
  {
   "cell_type": "code",
   "execution_count": null,
   "metadata": {},
   "outputs": [],
   "source": [
    "%rm -rf cfuncts*"
   ]
  },
  {
   "cell_type": "code",
   "execution_count": null,
   "metadata": {
    "lines_to_next_cell": 2
   },
   "outputs": [],
   "source": [
    "%%file cfuncts.c\n",
    "\n",
    "void push_particles(double* positions, double* velocities, double dt, int n){\n",
    "    for (int i=0; i<n; i++){\n",
    "       positions[i] = positions[i] + dt * velocities[i];\n",
    "        \n",
    "    }\n",
    "} "
   ]
  },
  {
   "cell_type": "code",
   "execution_count": null,
   "metadata": {},
   "outputs": [],
   "source": [
    "%%file cfuncts.pyf\n",
    "\n",
    "python module cfuncts \n",
    "    interface\n",
    "        subroutine push_particles(positions, velocities, dt, n) \n",
    "            intent(c):: push_particles\n",
    "            intent(c)\n",
    "            integer, optional, depend(velocities) :: n = len(velocities)\n",
    "            real(8), dimension(n),  intent(inplace)  :: positions \n",
    "            real(8), dimension(n),  intent(in) :: velocities\n",
    "            real(8), intent(in) :: dt\n",
    "        end subroutine push_particles\n",
    "    end interface\n",
    "end python module cfuncts"
   ]
  },
  {
   "cell_type": "code",
   "execution_count": null,
   "metadata": {},
   "outputs": [],
   "source": [
    "import sys\n",
    "!{sys.executable} -m numpy.f2py --quiet -c cfuncts.c cfuncts.pyf -m cfuncts"
   ]
  },
  {
   "cell_type": "code",
   "execution_count": null,
   "metadata": {},
   "outputs": [],
   "source": [
    "import numpy as np\n",
    "import cfuncts"
   ]
  },
  {
   "cell_type": "code",
   "execution_count": null,
   "metadata": {},
   "outputs": [],
   "source": [
    "print(cfuncts.push_particles.__doc__)"
   ]
  },
  {
   "cell_type": "code",
   "execution_count": null,
   "metadata": {},
   "outputs": [],
   "source": [
    "n = 10\n",
    "dt = 0.1\n",
    "x = np.arange(n, dtype=\"d\")\n",
    "v = np.ones(n, dtype=\"d\")\n",
    "cfuncts.push_particles( x, v, dt)"
   ]
  },
  {
   "cell_type": "code",
   "execution_count": null,
   "metadata": {},
   "outputs": [],
   "source": [
    "x"
   ]
  },
  {
   "cell_type": "markdown",
   "metadata": {},
   "source": [
    "## References\n",
    " \n",
    "- f2py documentation https://docs.scipy.org/doc/numpy/f2py/\n",
    "- Transparents E. Sonnendrucker http://calcul.math.cnrs.fr/Documents/Journees/dec2006/python-fortran.pdf\n",
    "- Documentation Sagemath http://doc.sagemath.org/html/en/thematic_tutorials/numerical_sage/f2py.html\n",
    "- Hans Petter Langtangen : Python Scripting for Computational Science."
   ]
  }
 ],
 "metadata": {
  "jupytext": {
   "formats": "py,docs//ipynb"
  },
  "kernelspec": {
   "display_name": "Python 3",
   "language": "python",
   "name": "python3"
  }
 },
 "nbformat": 4,
 "nbformat_minor": 4
}
