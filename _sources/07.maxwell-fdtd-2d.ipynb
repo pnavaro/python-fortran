{
 "cells": [
  {
   "cell_type": "markdown",
   "metadata": {},
   "source": [
    "# Maxwell solver in two dimensions with FDTD scheme\n",
    "\n",
    "$$\n",
    "\\frac{\\partial H_z}{\\partial t} = \\frac{\\partial E_x}{\\partial y} - \\frac{\\partial E_y}{\\partial x}\n",
    ";\\qquad\n",
    "\\frac{\\partial E_x}{\\partial t} = \\frac{\\partial H_z}{\\partial y}\n",
    ";\\qquad\n",
    "\\frac{\\partial E_y}{\\partial t} = - \\frac{\\partial H_z}{\\partial x} \n",
    "$$\n",
    "\n",
    "[Description of the scheme](https://en.wikipedia.org/wiki/Finite-difference_time-domain_method)\n",
    "\n",
    "![fdtd](images/fdtd.png)\n",
    "\n",
    "$$\n",
    "H_z \\big|^{n+1/2}_{i+1/2,j+1/2} = H_z \\big|^{n-1/2}_{i+1/2,j+1/2} + \n",
    "\\frac{dt}{dy} \\big(E_x \\big|^{n}_{i+1/2,j+1} - E_x \\big|^{n}_{i+1/2,j} \\big)\n",
    "- \\frac{dt}{dx} \\big( E_y \\big|^{n}_{i+1,j+1/2} - E_y \\big|^{n}_{i,j+1/2} \\big)\n",
    "$$\n",
    "\n",
    "$$\n",
    "E_x \\big|^{n+1}_{i+1/2,j} = E_x \\big|^{n}_{i+1/2,j} + \\frac{dt}{dy} \\big( H_z \\big|^{n+1/2}_{i+1/2,j+1/2} - H_z \\big|^{n+1/2}_{i-1/2, j-1/2} \\big)\n",
    "$$\n",
    "\n",
    "$$\n",
    "E_y \\big|^{n+1}_{i,j+1/2} = E_y \\big|^{n}_{i,j+1/2} - \\frac{dt}{dx} \\big( H_z \\big|^{n+1/2}_{i+1/2,j+1/2} - H_z \\big|^{n+1/2}_{i-1/2, j+1/2} \\big)\n",
    "$$\n",
    "\n"
   ]
  },
  {
   "cell_type": "code",
   "execution_count": 2,
   "metadata": {},
   "outputs": [],
   "source": [
    "import matplotlib.pyplot as plt\n",
    "import numpy as np\n",
    "from mpl_toolkits.mplot3d import axes3d\n",
    "import matplotlib.animation as animation\n",
    "from IPython.display import HTML\n",
    "\n",
    "plt.rcParams['figure.figsize'] = (10,6)"
   ]
  },
  {
   "cell_type": "code",
   "execution_count": 3,
   "metadata": {},
   "outputs": [],
   "source": [
    "# Mesh parameters\n",
    "nx, ny = 101, 101\n",
    "vx, dx = np.linspace(0, 1, nx, endpoint=True, retstep=True)\n",
    "vy, dy = np.linspace(0, 1, ny, endpoint=True, retstep=True)\n",
    "\n",
    "#Initialize Ex, Ey when time = 0\n",
    "ex = np.zeros((nx-1, ny), dtype=np.double)  \n",
    "ey = np.zeros((nx, ny-1), dtype=np.double) \n",
    "nbiter = 500   # time loop size\n",
    "dt = 0.001     # time step\n",
    "m, n = 2, 2\n",
    "omega = np.sqrt((m*np.pi)**2+(n*np.pi)**2)\n",
    "# Create the staggered grid for Bz\n",
    "x, y = np.meshgrid(0.5*(vx[:-1]+vx[1:]), 0.5*(vy[:-1]+vy[1:]))"
   ]
  },
  {
   "cell_type": "code",
   "execution_count": 4,
   "metadata": {},
   "outputs": [
    {
     "data": {
      "text/plain": [
       "<Figure size 1000x600 with 0 Axes>"
      ]
     },
     "metadata": {},
     "output_type": "display_data"
    }
   ],
   "source": [
    "fig = plt.figure()\n",
    "ax = axes3d.Axes3D(fig)\n",
    "\n",
    "#Initialize Bz when time = - dt / 2\n",
    "hz = - np.cos(m*np.pi*y) * np.cos(n*np.pi*x) * np.cos(omega*(-0.5*dt))\n",
    "wframe = ax.plot_wireframe(x, y, hz, rstride=2, cstride=2)\n",
    "ax.set_zlim(-1,1);"
   ]
  },
  {
   "cell_type": "markdown",
   "metadata": {},
   "source": [
    "## numpy"
   ]
  },
  {
   "cell_type": "code",
   "execution_count": 5,
   "metadata": {},
   "outputs": [],
   "source": [
    "def faraday( ex, ey, hz ) : \n",
    "    \"faraday equation Bz(t+dt/2) -> Bz(t-dt/2) + dt f(E(t))\"\n",
    "    return hz + dt * ((ex[:, 1:]-ex[:, :-1]) / dy - (ey[1:, :]-ey[:-1, :]) / dx)\n",
    "\n",
    "def ampere_maxwell( hz, ex, ey):\n",
    "    \" Ampere-Maxwell equation E(t+dt) -> E(t) + dt g(Bz(t+dt/2)) \"\n",
    "    ex[:, 1:-1] += dt*(hz[:, 1:]-hz[:, :-1]) / dy\n",
    "    ey[1:-1, :] += - dt*(hz[1:, :]-hz[:-1, :]) / dx\n",
    "\n",
    "    # periodic boundary conditions\n",
    "    ex[:, 0] += dt*(hz[:, 0]-hz[:, -1]) / dy\n",
    "    ex[:, -1] = ex[:, 0]\n",
    "    ey[0, :] += - dt*(hz[0, :]-hz[-1, :]) / dx\n",
    "    ey[-1, :] = ey[0, :]\n",
    "    \n",
    "    return ex, ey"
   ]
  },
  {
   "cell_type": "code",
   "execution_count": 6,
   "metadata": {},
   "outputs": [],
   "source": [
    "def update(i, ax, fig):\n",
    "    ax.cla()\n",
    "\n",
    "    global ex, ey, hz\n",
    "\n",
    "    for j in range(10):\n",
    "        hz = faraday( ex, ey, hz)\n",
    "        ex, ey = ampere_maxwell( hz, ex, ey)\n",
    "    \n",
    "    wframe = ax.plot_wireframe(x, y, hz, rstride=2, cstride=2)\n",
    "    ax.set_zlim(-1, 1)\n",
    "    return wframe,"
   ]
  },
  {
   "cell_type": "code",
   "execution_count": 7,
   "metadata": {},
   "outputs": [],
   "source": [
    "ani = animation.FuncAnimation(fig, update,\n",
    "                              frames=range(100),\n",
    "                              fargs=(ax, fig), interval=20, blit=True)"
   ]
  },
  {
   "cell_type": "code",
   "execution_count": 8,
   "metadata": {},
   "outputs": [
    {
     "name": "stdout",
     "output_type": "stream",
     "text": [
      "CPU times: user 1.39 s, sys: 96.8 ms, total: 1.49 s\n",
      "Wall time: 1.62 s\n"
     ]
    },
    {
     "data": {
      "text/html": [
       "<video width=\"1000\" height=\"600\" controls autoplay loop>\n",
       "  <source type=\"video/mp4\" src=\"data:video/mp4;base64,AAAAHGZ0eXBNNFYgAAACAGlzb21pc28yYXZjMQAAAAhmcmVlAAAPOG1kYXQAAAKvBgX//6vcRem9\n",
       "5tlIt5Ys2CDZI+7veDI2NCAtIGNvcmUgMTU1IHIyOTE3IDBhODRkOTggLSBILjI2NC9NUEVHLTQg\n",
       "QVZDIGNvZGVjIC0gQ29weWxlZnQgMjAwMy0yMDE4IC0gaHR0cDovL3d3dy52aWRlb2xhbi5vcmcv\n",
       "eDI2NC5odG1sIC0gb3B0aW9uczogY2FiYWM9MSByZWY9MyBkZWJsb2NrPTE6MDowIGFuYWx5c2U9\n",
       "MHgzOjB4MTEzIG1lPWhleCBzdWJtZT03IHBzeT0xIHBzeV9yZD0xLjAwOjAuMDAgbWl4ZWRfcmVm\n",
       "PTEgbWVfcmFuZ2U9MTYgY2hyb21hX21lPTEgdHJlbGxpcz0xIDh4OGRjdD0xIGNxbT0wIGRlYWR6\n",
       "b25lPTIxLDExIGZhc3RfcHNraXA9MSBjaHJvbWFfcXBfb2Zmc2V0PS0yIHRocmVhZHM9MTkgbG9v\n",
       "a2FoZWFkX3RocmVhZHM9MyBzbGljZWRfdGhyZWFkcz0wIG5yPTAgZGVjaW1hdGU9MSBpbnRlcmxh\n",
       "Y2VkPTAgYmx1cmF5X2NvbXBhdD0wIGNvbnN0cmFpbmVkX2ludHJhPTAgYmZyYW1lcz0zIGJfcHly\n",
       "YW1pZD0yIGJfYWRhcHQ9MSBiX2JpYXM9MCBkaXJlY3Q9MSB3ZWlnaHRiPTEgb3Blbl9nb3A9MCB3\n",
       "ZWlnaHRwPTIga2V5aW50PTI1MCBrZXlpbnRfbWluPTI1IHNjZW5lY3V0PTQwIGludHJhX3JlZnJl\n",
       "c2g9MCByY19sb29rYWhlYWQ9NDAgcmM9Y3JmIG1idHJlZT0xIGNyZj0yMy4wIHFjb21wPTAuNjAg\n",
       "cXBtaW49MCBxcG1heD02OSBxcHN0ZXA9NCBpcF9yYXRpbz0xLjQwIGFxPTE6MS4wMACAAAAAnGWI\n",
       "hAAz//727L4FNf2f0JcRLMXaSnA+KqSAgHc0wAAAAwAAAwAAAwAACkCNDfUGyx5ZpAAAAwAAQYAD\n",
       "pACIABawBSQBUABxACWADxAF8ANgAYoBAAADAAADAAADAAADAAADAAADAAADAAADAAADAAADAAAD\n",
       "AAADAAADAAADAAADAAADAAADAAADAAADAAADAAADAAADAAADAAAbMQAAABtBmiRsQz/+nhAAAAMA\n",
       "AAMAAAMAAAMAAAMAEnAAAAAYQZ5CeIR/AAADAAADAAADAAADAAADAAYFAAAAGAGeYXRH/wAAAwAA\n",
       "AwAAAwAAAwAAAwAJeAAAABgBnmNqR/8AAAMAAAMAAAMAAAMAAAMACXkAAAAhQZpoSahBaJlMCGf/\n",
       "/p4QAAADAAADAAADAAADAAADABJxAAAAGkGehkURLCP/AAADAAADAAADAAADAAADAAYFAAAAGAGe\n",
       "pXRH/wAAAwAAAwAAAwAAAwAAAwAJeQAAABgBnqdqR/8AAAMAAAMAAAMAAAMAAAMACXgAAAAhQZqs\n",
       "SahBbJlMCGf//p4QAAADAAADAAADAAADAAADABJwAAAAGkGeykUVLCP/AAADAAADAAADAAADAAAD\n",
       "AAYFAAAAGAGe6XRH/wAAAwAAAwAAAwAAAwAAAwAJeAAAABgBnutqR/8AAAMAAAMAAAMAAAMAAAMA\n",
       "CXgAAAAhQZrwSahBbJlMCGf//p4QAAADAAADAAADAAADAAADABJxAAAAGkGfDkUVLCP/AAADAAAD\n",
       "AAADAAADAAADAAYFAAAAGAGfLXRH/wAAAwAAAwAAAwAAAwAAAwAJeQAAABgBny9qR/8AAAMAAAMA\n",
       "AAMAAAMAAAMACXgAAAAhQZs0SahBbJlMCGf//p4QAAADAAADAAADAAADAAADABJwAAAAGkGfUkUV\n",
       "LCP/AAADAAADAAADAAADAAADAAYFAAAAGAGfcXRH/wAAAwAAAwAAAwAAAwAAAwAJeAAAABgBn3Nq\n",
       "R/8AAAMAAAMAAAMAAAMAAAMACXgAAAAhQZt4SahBbJlMCGf//p4QAAADAAADAAADAAADAAADABJx\n",
       "AAAAGkGflkUVLCP/AAADAAADAAADAAADAAADAAYEAAAAGAGftXRH/wAAAwAAAwAAAwAAAwAAAwAJ\n",
       "eQAAABgBn7dqR/8AAAMAAAMAAAMAAAMAAAMACXkAAAAhQZu8SahBbJlMCGf//p4QAAADAAADAAAD\n",
       "AAADAAADABJwAAAAGkGf2kUVLCP/AAADAAADAAADAAADAAADAAYFAAAAGAGf+XRH/wAAAwAAAwAA\n",
       "AwAAAwAAAwAJeAAAABgBn/tqR/8AAAMAAAMAAAMAAAMAAAMACXkAAAAhQZvgSahBbJlMCGf//p4Q\n",
       "AAADAAADAAADAAADAAADABJxAAAAGkGeHkUVLCP/AAADAAADAAADAAADAAADAAYEAAAAGAGePXRH\n",
       "/wAAAwAAAwAAAwAAAwAAAwAJeAAAABgBnj9qR/8AAAMAAAMAAAMAAAMAAAMACXkAAAAhQZokSahB\n",
       "bJlMCGf//p4QAAADAAADAAADAAADAAADABJwAAAAGkGeQkUVLCP/AAADAAADAAADAAADAAADAAYF\n",
       "AAAAGAGeYXRH/wAAAwAAAwAAAwAAAwAAAwAJeAAAABgBnmNqR/8AAAMAAAMAAAMAAAMAAAMACXkA\n",
       "AAAhQZpoSahBbJlMCGf//p4QAAADAAADAAADAAADAAADABJxAAAAGkGehkUVLCP/AAADAAADAAAD\n",
       "AAADAAADAAYFAAAAGAGepXRH/wAAAwAAAwAAAwAAAwAAAwAJeQAAABgBnqdqR/8AAAMAAAMAAAMA\n",
       "AAMAAAMACXgAAAAhQZqsSahBbJlMCGf//p4QAAADAAADAAADAAADAAADABJwAAAAGkGeykUVLCP/\n",
       "AAADAAADAAADAAADAAADAAYFAAAAGAGe6XRH/wAAAwAAAwAAAwAAAwAAAwAJeAAAABgBnutqR/8A\n",
       "AAMAAAMAAAMAAAMAAAMACXgAAAAhQZrwSahBbJlMCGf//p4QAAADAAADAAADAAADAAADABJxAAAA\n",
       "GkGfDkUVLCP/AAADAAADAAADAAADAAADAAYFAAAAGAGfLXRH/wAAAwAAAwAAAwAAAwAAAwAJeQAA\n",
       "ABgBny9qR/8AAAMAAAMAAAMAAAMAAAMACXgAAAAhQZs0SahBbJlMCGf//p4QAAADAAADAAADAAAD\n",
       "AAADABJwAAAAGkGfUkUVLCP/AAADAAADAAADAAADAAADAAYFAAAAGAGfcXRH/wAAAwAAAwAAAwAA\n",
       "AwAAAwAJeAAAABgBn3NqR/8AAAMAAAMAAAMAAAMAAAMACXgAAAAhQZt4SahBbJlMCGf//p4QAAAD\n",
       "AAADAAADAAADAAADABJxAAAAGkGflkUVLCP/AAADAAADAAADAAADAAADAAYEAAAAGAGftXRH/wAA\n",
       "AwAAAwAAAwAAAwAAAwAJeQAAABgBn7dqR/8AAAMAAAMAAAMAAAMAAAMACXkAAAAhQZu8SahBbJlM\n",
       "CGf//p4QAAADAAADAAADAAADAAADABJwAAAAGkGf2kUVLCP/AAADAAADAAADAAADAAADAAYFAAAA\n",
       "GAGf+XRH/wAAAwAAAwAAAwAAAwAAAwAJeAAAABgBn/tqR/8AAAMAAAMAAAMAAAMAAAMACXkAAAAh\n",
       "QZvgSahBbJlMCGf//p4QAAADAAADAAADAAADAAADABJxAAAAGkGeHkUVLCP/AAADAAADAAADAAAD\n",
       "AAADAAYEAAAAGAGePXRH/wAAAwAAAwAAAwAAAwAAAwAJeAAAABgBnj9qR/8AAAMAAAMAAAMAAAMA\n",
       "AAMACXkAAAAhQZokSahBbJlMCGf//p4QAAADAAADAAADAAADAAADABJwAAAAGkGeQkUVLCP/AAAD\n",
       "AAADAAADAAADAAADAAYFAAAAGAGeYXRH/wAAAwAAAwAAAwAAAwAAAwAJeAAAABgBnmNqR/8AAAMA\n",
       "AAMAAAMAAAMAAAMACXkAAAAhQZpoSahBbJlMCGf//p4QAAADAAADAAADAAADAAADABJxAAAAGkGe\n",
       "hkUVLCP/AAADAAADAAADAAADAAADAAYFAAAAGAGepXRH/wAAAwAAAwAAAwAAAwAAAwAJeQAAABgB\n",
       "nqdqR/8AAAMAAAMAAAMAAAMAAAMACXgAAAAhQZqsSahBbJlMCGf//p4QAAADAAADAAADAAADAAAD\n",
       "ABJwAAAAGkGeykUVLCP/AAADAAADAAADAAADAAADAAYFAAAAGAGe6XRH/wAAAwAAAwAAAwAAAwAA\n",
       "AwAJeAAAABgBnutqR/8AAAMAAAMAAAMAAAMAAAMACXgAAAAhQZrwSahBbJlMCGf//p4QAAADAAAD\n",
       "AAADAAADAAADABJxAAAAGkGfDkUVLCP/AAADAAADAAADAAADAAADAAYFAAAAGAGfLXRH/wAAAwAA\n",
       "AwAAAwAAAwAAAwAJeQAAABgBny9qR/8AAAMAAAMAAAMAAAMAAAMACXgAAAAhQZs0SahBbJlMCF//\n",
       "/oywAAADAAADAAADAAADAAADABKwAAAAGkGfUkUVLCP/AAADAAADAAADAAADAAADAAYFAAAAGAGf\n",
       "cXRH/wAAAwAAAwAAAwAAAwAAAwAJeAAAABgBn3NqR/8AAAMAAAMAAAMAAAMAAAMACXgAAAAhQZt4\n",
       "SahBbJlMCF///oywAAADAAADAAADAAADAAADABKxAAAAGkGflkUVLCP/AAADAAADAAADAAADAAAD\n",
       "AAYEAAAAGAGftXRH/wAAAwAAAwAAAwAAAwAAAwAJeQAAABgBn7dqR/8AAAMAAAMAAAMAAAMAAAMA\n",
       "CXkAAAAhQZu8SahBbJlMCF///oywAAADAAADAAADAAADAAADABKwAAAAGkGf2kUVLCP/AAADAAAD\n",
       "AAADAAADAAADAAYFAAAAGAGf+XRH/wAAAwAAAwAAAwAAAwAAAwAJeAAAABgBn/tqR/8AAAMAAAMA\n",
       "AAMAAAMAAAMACXkAAAAhQZvgSahBbJlMCFf//jhAAAADAAADAAADAAADAAADAEfBAAAAGkGeHkUV\n",
       "LCP/AAADAAADAAADAAADAAADAAYEAAAAGAGePXRH/wAAAwAAAwAAAwAAAwAAAwAJeAAAABgBnj9q\n",
       "R/8AAAMAAAMAAAMAAAMAAAMACXkAAAAfQZojSahBbJlMCP/8hAAAAwAAAwAAAwAAAwAAAwAEPAAA\n",
       "ABpBnkFFFSwj/wAAAwAAAwAAAwAAAwAAAwAGBQAAABgBnmJqR/8AAAMAAAMAAAMAAAMAAAMACXgA\n",
       "AAfYbW9vdgAAAGxtdmhkAAAAAAAAAAAAAAAAAAAD6AAAB9AAAQAAAQAAAAAAAAAAAAAAAAEAAAAA\n",
       "AAAAAAAAAAAAAAABAAAAAAAAAAAAAAAAAABAAAAAAAAAAAAAAAAAAAAAAAAAAAAAAAAAAAAAAAAA\n",
       "AgAABwJ0cmFrAAAAXHRraGQAAAADAAAAAAAAAAAAAAABAAAAAAAAB9AAAAAAAAAAAAAAAAAAAAAA\n",
       "AAEAAAAAAAAAAAAAAAAAAAABAAAAAAAAAAAAAAAAAABAAAAAA+gAAAJYAAAAAAAkZWR0cwAAABxl\n",
       "bHN0AAAAAAAAAAEAAAfQAAACAAABAAAAAAZ6bWRpYQAAACBtZGhkAAAAAAAAAAAAAAAAAAAyAAAA\n",
       "ZABVxAAAAAAALWhkbHIAAAAAAAAAAHZpZGUAAAAAAAAAAAAAAABWaWRlb0hhbmRsZXIAAAAGJW1p\n",
       "bmYAAAAUdm1oZAAAAAEAAAAAAAAAAAAAACRkaW5mAAAAHGRyZWYAAAAAAAAAAQAAAAx1cmwgAAAA\n",
       "AQAABeVzdGJsAAAAtXN0c2QAAAAAAAAAAQAAAKVhdmMxAAAAAAAAAAEAAAAAAAAAAAAAAAAAAAAA\n",
       "A+gCWABIAAAASAAAAAAAAAABAAAAAAAAAAAAAAAAAAAAAAAAAAAAAAAAAAAAAAAAAAAAGP//AAAA\n",
       "M2F2Y0MBZAAg/+EAGmdkACCs2UD8E3llhAAAAwAEAAADAZA8YMZYAQAGaOvjyyLAAAAAHHV1aWRr\n",
       "aEDyXyRPxbo5pRvPAyPzAAAAAAAAABhzdHRzAAAAAAAAAAEAAABkAAABAAAAABRzdHNzAAAAAAAA\n",
       "AAEAAAABAAADKGN0dHMAAAAAAAAAYwAAAAEAAAIAAAAAAQAABQAAAAABAAACAAAAAAEAAAAAAAAA\n",
       "AQAAAQAAAAABAAAFAAAAAAEAAAIAAAAAAQAAAAAAAAABAAABAAAAAAEAAAUAAAAAAQAAAgAAAAAB\n",
       "AAAAAAAAAAEAAAEAAAAAAQAABQAAAAABAAACAAAAAAEAAAAAAAAAAQAAAQAAAAABAAAFAAAAAAEA\n",
       "AAIAAAAAAQAAAAAAAAABAAABAAAAAAEAAAUAAAAAAQAAAgAAAAABAAAAAAAAAAEAAAEAAAAAAQAA\n",
       "BQAAAAABAAACAAAAAAEAAAAAAAAAAQAAAQAAAAABAAAFAAAAAAEAAAIAAAAAAQAAAAAAAAABAAAB\n",
       "AAAAAAEAAAUAAAAAAQAAAgAAAAABAAAAAAAAAAEAAAEAAAAAAQAABQAAAAABAAACAAAAAAEAAAAA\n",
       "AAAAAQAAAQAAAAABAAAFAAAAAAEAAAIAAAAAAQAAAAAAAAABAAABAAAAAAEAAAUAAAAAAQAAAgAA\n",
       "AAABAAAAAAAAAAEAAAEAAAAAAQAABQAAAAABAAACAAAAAAEAAAAAAAAAAQAAAQAAAAABAAAFAAAA\n",
       "AAEAAAIAAAAAAQAAAAAAAAABAAABAAAAAAEAAAUAAAAAAQAAAgAAAAABAAAAAAAAAAEAAAEAAAAA\n",
       "AQAABQAAAAABAAACAAAAAAEAAAAAAAAAAQAAAQAAAAABAAAFAAAAAAEAAAIAAAAAAQAAAAAAAAAB\n",
       "AAABAAAAAAEAAAUAAAAAAQAAAgAAAAABAAAAAAAAAAEAAAEAAAAAAQAABQAAAAABAAACAAAAAAEA\n",
       "AAAAAAAAAQAAAQAAAAABAAAFAAAAAAEAAAIAAAAAAQAAAAAAAAABAAABAAAAAAEAAAUAAAAAAQAA\n",
       "AgAAAAABAAAAAAAAAAEAAAEAAAAAAQAABQAAAAABAAACAAAAAAEAAAAAAAAAAQAAAQAAAAABAAAF\n",
       "AAAAAAEAAAIAAAAAAQAAAAAAAAABAAABAAAAAAEAAAUAAAAAAQAAAgAAAAABAAAAAAAAAAEAAAEA\n",
       "AAAAAQAABAAAAAACAAABAAAAABxzdHNjAAAAAAAAAAEAAAABAAAAZAAAAAEAAAGkc3RzegAAAAAA\n",
       "AAAAAAAAZAAAA1MAAAAfAAAAHAAAABwAAAAcAAAAJQAAAB4AAAAcAAAAHAAAACUAAAAeAAAAHAAA\n",
       "ABwAAAAlAAAAHgAAABwAAAAcAAAAJQAAAB4AAAAcAAAAHAAAACUAAAAeAAAAHAAAABwAAAAlAAAA\n",
       "HgAAABwAAAAcAAAAJQAAAB4AAAAcAAAAHAAAACUAAAAeAAAAHAAAABwAAAAlAAAAHgAAABwAAAAc\n",
       "AAAAJQAAAB4AAAAcAAAAHAAAACUAAAAeAAAAHAAAABwAAAAlAAAAHgAAABwAAAAcAAAAJQAAAB4A\n",
       "AAAcAAAAHAAAACUAAAAeAAAAHAAAABwAAAAlAAAAHgAAABwAAAAcAAAAJQAAAB4AAAAcAAAAHAAA\n",
       "ACUAAAAeAAAAHAAAABwAAAAlAAAAHgAAABwAAAAcAAAAJQAAAB4AAAAcAAAAHAAAACUAAAAeAAAA\n",
       "HAAAABwAAAAlAAAAHgAAABwAAAAcAAAAJQAAAB4AAAAcAAAAHAAAACUAAAAeAAAAHAAAABwAAAAj\n",
       "AAAAHgAAABwAAAAUc3RjbwAAAAAAAAABAAAALAAAAGJ1ZHRhAAAAWm1ldGEAAAAAAAAAIWhkbHIA\n",
       "AAAAAAAAAG1kaXJhcHBsAAAAAAAAAAAAAAAALWlsc3QAAAAlqXRvbwAAAB1kYXRhAAAAAQAAAABM\n",
       "YXZmNTguMjkuMTAw\n",
       "\">\n",
       "  Your browser does not support the video tag.\n",
       "</video>"
      ],
      "text/plain": [
       "<IPython.core.display.HTML object>"
      ]
     },
     "execution_count": 8,
     "metadata": {},
     "output_type": "execute_result"
    }
   ],
   "source": [
    "%%time\n",
    "HTML(ani.to_html5_video())"
   ]
  },
  {
   "cell_type": "code",
   "execution_count": 9,
   "metadata": {},
   "outputs": [
    {
     "data": {
      "application/vnd.jupyter.widget-view+json": {
       "model_id": "896425465dcc4948a53fa88013aff256",
       "version_major": 2,
       "version_minor": 0
      },
      "text/plain": [
       "  0%|          | 0/1000 [00:00<?, ?it/s]"
      ]
     },
     "metadata": {},
     "output_type": "display_data"
    },
    {
     "name": "stdout",
     "output_type": "stream",
     "text": [
      "CPU times: user 2.54 s, sys: 520 ms, total: 3.06 s\n",
      "Wall time: 3.04 s\n"
     ]
    }
   ],
   "source": [
    "%%time\n",
    "\n",
    "from tqdm.notebook import tqdm\n",
    "\n",
    "nx, ny = 512, 512\n",
    "vx, dx = np.linspace(0, 1, nx, endpoint=True, retstep=True)\n",
    "vy, dy = np.linspace(0, 1, ny, endpoint=True, retstep=True)\n",
    "\n",
    "ex = np.zeros((nx-1, ny), dtype=np.double)  \n",
    "ey = np.zeros((nx, ny-1), dtype=np.double) \n",
    "dt = 0.001     # time step\n",
    "m, n = 2, 2\n",
    "omega = np.sqrt((m*np.pi)**2+(n*np.pi)**2)\n",
    "x, y = np.meshgrid(0.5*(vx[:-1]+vx[1:]), 0.5*(vy[:-1]+vy[1:]))\n",
    "\n",
    "hz = - np.cos(m*np.pi*y) * np.cos(n*np.pi*x) * np.cos(omega*(-0.5*dt))\n",
    "\n",
    "for t in tqdm(range(1000)):\n",
    "    \n",
    "    hz = faraday( ex, ey, hz)\n",
    "    ex, ey = ampere_maxwell( hz, ex, ey)\n",
    "    \n"
   ]
  },
  {
   "cell_type": "code",
   "execution_count": 10,
   "metadata": {},
   "outputs": [
    {
     "data": {
      "application/javascript": [
       "\n",
       "        if(typeof IPython === 'undefined') {\n",
       "            console.log('fortranmagic.py: TDOO: JupyterLab ' +\n",
       "                        'syntax highlight - unimplemented.');\n",
       "        } else {\n",
       "            IPython.CodeCell.options_default\n",
       "            .highlight_modes['magic_fortran'] = {'reg':[/^%%fortran/]};\n",
       "        }\n",
       "        "
      ]
     },
     "metadata": {},
     "output_type": "display_data"
    }
   ],
   "source": [
    "%load_ext fortranmagic"
   ]
  },
  {
   "cell_type": "markdown",
   "metadata": {},
   "source": [
    "## fortran"
   ]
  },
  {
   "cell_type": "code",
   "execution_count": 11,
   "metadata": {},
   "outputs": [],
   "source": [
    "%%fortran \n",
    "\n",
    "subroutine faraday_fortran( ex, ey, bz, dx, dy, dt, nx, ny)\n",
    "implicit none\n",
    "\n",
    "real(8), intent(in) :: ex(nx-1,ny)\n",
    "real(8), intent(in) :: ey(nx,ny-1)\n",
    "real(8), intent(inout) :: bz(nx-1,ny-1)\n",
    "integer, intent(in) :: nx, ny\n",
    "real(8), intent(in) :: dx, dy, dt\n",
    "\n",
    "integer :: i, j\n",
    "real(8) :: dex_dx, dey_dy\n",
    "real(8) :: dex_dy, dey_dx\n",
    "        \n",
    "do j=1,ny-1\n",
    "do i=1,nx-1\n",
    "   dex_dy  = (ex(i,j+1)-ex(i,j)) / dy\n",
    "   dey_dx  = (ey(i+1,j)-ey(i,j)) / dx\n",
    "   bz(i,j) = bz(i,j) +  dt * (dex_dy - dey_dx)\n",
    "end do\n",
    "end do\n",
    "\n",
    "end subroutine faraday_fortran"
   ]
  },
  {
   "cell_type": "code",
   "execution_count": 12,
   "metadata": {},
   "outputs": [],
   "source": [
    "%%fortran\n",
    "\n",
    "subroutine amperemaxwell_fortran(ex, ey, bz, dx, dy, dt, nx, ny)\n",
    "implicit none\n",
    "integer, intent(in):: nx, ny\n",
    "real(8), intent(in):: dx, dy, dt\n",
    "real(8), dimension(nx-1, ny-1), intent(inout) :: bz\n",
    "real(8), dimension(nx-1, ny),   intent(inout) :: ex\n",
    "real(8), dimension(nx, ny-1),   intent(inout) :: ey\n",
    "integer:: i, j\n",
    "real(8):: dbz_dx, dbz_dy\n",
    "real(8), parameter:: csq = 1d0\n",
    "\n",
    "do i = 1, nx-1\n",
    "   dbz_dy = (bz(i, 1)-bz(i, ny-1)) / dy ! periodic BC\n",
    "   ex(i, 1) = ex(i, 1) + dt*csq*dbz_dy\n",
    "   ex(i, ny) = ex(i, 1)\n",
    "end do\n",
    "\n",
    "do j = 1, ny-1\n",
    "   dbz_dx = (bz(1,j)-bz(nx-1,j)) / dx  ! periodic BC\n",
    "   ey(1,j) = ey(1,j) - dt*csq*dbz_dx\n",
    "   ey(nx,j) = ey(1,j)\n",
    "end do\n",
    "\n",
    "do j=2,ny-1\n",
    "    do i=1,nx-1\n",
    "       dbz_dy = (bz(i,j)-bz(i,j-1)) / dy\n",
    "       ex(i,j) = ex(i,j) + dt*csq*dbz_dy \n",
    "    end do\n",
    "end do\n",
    "\n",
    "do j=1,ny-1\n",
    "    do i=2,nx-1\n",
    "       dbz_dx = (bz(i,j)-bz(i-1,j)) / dx\n",
    "       ey(i,j) = ey(i,j) - dt*csq*dbz_dx \n",
    "    end do\n",
    "end do\n",
    "\n",
    "\n",
    "\n",
    "end subroutine amperemaxwell_fortran"
   ]
  },
  {
   "cell_type": "code",
   "execution_count": 13,
   "metadata": {
    "lines_to_next_cell": 3
   },
   "outputs": [
    {
     "data": {
      "application/vnd.jupyter.widget-view+json": {
       "model_id": "20d4a29cd80e49a59cf0f73c54af5635",
       "version_major": 2,
       "version_minor": 0
      },
      "text/plain": [
       "  0%|          | 0/1000 [00:00<?, ?it/s]"
      ]
     },
     "metadata": {},
     "output_type": "display_data"
    },
    {
     "name": "stdout",
     "output_type": "stream",
     "text": [
      "CPU times: user 647 ms, sys: 8.19 ms, total: 655 ms\n",
      "Wall time: 648 ms\n"
     ]
    }
   ],
   "source": [
    "%%time\n",
    "\n",
    "from tqdm.notebook import tqdm\n",
    "\n",
    "ex.fill(0.0)\n",
    "ey.fill(0.0)\n",
    "hz = - np.cos(m*np.pi*y) * np.cos(n*np.pi*x) * np.cos(omega*(-0.5*dt))\n",
    "ex = np.asfortranarray(ex)\n",
    "ey = np.asfortranarray(ey)\n",
    "hz = np.asfortranarray(hz)\n",
    "\n",
    "for t in tqdm(range(1000)):\n",
    "    \n",
    "    faraday_fortran( ex, ey, hz, dx, dy, dt, nx, ny)\n",
    "    amperemaxwell_fortran(ex, ey, hz, dx, dy, dt, nx, ny)"
   ]
  }
 ],
 "metadata": {
  "kernelspec": {
   "display_name": "Python 3 (ipykernel)",
   "language": "python",
   "name": "python3"
  },
  "language_info": {
   "codemirror_mode": {
    "name": "ipython",
    "version": 3
   },
   "file_extension": ".py",
   "mimetype": "text/x-python",
   "name": "python",
   "nbconvert_exporter": "python",
   "pygments_lexer": "ipython3",
   "version": "3.11.10"
  }
 },
 "nbformat": 4,
 "nbformat_minor": 4
}
