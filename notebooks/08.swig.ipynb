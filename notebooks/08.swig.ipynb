{
 "cells": [
  {
   "cell_type": "markdown",
   "metadata": {},
   "source": [
    "# SWIG and Ctypes\n",
    " \n",
    "Interfacing Fortran code through C interface"
   ]
  },
  {
   "cell_type": "markdown",
   "metadata": {},
   "source": [
    "\n",
    "I found [this reference](https://www.fortran90.org/src/best-practices.html#interfacing-with-python) with good examples."
   ]
  },
  {
   "cell_type": "markdown",
   "metadata": {},
   "source": [
    "## Problem: Collatz conjecture\n",
    "\n",
    " -  Choose $u_0$ \n",
    " -  If $u_k$ even, $u_{k+1} \\rightarrow \\frac{u_k}{2}$ ;\n",
    " -  If $u_k$ odd,  $u_{k+1}  \\rightarrow 3 u_k+1$\n",
    " \n",
    " - The Collatz conjecture is: For all  $u_0>0$ , the process will eventually reach $u_k=1$.\n",
    " - The programs below compute number of steps (named flight) to reach $f(u_0)$ for $1\\leq u_0 \\leq N$, $N$ given.\n",
    " \n",
    "[The Collatz conjecture on Wikipedia](https://en.wikipedia.org/wiki/Collatz_conjecture)"
   ]
  },
  {
   "cell_type": "markdown",
   "metadata": {},
   "source": [
    "## C program"
   ]
  },
  {
   "cell_type": "code",
   "execution_count": 1,
   "metadata": {},
   "outputs": [
    {
     "name": "stdout",
     "output_type": "stream",
     "text": [
      "Overwriting syracuse.c\n"
     ]
    }
   ],
   "source": [
    "%%file syracuse.c\n",
    "#include <stdlib.h> \n",
    "#include <stdio.h>\n",
    "long syracuse(long n) { \n",
    "   long count = 0L ; \n",
    "   while (n > 1) {\n",
    "      if ((n&1)==0) \n",
    "          n /= 2; \n",
    "      else \n",
    "          n = 3*n+1; \n",
    "      count++;   \n",
    "   }\n",
    "   return count ; \n",
    "}\n",
    "\n",
    "int main() {\n",
    "   const long N = 1000000; \n",
    "   double t1, t2;\n",
    "   long i , *flights ;\n",
    "   flights = (long*)malloc(N*sizeof(long));\n",
    "   for (i = 0; i <N; i++) flights[i] = syracuse(i+1); \n",
    "   return EXIT_SUCCESS;\n",
    "}"
   ]
  },
  {
   "cell_type": "code",
   "execution_count": 2,
   "metadata": {},
   "outputs": [
    {
     "name": "stderr",
     "output_type": "stream",
     "text": [
      "\n",
      "real\t0m0,001s\n",
      "user\t0m0,000s\n",
      "sys\t0m0,001s\n"
     ]
    }
   ],
   "source": [
    "%%bash\n",
    "gcc -O3 syracuse.c \n",
    "time ./a.out"
   ]
  },
  {
   "cell_type": "markdown",
   "metadata": {},
   "source": [
    "## Python program"
   ]
  },
  {
   "cell_type": "code",
   "execution_count": 3,
   "metadata": {},
   "outputs": [
    {
     "name": "stdout",
     "output_type": "stream",
     "text": [
      "CPU times: user 7.3 s, sys: 3.9 ms, total: 7.3 s\n",
      "Wall time: 7.3 s\n"
     ]
    }
   ],
   "source": [
    "%%time\n",
    "\n",
    "from itertools import count\n",
    "\n",
    "def syracuse(n):\n",
    "    x = n\n",
    "    for steps in count() :\n",
    "        if x & 1 : \n",
    "            x = 3*x+1\n",
    "        else:\n",
    "            x = x // 2\n",
    "            \n",
    "        if x == 1:\n",
    "            return steps\n",
    "\n",
    "N = 1000000\n",
    "flights = [syracuse(i) for i in range(1,N+1)]"
   ]
  },
  {
   "cell_type": "markdown",
   "metadata": {},
   "source": [
    "## Performances\n",
    "\n",
    "- The python syntax is simpler.\n",
    "- 100 times slower\n",
    "- Solution : call the C function from python."
   ]
  },
  {
   "cell_type": "markdown",
   "metadata": {},
   "source": [
    "## Ctypes\n",
    "\n",
    "This is the C function we will call from python"
   ]
  },
  {
   "cell_type": "code",
   "execution_count": 4,
   "metadata": {},
   "outputs": [
    {
     "name": "stdout",
     "output_type": "stream",
     "text": [
      "Overwriting syrac.c\n"
     ]
    }
   ],
   "source": [
    "%%file syrac.c\n",
    "\n",
    "long syracuse(long n)\n",
    "{ \n",
    "   long count = 0L ; \n",
    "   while (n > 1)\n",
    "   {\n",
    "      if ((n&1)==0) \n",
    "         n /= 2; \n",
    "      else \n",
    "         n = 3*n+1; \n",
    "      count++;   \n",
    "   }\n",
    "   return count ; \n",
    "}"
   ]
  },
  {
   "cell_type": "markdown",
   "metadata": {},
   "source": [
    "Build the shared library"
   ]
  },
  {
   "cell_type": "code",
   "execution_count": 5,
   "metadata": {},
   "outputs": [],
   "source": [
    "%%bash\n",
    "gcc -fPIC -shared -O3 \\\n",
    "    -o syrac.so syrac.c"
   ]
  },
  {
   "cell_type": "code",
   "execution_count": 6,
   "metadata": {},
   "outputs": [
    {
     "name": "stdout",
     "output_type": "stream",
     "text": [
      "CPU times: user 397 ms, sys: 8 μs, total: 397 ms\n",
      "Wall time: 396 ms\n"
     ]
    }
   ],
   "source": [
    "%%time\n",
    "\n",
    "import time\n",
    "from ctypes import *\n",
    "\n",
    "syracDLL = CDLL(\"./syrac.so\")\n",
    "syracuse = syracDLL.syracuse\n",
    "\n",
    "flights = [syracuse(i) for i in range(1,N+1)]"
   ]
  },
  {
   "cell_type": "markdown",
   "metadata": {},
   "source": [
    "## Ctypes with Fortran module\n",
    "\n",
    "If you change the fortran file you have to restart the kernel"
   ]
  },
  {
   "cell_type": "code",
   "execution_count": 7,
   "metadata": {},
   "outputs": [
    {
     "name": "stdout",
     "output_type": "stream",
     "text": [
      "Overwriting syrac.F90\n"
     ]
    }
   ],
   "source": [
    "%%file syrac.F90\n",
    "\n",
    "module syrac_f90\n",
    "  use iso_c_binding\n",
    "  implicit none\n",
    "\n",
    "contains\n",
    "\n",
    "  function f_syrac(n) bind(c, name='c_syrac') result(f)\n",
    "    \n",
    "    integer(c_long) :: f\n",
    "    integer(c_long), intent(in), value :: n\n",
    "    integer(c_long) :: x\n",
    "    x = n\n",
    "    f = 0_8\n",
    "    do while(x>1)\n",
    "       if (iand(x,1_8) == 0) then\n",
    "          x = x / 2\n",
    "       else\n",
    "          x = 3*x+1\n",
    "       end if\n",
    "       f = f + 1_8\n",
    "    end do\n",
    "\n",
    "  end function f_syrac\n",
    "\n",
    "end module syrac_f90"
   ]
  },
  {
   "cell_type": "code",
   "execution_count": 8,
   "metadata": {},
   "outputs": [],
   "source": [
    "%%bash\n",
    "rm -f *.o *.so *.dylib\n",
    "gfortran -fPIC -shared -O3 -o syrac.dylib syrac.F90"
   ]
  },
  {
   "cell_type": "code",
   "execution_count": 9,
   "metadata": {},
   "outputs": [
    {
     "data": {
      "text/plain": [
       "111"
      ]
     },
     "execution_count": 9,
     "metadata": {},
     "output_type": "execute_result"
    }
   ],
   "source": [
    "from ctypes import *\n",
    "\n",
    "syrac_f90 = CDLL('./syrac.dylib')\n",
    "\n",
    "syrac_f90.c_syrac.restype = c_long\n",
    "\n",
    "syrac_f90.c_syrac(1000)"
   ]
  },
  {
   "cell_type": "code",
   "execution_count": 10,
   "metadata": {},
   "outputs": [
    {
     "name": "stdout",
     "output_type": "stream",
     "text": [
      "CPU times: user 426 ms, sys: 0 ns, total: 426 ms\n",
      "Wall time: 425 ms\n"
     ]
    }
   ],
   "source": [
    "%%time\n",
    "N = 1000000\n",
    "flights = [syrac_f90.c_syrac(i) for i in range(1,N+1)]"
   ]
  },
  {
   "cell_type": "markdown",
   "metadata": {},
   "source": [
    "- Faster than pure Python\n",
    "- We can call function from DLL windows libraries.\n",
    "- Unfortunately you need to adapt the syntax to the operating system.\n",
    "\n",
    "http://docs.python.org/library/ctypes.html}"
   ]
  },
  {
   "cell_type": "markdown",
   "metadata": {},
   "source": [
    "## SWIG"
   ]
  },
  {
   "cell_type": "markdown",
   "metadata": {},
   "source": [
    "Interface file syrac.i for C function in syrac.c"
   ]
  },
  {
   "cell_type": "code",
   "execution_count": 11,
   "metadata": {
    "lines_to_next_cell": 2
   },
   "outputs": [
    {
     "name": "stdout",
     "output_type": "stream",
     "text": [
      "Overwriting syrac.i\n"
     ]
    }
   ],
   "source": [
    "%%file syrac.i\n",
    "\n",
    "%module syracuseC\n",
    "%{\n",
    "   extern long syracuse(long n);\n",
    "%}\n",
    "extern long syracuse(long n);"
   ]
  },
  {
   "cell_type": "code",
   "execution_count": 12,
   "metadata": {},
   "outputs": [],
   "source": [
    "%%bash\n",
    "swig -python syrac.i"
   ]
  },
  {
   "cell_type": "markdown",
   "metadata": {},
   "source": [
    "### Build the python module \n",
    "\n",
    "- Using command line\n",
    "\n",
    "```bash\n",
    "swig -python syrac.i\n",
    "\n",
    "gcc `python3-config --cflags` -fPIC \\\n",
    "  -shared -O3 -o _syracuseC.so syrac_wrap.c syrac.c `python3-config --ldflags`\n",
    " ```"
   ]
  },
  {
   "cell_type": "markdown",
   "metadata": {},
   "source": [
    "- With distutils"
   ]
  },
  {
   "cell_type": "code",
   "execution_count": 13,
   "metadata": {},
   "outputs": [
    {
     "name": "stdout",
     "output_type": "stream",
     "text": [
      "Overwriting setup.py\n"
     ]
    }
   ],
   "source": [
    "%%file setup.py\n",
    "from numpy.distutils.core import Extension, setup\n",
    "\n",
    "\n",
    "module_swig = Extension('_syracuseC', sources=['syrac_wrap.c', 'syrac.c'])\n",
    "\n",
    "setup( name='Syracuse',\n",
    "       version = '0.1.0',\n",
    "       author      = \"Pierre Navaro\",\n",
    "       description = \"\"\"Simple C Fortran interface example \"\"\",\n",
    "       ext_modules = [module_swig],\n",
    ")"
   ]
  },
  {
   "cell_type": "code",
   "execution_count": 14,
   "metadata": {},
   "outputs": [
    {
     "name": "stdout",
     "output_type": "stream",
     "text": [
      "/home/pnavaro/python-fortran/notebooks/setup.py:1: DeprecationWarning: \n",
      "\n",
      "  `numpy.distutils` is deprecated since NumPy 1.23.0, as a result\n",
      "  of the deprecation of `distutils` itself. It will be removed for\n",
      "  Python >= 3.12. For older Python versions it will remain present.\n",
      "  It is recommended to use `setuptools < 60.0` for those Python versions.\n",
      "  For more details, see:\n",
      "    https://numpy.org/devdocs/reference/distutils_status_migration.html \n",
      "\n",
      "\n",
      "  from numpy.distutils.core import Extension, setup\n",
      "\u001b[39mrunning build_ext\u001b[0m\n",
      "\u001b[39mrunning build_src\u001b[0m\n",
      "\u001b[39mINFO: build_src\u001b[0m\n",
      "\u001b[39mINFO: building extension \"_syracuseC\" sources\u001b[0m\n",
      "\u001b[39mINFO: build_src: building npy-pkg config files\u001b[0m\n",
      "\u001b[39mINFO: customize UnixCCompiler\u001b[0m\n",
      "\u001b[39mINFO: C compiler: /home/pnavaro/.julia/conda/3/x86_64/envs/f2py/bin/x86_64-conda-linux-gnu-cc -DNDEBUG -fwrapv -O2 -Wall -fPIC -O2 -isystem /home/pnavaro/.julia/conda/3/x86_64/envs/f2py/include -fPIC -O2 -isystem /home/pnavaro/.julia/conda/3/x86_64/envs/f2py/include -march=nocona -mtune=haswell -ftree-vectorize -fPIC -fstack-protector-strong -fno-plt -O2 -ffunction-sections -pipe -isystem /home/pnavaro/.julia/conda/3/x86_64/envs/f2py/include -DNDEBUG -D_FORTIFY_SOURCE=2 -O2 -isystem /home/pnavaro/.julia/conda/3/x86_64/envs/f2py/include -fPIC\n",
      "\u001b[0m\n",
      "\u001b[39mcreating /tmp/tmpiq881k0v/tmp\u001b[0m\n",
      "\u001b[39mcreating /tmp/tmpiq881k0v/tmp/tmpiq881k0v\u001b[0m\n",
      "\u001b[39mINFO: compile options: '-MMD -MF /tmp/tmpiq881k0v/file.c.d -c'\u001b[0m\n",
      "\u001b[39mINFO: x86_64-conda-linux-gnu-cc: /tmp/tmpiq881k0v/file.c\u001b[0m\n",
      "\u001b[39mINFO: customize UnixCCompiler using build_ext\u001b[0m\n",
      "\u001b[31mWARN: CCompilerOpt.__init__[1041] : unable to detect compiler type which leads to treating it as GCC. this is a normal behavior if you're using gcc-like compiler such as MinGW or IBM/XLC.check dist_info:<<\n",
      "('linux-x86_64', '/home/pnavaro/.julia/conda/3/x86_64/envs/f2py/bin/x86_64-conda-linux-gnu-cc', '-DNDEBUG -fwrapv -O2 -Wall -fPIC -O2 -isystem /home/pnavaro/.julia/conda/3/x86_64/envs/f2py/include -fPIC -O2 -isystem /home/pnavaro/.julia/conda/3/x86_64/envs/f2py/include -march=nocona -mtune=haswell -ftree-vectorize -fPIC -fstack-protector-strong -fno-plt -O2 -ffunction-sections -pipe -isystem /home/pnavaro/.julia/conda/3/x86_64/envs/f2py/include -DNDEBUG -D_FORTIFY_SOURCE=2 -O2 -isystem /home/pnavaro/.julia/conda/3/x86_64/envs/f2py/include')\n",
      ">>\u001b[0m\n",
      "\u001b[39mINFO: CCompilerOpt.cc_test_flags[1086] : testing flags (-march=native)\u001b[0m\n",
      "\u001b[39mINFO: C compiler: /home/pnavaro/.julia/conda/3/x86_64/envs/f2py/bin/x86_64-conda-linux-gnu-cc -DNDEBUG -fwrapv -O2 -Wall -fPIC -O2 -isystem /home/pnavaro/.julia/conda/3/x86_64/envs/f2py/include -fPIC -O2 -isystem /home/pnavaro/.julia/conda/3/x86_64/envs/f2py/include -march=nocona -mtune=haswell -ftree-vectorize -fPIC -fstack-protector-strong -fno-plt -O2 -ffunction-sections -pipe -isystem /home/pnavaro/.julia/conda/3/x86_64/envs/f2py/include -DNDEBUG -D_FORTIFY_SOURCE=2 -O2 -isystem /home/pnavaro/.julia/conda/3/x86_64/envs/f2py/include -fPIC\n",
      "\u001b[0m\n",
      "\u001b[39mcreating /tmp/tmp_7xinm9l/home\u001b[0m\n",
      "\u001b[39mcreating /tmp/tmp_7xinm9l/home/pnavaro\u001b[0m\n",
      "\u001b[39mcreating /tmp/tmp_7xinm9l/home/pnavaro/.julia\u001b[0m\n",
      "\u001b[39mcreating /tmp/tmp_7xinm9l/home/pnavaro/.julia/conda\u001b[0m\n",
      "\u001b[39mcreating /tmp/tmp_7xinm9l/home/pnavaro/.julia/conda/3\u001b[0m\n",
      "\u001b[39mcreating /tmp/tmp_7xinm9l/home/pnavaro/.julia/conda/3/x86_64\u001b[0m\n",
      "\u001b[39mcreating /tmp/tmp_7xinm9l/home/pnavaro/.julia/conda/3/x86_64/envs\u001b[0m\n",
      "\u001b[39mcreating /tmp/tmp_7xinm9l/home/pnavaro/.julia/conda/3/x86_64/envs/f2py\u001b[0m\n",
      "\u001b[39mcreating /tmp/tmp_7xinm9l/home/pnavaro/.julia/conda/3/x86_64/envs/f2py/lib\u001b[0m\n",
      "\u001b[39mcreating /tmp/tmp_7xinm9l/home/pnavaro/.julia/conda/3/x86_64/envs/f2py/lib/python3.11\u001b[0m\n",
      "\u001b[39mcreating /tmp/tmp_7xinm9l/home/pnavaro/.julia/conda/3/x86_64/envs/f2py/lib/python3.11/site-packages\u001b[0m\n",
      "\u001b[39mcreating /tmp/tmp_7xinm9l/home/pnavaro/.julia/conda/3/x86_64/envs/f2py/lib/python3.11/site-packages/numpy\u001b[0m\n",
      "\u001b[39mcreating /tmp/tmp_7xinm9l/home/pnavaro/.julia/conda/3/x86_64/envs/f2py/lib/python3.11/site-packages/numpy/distutils\u001b[0m\n",
      "\u001b[39mcreating /tmp/tmp_7xinm9l/home/pnavaro/.julia/conda/3/x86_64/envs/f2py/lib/python3.11/site-packages/numpy/distutils/checks\u001b[0m\n",
      "\u001b[39mINFO: compile options: '-I/home/pnavaro/.julia/conda/3/x86_64/envs/f2py/include/python3.11 -c'\n",
      "extra options: '-march=native'\u001b[0m\n",
      "\u001b[39mINFO: CCompilerOpt.cc_test_flags[1086] : testing flags (-O3)\u001b[0m\n",
      "\u001b[39mINFO: C compiler: /home/pnavaro/.julia/conda/3/x86_64/envs/f2py/bin/x86_64-conda-linux-gnu-cc -DNDEBUG -fwrapv -O2 -Wall -fPIC -O2 -isystem /home/pnavaro/.julia/conda/3/x86_64/envs/f2py/include -fPIC -O2 -isystem /home/pnavaro/.julia/conda/3/x86_64/envs/f2py/include -march=nocona -mtune=haswell -ftree-vectorize -fPIC -fstack-protector-strong -fno-plt -O2 -ffunction-sections -pipe -isystem /home/pnavaro/.julia/conda/3/x86_64/envs/f2py/include -DNDEBUG -D_FORTIFY_SOURCE=2 -O2 -isystem /home/pnavaro/.julia/conda/3/x86_64/envs/f2py/include -fPIC\n",
      "\u001b[0m\n",
      "\u001b[39mINFO: compile options: '-I/home/pnavaro/.julia/conda/3/x86_64/envs/f2py/include/python3.11 -c'\n",
      "extra options: '-O3'\u001b[0m\n",
      "\u001b[39mINFO: CCompilerOpt.cc_test_flags[1086] : testing flags (-Werror)\u001b[0m\n",
      "\u001b[39mINFO: C compiler: /home/pnavaro/.julia/conda/3/x86_64/envs/f2py/bin/x86_64-conda-linux-gnu-cc -DNDEBUG -fwrapv -O2 -Wall -fPIC -O2 -isystem /home/pnavaro/.julia/conda/3/x86_64/envs/f2py/include -fPIC -O2 -isystem /home/pnavaro/.julia/conda/3/x86_64/envs/f2py/include -march=nocona -mtune=haswell -ftree-vectorize -fPIC -fstack-protector-strong -fno-plt -O2 -ffunction-sections -pipe -isystem /home/pnavaro/.julia/conda/3/x86_64/envs/f2py/include -DNDEBUG -D_FORTIFY_SOURCE=2 -O2 -isystem /home/pnavaro/.julia/conda/3/x86_64/envs/f2py/include -fPIC\n",
      "\u001b[0m\n",
      "\u001b[39mINFO: compile options: '-I/home/pnavaro/.julia/conda/3/x86_64/envs/f2py/include/python3.11 -c'\n",
      "extra options: '-Werror'\u001b[0m\n",
      "\u001b[39mINFO: CCompilerOpt.__init__[1795] : check requested baseline\u001b[0m\n",
      "\u001b[39mINFO: CCompilerOpt.cc_test_flags[1086] : testing flags (-msse)\u001b[0m\n",
      "\u001b[39mINFO: C compiler: /home/pnavaro/.julia/conda/3/x86_64/envs/f2py/bin/x86_64-conda-linux-gnu-cc -DNDEBUG -fwrapv -O2 -Wall -fPIC -O2 -isystem /home/pnavaro/.julia/conda/3/x86_64/envs/f2py/include -fPIC -O2 -isystem /home/pnavaro/.julia/conda/3/x86_64/envs/f2py/include -march=nocona -mtune=haswell -ftree-vectorize -fPIC -fstack-protector-strong -fno-plt -O2 -ffunction-sections -pipe -isystem /home/pnavaro/.julia/conda/3/x86_64/envs/f2py/include -DNDEBUG -D_FORTIFY_SOURCE=2 -O2 -isystem /home/pnavaro/.julia/conda/3/x86_64/envs/f2py/include -fPIC\n",
      "\u001b[0m\n",
      "\u001b[39mINFO: compile options: '-I/home/pnavaro/.julia/conda/3/x86_64/envs/f2py/include/python3.11 -c'\n",
      "extra options: '-msse'\u001b[0m\n",
      "\u001b[39mINFO: CCompilerOpt.cc_test_flags[1086] : testing flags (-msse2)\u001b[0m\n",
      "\u001b[39mINFO: C compiler: /home/pnavaro/.julia/conda/3/x86_64/envs/f2py/bin/x86_64-conda-linux-gnu-cc -DNDEBUG -fwrapv -O2 -Wall -fPIC -O2 -isystem /home/pnavaro/.julia/conda/3/x86_64/envs/f2py/include -fPIC -O2 -isystem /home/pnavaro/.julia/conda/3/x86_64/envs/f2py/include -march=nocona -mtune=haswell -ftree-vectorize -fPIC -fstack-protector-strong -fno-plt -O2 -ffunction-sections -pipe -isystem /home/pnavaro/.julia/conda/3/x86_64/envs/f2py/include -DNDEBUG -D_FORTIFY_SOURCE=2 -O2 -isystem /home/pnavaro/.julia/conda/3/x86_64/envs/f2py/include -fPIC\n",
      "\u001b[0m\n",
      "\u001b[39mINFO: compile options: '-I/home/pnavaro/.julia/conda/3/x86_64/envs/f2py/include/python3.11 -c'\n",
      "extra options: '-msse2'\u001b[0m\n",
      "\u001b[39mINFO: CCompilerOpt.feature_test[1560] : testing feature 'SSE' with flags (-msse -msse2)\u001b[0m\n",
      "\u001b[39mINFO: C compiler: /home/pnavaro/.julia/conda/3/x86_64/envs/f2py/bin/x86_64-conda-linux-gnu-cc -DNDEBUG -fwrapv -O2 -Wall -fPIC -O2 -isystem /home/pnavaro/.julia/conda/3/x86_64/envs/f2py/include -fPIC -O2 -isystem /home/pnavaro/.julia/conda/3/x86_64/envs/f2py/include -march=nocona -mtune=haswell -ftree-vectorize -fPIC -fstack-protector-strong -fno-plt -O2 -ffunction-sections -pipe -isystem /home/pnavaro/.julia/conda/3/x86_64/envs/f2py/include -DNDEBUG -D_FORTIFY_SOURCE=2 -O2 -isystem /home/pnavaro/.julia/conda/3/x86_64/envs/f2py/include -fPIC\n",
      "\u001b[0m\n",
      "\u001b[39mINFO: compile options: '-I/home/pnavaro/.julia/conda/3/x86_64/envs/f2py/include/python3.11 -c'\n",
      "extra options: '-msse -msse2 -Werror'\u001b[0m\n",
      "\u001b[39mINFO: CCompilerOpt.feature_test[1560] : testing feature 'SSE2' with flags (-msse -msse2)\u001b[0m\n",
      "\u001b[39mINFO: C compiler: /home/pnavaro/.julia/conda/3/x86_64/envs/f2py/bin/x86_64-conda-linux-gnu-cc -DNDEBUG -fwrapv -O2 -Wall -fPIC -O2 -isystem /home/pnavaro/.julia/conda/3/x86_64/envs/f2py/include -fPIC -O2 -isystem /home/pnavaro/.julia/conda/3/x86_64/envs/f2py/include -march=nocona -mtune=haswell -ftree-vectorize -fPIC -fstack-protector-strong -fno-plt -O2 -ffunction-sections -pipe -isystem /home/pnavaro/.julia/conda/3/x86_64/envs/f2py/include -DNDEBUG -D_FORTIFY_SOURCE=2 -O2 -isystem /home/pnavaro/.julia/conda/3/x86_64/envs/f2py/include -fPIC\n",
      "\u001b[0m\n",
      "\u001b[39mINFO: compile options: '-I/home/pnavaro/.julia/conda/3/x86_64/envs/f2py/include/python3.11 -c'\n",
      "extra options: '-msse -msse2 -Werror'\u001b[0m\n",
      "\u001b[39mINFO: CCompilerOpt.cc_test_flags[1086] : testing flags (-msse3)\u001b[0m\n",
      "\u001b[39mINFO: C compiler: /home/pnavaro/.julia/conda/3/x86_64/envs/f2py/bin/x86_64-conda-linux-gnu-cc -DNDEBUG -fwrapv -O2 -Wall -fPIC -O2 -isystem /home/pnavaro/.julia/conda/3/x86_64/envs/f2py/include -fPIC -O2 -isystem /home/pnavaro/.julia/conda/3/x86_64/envs/f2py/include -march=nocona -mtune=haswell -ftree-vectorize -fPIC -fstack-protector-strong -fno-plt -O2 -ffunction-sections -pipe -isystem /home/pnavaro/.julia/conda/3/x86_64/envs/f2py/include -DNDEBUG -D_FORTIFY_SOURCE=2 -O2 -isystem /home/pnavaro/.julia/conda/3/x86_64/envs/f2py/include -fPIC\n",
      "\u001b[0m\n",
      "\u001b[39mINFO: compile options: '-I/home/pnavaro/.julia/conda/3/x86_64/envs/f2py/include/python3.11 -c'\n",
      "extra options: '-msse3'\u001b[0m\n",
      "\u001b[39mINFO: CCompilerOpt.feature_test[1560] : testing feature 'SSE3' with flags (-msse -msse2 -msse3)\u001b[0m\n",
      "\u001b[39mINFO: C compiler: /home/pnavaro/.julia/conda/3/x86_64/envs/f2py/bin/x86_64-conda-linux-gnu-cc -DNDEBUG -fwrapv -O2 -Wall -fPIC -O2 -isystem /home/pnavaro/.julia/conda/3/x86_64/envs/f2py/include -fPIC -O2 -isystem /home/pnavaro/.julia/conda/3/x86_64/envs/f2py/include -march=nocona -mtune=haswell -ftree-vectorize -fPIC -fstack-protector-strong -fno-plt -O2 -ffunction-sections -pipe -isystem /home/pnavaro/.julia/conda/3/x86_64/envs/f2py/include -DNDEBUG -D_FORTIFY_SOURCE=2 -O2 -isystem /home/pnavaro/.julia/conda/3/x86_64/envs/f2py/include -fPIC\n",
      "\u001b[0m\n",
      "\u001b[39mINFO: compile options: '-I/home/pnavaro/.julia/conda/3/x86_64/envs/f2py/include/python3.11 -c'\n",
      "extra options: '-msse -msse2 -msse3 -Werror'\u001b[0m\n",
      "\u001b[39mINFO: CCompilerOpt.__init__[1804] : check requested dispatch-able features\u001b[0m\n",
      "\u001b[39mINFO: CCompilerOpt.cc_test_flags[1086] : testing flags (-mssse3)\u001b[0m\n",
      "\u001b[39mINFO: C compiler: /home/pnavaro/.julia/conda/3/x86_64/envs/f2py/bin/x86_64-conda-linux-gnu-cc -DNDEBUG -fwrapv -O2 -Wall -fPIC -O2 -isystem /home/pnavaro/.julia/conda/3/x86_64/envs/f2py/include -fPIC -O2 -isystem /home/pnavaro/.julia/conda/3/x86_64/envs/f2py/include -march=nocona -mtune=haswell -ftree-vectorize -fPIC -fstack-protector-strong -fno-plt -O2 -ffunction-sections -pipe -isystem /home/pnavaro/.julia/conda/3/x86_64/envs/f2py/include -DNDEBUG -D_FORTIFY_SOURCE=2 -O2 -isystem /home/pnavaro/.julia/conda/3/x86_64/envs/f2py/include -fPIC\n",
      "\u001b[0m\n",
      "\u001b[39mINFO: compile options: '-I/home/pnavaro/.julia/conda/3/x86_64/envs/f2py/include/python3.11 -c'\n",
      "extra options: '-mssse3'\u001b[0m\n",
      "\u001b[39mINFO: CCompilerOpt.feature_test[1560] : testing feature 'SSSE3' with flags (-msse -msse2 -msse3 -mssse3)\u001b[0m\n",
      "\u001b[39mINFO: C compiler: /home/pnavaro/.julia/conda/3/x86_64/envs/f2py/bin/x86_64-conda-linux-gnu-cc -DNDEBUG -fwrapv -O2 -Wall -fPIC -O2 -isystem /home/pnavaro/.julia/conda/3/x86_64/envs/f2py/include -fPIC -O2 -isystem /home/pnavaro/.julia/conda/3/x86_64/envs/f2py/include -march=nocona -mtune=haswell -ftree-vectorize -fPIC -fstack-protector-strong -fno-plt -O2 -ffunction-sections -pipe -isystem /home/pnavaro/.julia/conda/3/x86_64/envs/f2py/include -DNDEBUG -D_FORTIFY_SOURCE=2 -O2 -isystem /home/pnavaro/.julia/conda/3/x86_64/envs/f2py/include -fPIC\n",
      "\u001b[0m\n",
      "\u001b[39mINFO: compile options: '-I/home/pnavaro/.julia/conda/3/x86_64/envs/f2py/include/python3.11 -c'\n",
      "extra options: '-msse -msse2 -msse3 -mssse3 -Werror'\u001b[0m\n",
      "\u001b[39mINFO: CCompilerOpt.cc_test_flags[1086] : testing flags (-msse4.1)\u001b[0m\n",
      "\u001b[39mINFO: C compiler: /home/pnavaro/.julia/conda/3/x86_64/envs/f2py/bin/x86_64-conda-linux-gnu-cc -DNDEBUG -fwrapv -O2 -Wall -fPIC -O2 -isystem /home/pnavaro/.julia/conda/3/x86_64/envs/f2py/include -fPIC -O2 -isystem /home/pnavaro/.julia/conda/3/x86_64/envs/f2py/include -march=nocona -mtune=haswell -ftree-vectorize -fPIC -fstack-protector-strong -fno-plt -O2 -ffunction-sections -pipe -isystem /home/pnavaro/.julia/conda/3/x86_64/envs/f2py/include -DNDEBUG -D_FORTIFY_SOURCE=2 -O2 -isystem /home/pnavaro/.julia/conda/3/x86_64/envs/f2py/include -fPIC\n",
      "\u001b[0m\n",
      "\u001b[39mINFO: compile options: '-I/home/pnavaro/.julia/conda/3/x86_64/envs/f2py/include/python3.11 -c'\n",
      "extra options: '-msse4.1'\u001b[0m\n",
      "\u001b[39mINFO: CCompilerOpt.cc_test_flags[1086] : testing flags (-mpopcnt)\u001b[0m\n",
      "\u001b[39mINFO: C compiler: /home/pnavaro/.julia/conda/3/x86_64/envs/f2py/bin/x86_64-conda-linux-gnu-cc -DNDEBUG -fwrapv -O2 -Wall -fPIC -O2 -isystem /home/pnavaro/.julia/conda/3/x86_64/envs/f2py/include -fPIC -O2 -isystem /home/pnavaro/.julia/conda/3/x86_64/envs/f2py/include -march=nocona -mtune=haswell -ftree-vectorize -fPIC -fstack-protector-strong -fno-plt -O2 -ffunction-sections -pipe -isystem /home/pnavaro/.julia/conda/3/x86_64/envs/f2py/include -DNDEBUG -D_FORTIFY_SOURCE=2 -O2 -isystem /home/pnavaro/.julia/conda/3/x86_64/envs/f2py/include -fPIC\n",
      "\u001b[0m\n",
      "\u001b[39mINFO: compile options: '-I/home/pnavaro/.julia/conda/3/x86_64/envs/f2py/include/python3.11 -c'\n",
      "extra options: '-mpopcnt'\u001b[0m\n",
      "\u001b[39mINFO: CCompilerOpt.feature_test[1560] : testing feature 'POPCNT' with flags (-msse -msse2 -msse3 -mssse3 -msse4.1 -mpopcnt)\u001b[0m\n",
      "\u001b[39mINFO: C compiler: /home/pnavaro/.julia/conda/3/x86_64/envs/f2py/bin/x86_64-conda-linux-gnu-cc -DNDEBUG -fwrapv -O2 -Wall -fPIC -O2 -isystem /home/pnavaro/.julia/conda/3/x86_64/envs/f2py/include -fPIC -O2 -isystem /home/pnavaro/.julia/conda/3/x86_64/envs/f2py/include -march=nocona -mtune=haswell -ftree-vectorize -fPIC -fstack-protector-strong -fno-plt -O2 -ffunction-sections -pipe -isystem /home/pnavaro/.julia/conda/3/x86_64/envs/f2py/include -DNDEBUG -D_FORTIFY_SOURCE=2 -O2 -isystem /home/pnavaro/.julia/conda/3/x86_64/envs/f2py/include -fPIC\n",
      "\u001b[0m\n",
      "\u001b[39mINFO: compile options: '-I/home/pnavaro/.julia/conda/3/x86_64/envs/f2py/include/python3.11 -c'\n",
      "extra options: '-msse -msse2 -msse3 -mssse3 -msse4.1 -mpopcnt -Werror'\u001b[0m\n",
      "\u001b[39mINFO: CCompilerOpt.cc_test_flags[1086] : testing flags (-msse4.2)\u001b[0m\n",
      "\u001b[39mINFO: C compiler: /home/pnavaro/.julia/conda/3/x86_64/envs/f2py/bin/x86_64-conda-linux-gnu-cc -DNDEBUG -fwrapv -O2 -Wall -fPIC -O2 -isystem /home/pnavaro/.julia/conda/3/x86_64/envs/f2py/include -fPIC -O2 -isystem /home/pnavaro/.julia/conda/3/x86_64/envs/f2py/include -march=nocona -mtune=haswell -ftree-vectorize -fPIC -fstack-protector-strong -fno-plt -O2 -ffunction-sections -pipe -isystem /home/pnavaro/.julia/conda/3/x86_64/envs/f2py/include -DNDEBUG -D_FORTIFY_SOURCE=2 -O2 -isystem /home/pnavaro/.julia/conda/3/x86_64/envs/f2py/include -fPIC\n",
      "\u001b[0m\n",
      "\u001b[39mINFO: compile options: '-I/home/pnavaro/.julia/conda/3/x86_64/envs/f2py/include/python3.11 -c'\n",
      "extra options: '-msse4.2'\u001b[0m\n",
      "\u001b[39mINFO: CCompilerOpt.cc_test_flags[1086] : testing flags (-mavx)\u001b[0m\n",
      "\u001b[39mINFO: C compiler: /home/pnavaro/.julia/conda/3/x86_64/envs/f2py/bin/x86_64-conda-linux-gnu-cc -DNDEBUG -fwrapv -O2 -Wall -fPIC -O2 -isystem /home/pnavaro/.julia/conda/3/x86_64/envs/f2py/include -fPIC -O2 -isystem /home/pnavaro/.julia/conda/3/x86_64/envs/f2py/include -march=nocona -mtune=haswell -ftree-vectorize -fPIC -fstack-protector-strong -fno-plt -O2 -ffunction-sections -pipe -isystem /home/pnavaro/.julia/conda/3/x86_64/envs/f2py/include -DNDEBUG -D_FORTIFY_SOURCE=2 -O2 -isystem /home/pnavaro/.julia/conda/3/x86_64/envs/f2py/include -fPIC\n",
      "\u001b[0m\n",
      "\u001b[39mINFO: compile options: '-I/home/pnavaro/.julia/conda/3/x86_64/envs/f2py/include/python3.11 -c'\n",
      "extra options: '-mavx'\u001b[0m\n",
      "\u001b[39mINFO: CCompilerOpt.cc_test_flags[1086] : testing flags (-mf16c)\u001b[0m\n",
      "\u001b[39mINFO: C compiler: /home/pnavaro/.julia/conda/3/x86_64/envs/f2py/bin/x86_64-conda-linux-gnu-cc -DNDEBUG -fwrapv -O2 -Wall -fPIC -O2 -isystem /home/pnavaro/.julia/conda/3/x86_64/envs/f2py/include -fPIC -O2 -isystem /home/pnavaro/.julia/conda/3/x86_64/envs/f2py/include -march=nocona -mtune=haswell -ftree-vectorize -fPIC -fstack-protector-strong -fno-plt -O2 -ffunction-sections -pipe -isystem /home/pnavaro/.julia/conda/3/x86_64/envs/f2py/include -DNDEBUG -D_FORTIFY_SOURCE=2 -O2 -isystem /home/pnavaro/.julia/conda/3/x86_64/envs/f2py/include -fPIC\n",
      "\u001b[0m\n",
      "\u001b[39mINFO: compile options: '-I/home/pnavaro/.julia/conda/3/x86_64/envs/f2py/include/python3.11 -c'\n",
      "extra options: '-mf16c'\u001b[0m\n",
      "\u001b[39mINFO: CCompilerOpt.cc_test_flags[1086] : testing flags (-mavx2)\u001b[0m\n",
      "\u001b[39mINFO: C compiler: /home/pnavaro/.julia/conda/3/x86_64/envs/f2py/bin/x86_64-conda-linux-gnu-cc -DNDEBUG -fwrapv -O2 -Wall -fPIC -O2 -isystem /home/pnavaro/.julia/conda/3/x86_64/envs/f2py/include -fPIC -O2 -isystem /home/pnavaro/.julia/conda/3/x86_64/envs/f2py/include -march=nocona -mtune=haswell -ftree-vectorize -fPIC -fstack-protector-strong -fno-plt -O2 -ffunction-sections -pipe -isystem /home/pnavaro/.julia/conda/3/x86_64/envs/f2py/include -DNDEBUG -D_FORTIFY_SOURCE=2 -O2 -isystem /home/pnavaro/.julia/conda/3/x86_64/envs/f2py/include -fPIC\n",
      "\u001b[0m\n",
      "\u001b[39mINFO: compile options: '-I/home/pnavaro/.julia/conda/3/x86_64/envs/f2py/include/python3.11 -c'\n",
      "extra options: '-mavx2'\u001b[0m\n",
      "\u001b[39mINFO: CCompilerOpt.feature_test[1560] : testing feature 'AVX2' with flags (-msse -msse2 -msse3 -mssse3 -msse4.1 -mpopcnt -msse4.2 -mavx -mf16c -mavx2)\u001b[0m\n",
      "\u001b[39mINFO: C compiler: /home/pnavaro/.julia/conda/3/x86_64/envs/f2py/bin/x86_64-conda-linux-gnu-cc -DNDEBUG -fwrapv -O2 -Wall -fPIC -O2 -isystem /home/pnavaro/.julia/conda/3/x86_64/envs/f2py/include -fPIC -O2 -isystem /home/pnavaro/.julia/conda/3/x86_64/envs/f2py/include -march=nocona -mtune=haswell -ftree-vectorize -fPIC -fstack-protector-strong -fno-plt -O2 -ffunction-sections -pipe -isystem /home/pnavaro/.julia/conda/3/x86_64/envs/f2py/include -DNDEBUG -D_FORTIFY_SOURCE=2 -O2 -isystem /home/pnavaro/.julia/conda/3/x86_64/envs/f2py/include -fPIC\n",
      "\u001b[0m\n",
      "\u001b[39mINFO: compile options: '-I/home/pnavaro/.julia/conda/3/x86_64/envs/f2py/include/python3.11 -c'\n",
      "extra options: '-msse -msse2 -msse3 -mssse3 -msse4.1 -mpopcnt -msse4.2 -mavx -mf16c -mavx2 -Werror'\u001b[0m\n",
      "\u001b[39mINFO: CCompilerOpt.cc_test_flags[1086] : testing flags (-mfma)\u001b[0m\n",
      "\u001b[39mINFO: C compiler: /home/pnavaro/.julia/conda/3/x86_64/envs/f2py/bin/x86_64-conda-linux-gnu-cc -DNDEBUG -fwrapv -O2 -Wall -fPIC -O2 -isystem /home/pnavaro/.julia/conda/3/x86_64/envs/f2py/include -fPIC -O2 -isystem /home/pnavaro/.julia/conda/3/x86_64/envs/f2py/include -march=nocona -mtune=haswell -ftree-vectorize -fPIC -fstack-protector-strong -fno-plt -O2 -ffunction-sections -pipe -isystem /home/pnavaro/.julia/conda/3/x86_64/envs/f2py/include -DNDEBUG -D_FORTIFY_SOURCE=2 -O2 -isystem /home/pnavaro/.julia/conda/3/x86_64/envs/f2py/include -fPIC\n",
      "\u001b[0m\n",
      "\u001b[39mINFO: compile options: '-I/home/pnavaro/.julia/conda/3/x86_64/envs/f2py/include/python3.11 -c'\n",
      "extra options: '-mfma'\u001b[0m\n",
      "\u001b[39mINFO: CCompilerOpt.cc_test_flags[1086] : testing flags (-mavx512f -mno-mmx)\u001b[0m\n",
      "\u001b[39mINFO: C compiler: /home/pnavaro/.julia/conda/3/x86_64/envs/f2py/bin/x86_64-conda-linux-gnu-cc -DNDEBUG -fwrapv -O2 -Wall -fPIC -O2 -isystem /home/pnavaro/.julia/conda/3/x86_64/envs/f2py/include -fPIC -O2 -isystem /home/pnavaro/.julia/conda/3/x86_64/envs/f2py/include -march=nocona -mtune=haswell -ftree-vectorize -fPIC -fstack-protector-strong -fno-plt -O2 -ffunction-sections -pipe -isystem /home/pnavaro/.julia/conda/3/x86_64/envs/f2py/include -DNDEBUG -D_FORTIFY_SOURCE=2 -O2 -isystem /home/pnavaro/.julia/conda/3/x86_64/envs/f2py/include -fPIC\n",
      "\u001b[0m\n",
      "\u001b[39mINFO: compile options: '-I/home/pnavaro/.julia/conda/3/x86_64/envs/f2py/include/python3.11 -c'\n",
      "extra options: '-mavx512f -mno-mmx'\u001b[0m\n",
      "\u001b[39mINFO: CCompilerOpt.cc_test_flags[1086] : testing flags (-mavx512cd)\u001b[0m\n",
      "\u001b[39mINFO: C compiler: /home/pnavaro/.julia/conda/3/x86_64/envs/f2py/bin/x86_64-conda-linux-gnu-cc -DNDEBUG -fwrapv -O2 -Wall -fPIC -O2 -isystem /home/pnavaro/.julia/conda/3/x86_64/envs/f2py/include -fPIC -O2 -isystem /home/pnavaro/.julia/conda/3/x86_64/envs/f2py/include -march=nocona -mtune=haswell -ftree-vectorize -fPIC -fstack-protector-strong -fno-plt -O2 -ffunction-sections -pipe -isystem /home/pnavaro/.julia/conda/3/x86_64/envs/f2py/include -DNDEBUG -D_FORTIFY_SOURCE=2 -O2 -isystem /home/pnavaro/.julia/conda/3/x86_64/envs/f2py/include -fPIC\n",
      "\u001b[0m\n",
      "\u001b[39mINFO: compile options: '-I/home/pnavaro/.julia/conda/3/x86_64/envs/f2py/include/python3.11 -c'\n",
      "extra options: '-mavx512cd'\u001b[0m\n",
      "\u001b[39mINFO: CCompilerOpt.feature_test[1560] : testing feature 'AVX512CD' with flags (-msse -msse2 -msse3 -mssse3 -msse4.1 -mpopcnt -msse4.2 -mavx -mf16c -mfma -mavx2 -mavx512f -mno-mmx -mavx512cd)\u001b[0m\n",
      "\u001b[39mINFO: C compiler: /home/pnavaro/.julia/conda/3/x86_64/envs/f2py/bin/x86_64-conda-linux-gnu-cc -DNDEBUG -fwrapv -O2 -Wall -fPIC -O2 -isystem /home/pnavaro/.julia/conda/3/x86_64/envs/f2py/include -fPIC -O2 -isystem /home/pnavaro/.julia/conda/3/x86_64/envs/f2py/include -march=nocona -mtune=haswell -ftree-vectorize -fPIC -fstack-protector-strong -fno-plt -O2 -ffunction-sections -pipe -isystem /home/pnavaro/.julia/conda/3/x86_64/envs/f2py/include -DNDEBUG -D_FORTIFY_SOURCE=2 -O2 -isystem /home/pnavaro/.julia/conda/3/x86_64/envs/f2py/include -fPIC\n",
      "\u001b[0m\n",
      "\u001b[39mINFO: compile options: '-I/home/pnavaro/.julia/conda/3/x86_64/envs/f2py/include/python3.11 -c'\n",
      "extra options: '-msse -msse2 -msse3 -mssse3 -msse4.1 -mpopcnt -msse4.2 -mavx -mf16c -mfma -mavx2 -mavx512f -mno-mmx -mavx512cd -Werror'\u001b[0m\n",
      "\u001b[39mINFO: CCompilerOpt.feature_test[1560] : testing feature 'AVX512F' with flags (-msse -msse2 -msse3 -mssse3 -msse4.1 -mpopcnt -msse4.2 -mavx -mf16c -mfma -mavx2 -mavx512f -mno-mmx)\u001b[0m\n",
      "\u001b[39mINFO: C compiler: /home/pnavaro/.julia/conda/3/x86_64/envs/f2py/bin/x86_64-conda-linux-gnu-cc -DNDEBUG -fwrapv -O2 -Wall -fPIC -O2 -isystem /home/pnavaro/.julia/conda/3/x86_64/envs/f2py/include -fPIC -O2 -isystem /home/pnavaro/.julia/conda/3/x86_64/envs/f2py/include -march=nocona -mtune=haswell -ftree-vectorize -fPIC -fstack-protector-strong -fno-plt -O2 -ffunction-sections -pipe -isystem /home/pnavaro/.julia/conda/3/x86_64/envs/f2py/include -DNDEBUG -D_FORTIFY_SOURCE=2 -O2 -isystem /home/pnavaro/.julia/conda/3/x86_64/envs/f2py/include -fPIC\n",
      "\u001b[0m\n",
      "\u001b[39mINFO: compile options: '-I/home/pnavaro/.julia/conda/3/x86_64/envs/f2py/include/python3.11 -c'\n",
      "extra options: '-msse -msse2 -msse3 -mssse3 -msse4.1 -mpopcnt -msse4.2 -mavx -mf16c -mfma -mavx2 -mavx512f -mno-mmx -Werror'\u001b[0m\n",
      "\u001b[39mINFO: CCompilerOpt.feature_test[1560] : testing feature 'FMA3' with flags (-msse -msse2 -msse3 -mssse3 -msse4.1 -mpopcnt -msse4.2 -mavx -mf16c -mfma)\u001b[0m\n",
      "\u001b[39mINFO: C compiler: /home/pnavaro/.julia/conda/3/x86_64/envs/f2py/bin/x86_64-conda-linux-gnu-cc -DNDEBUG -fwrapv -O2 -Wall -fPIC -O2 -isystem /home/pnavaro/.julia/conda/3/x86_64/envs/f2py/include -fPIC -O2 -isystem /home/pnavaro/.julia/conda/3/x86_64/envs/f2py/include -march=nocona -mtune=haswell -ftree-vectorize -fPIC -fstack-protector-strong -fno-plt -O2 -ffunction-sections -pipe -isystem /home/pnavaro/.julia/conda/3/x86_64/envs/f2py/include -DNDEBUG -D_FORTIFY_SOURCE=2 -O2 -isystem /home/pnavaro/.julia/conda/3/x86_64/envs/f2py/include -fPIC\n",
      "\u001b[0m\n",
      "\u001b[39mINFO: compile options: '-I/home/pnavaro/.julia/conda/3/x86_64/envs/f2py/include/python3.11 -c'\n",
      "extra options: '-msse -msse2 -msse3 -mssse3 -msse4.1 -mpopcnt -msse4.2 -mavx -mf16c -mfma -Werror'\u001b[0m\n",
      "\u001b[39mINFO: CCompilerOpt.cc_test_flags[1086] : testing flags (-mavx512vl -mavx512bw -mavx512dq)\u001b[0m\n",
      "\u001b[39mINFO: C compiler: /home/pnavaro/.julia/conda/3/x86_64/envs/f2py/bin/x86_64-conda-linux-gnu-cc -DNDEBUG -fwrapv -O2 -Wall -fPIC -O2 -isystem /home/pnavaro/.julia/conda/3/x86_64/envs/f2py/include -fPIC -O2 -isystem /home/pnavaro/.julia/conda/3/x86_64/envs/f2py/include -march=nocona -mtune=haswell -ftree-vectorize -fPIC -fstack-protector-strong -fno-plt -O2 -ffunction-sections -pipe -isystem /home/pnavaro/.julia/conda/3/x86_64/envs/f2py/include -DNDEBUG -D_FORTIFY_SOURCE=2 -O2 -isystem /home/pnavaro/.julia/conda/3/x86_64/envs/f2py/include -fPIC\n",
      "\u001b[0m\n",
      "\u001b[39mINFO: compile options: '-I/home/pnavaro/.julia/conda/3/x86_64/envs/f2py/include/python3.11 -c'\n",
      "extra options: '-mavx512vl -mavx512bw -mavx512dq'\u001b[0m\n",
      "\u001b[39mINFO: CCompilerOpt.feature_test[1560] : testing feature 'AVX512_SKX' with flags (-msse -msse2 -msse3 -mssse3 -msse4.1 -mpopcnt -msse4.2 -mavx -mf16c -mfma -mavx2 -mavx512f -mno-mmx -mavx512cd -mavx512vl -mavx512bw -mavx512dq)\u001b[0m\n",
      "\u001b[39mINFO: C compiler: /home/pnavaro/.julia/conda/3/x86_64/envs/f2py/bin/x86_64-conda-linux-gnu-cc -DNDEBUG -fwrapv -O2 -Wall -fPIC -O2 -isystem /home/pnavaro/.julia/conda/3/x86_64/envs/f2py/include -fPIC -O2 -isystem /home/pnavaro/.julia/conda/3/x86_64/envs/f2py/include -march=nocona -mtune=haswell -ftree-vectorize -fPIC -fstack-protector-strong -fno-plt -O2 -ffunction-sections -pipe -isystem /home/pnavaro/.julia/conda/3/x86_64/envs/f2py/include -DNDEBUG -D_FORTIFY_SOURCE=2 -O2 -isystem /home/pnavaro/.julia/conda/3/x86_64/envs/f2py/include -fPIC\n",
      "\u001b[0m\n",
      "\u001b[39mINFO: compile options: '-I/home/pnavaro/.julia/conda/3/x86_64/envs/f2py/include/python3.11 -c'\n",
      "extra options: '-msse -msse2 -msse3 -mssse3 -msse4.1 -mpopcnt -msse4.2 -mavx -mf16c -mfma -mavx2 -mavx512f -mno-mmx -mavx512cd -mavx512vl -mavx512bw -mavx512dq -Werror'\u001b[0m\n",
      "\u001b[39mINFO: CCompilerOpt.feature_test[1560] : testing feature 'AVX' with flags (-msse -msse2 -msse3 -mssse3 -msse4.1 -mpopcnt -msse4.2 -mavx)\u001b[0m\n",
      "\u001b[39mINFO: C compiler: /home/pnavaro/.julia/conda/3/x86_64/envs/f2py/bin/x86_64-conda-linux-gnu-cc -DNDEBUG -fwrapv -O2 -Wall -fPIC -O2 -isystem /home/pnavaro/.julia/conda/3/x86_64/envs/f2py/include -fPIC -O2 -isystem /home/pnavaro/.julia/conda/3/x86_64/envs/f2py/include -march=nocona -mtune=haswell -ftree-vectorize -fPIC -fstack-protector-strong -fno-plt -O2 -ffunction-sections -pipe -isystem /home/pnavaro/.julia/conda/3/x86_64/envs/f2py/include -DNDEBUG -D_FORTIFY_SOURCE=2 -O2 -isystem /home/pnavaro/.julia/conda/3/x86_64/envs/f2py/include -fPIC\n",
      "\u001b[0m\n",
      "\u001b[39mINFO: compile options: '-I/home/pnavaro/.julia/conda/3/x86_64/envs/f2py/include/python3.11 -c'\n",
      "extra options: '-msse -msse2 -msse3 -mssse3 -msse4.1 -mpopcnt -msse4.2 -mavx -Werror'\u001b[0m\n",
      "\u001b[39mINFO: CCompilerOpt.feature_test[1560] : testing feature 'SSE41' with flags (-msse -msse2 -msse3 -mssse3 -msse4.1)\u001b[0m\n",
      "\u001b[39mINFO: C compiler: /home/pnavaro/.julia/conda/3/x86_64/envs/f2py/bin/x86_64-conda-linux-gnu-cc -DNDEBUG -fwrapv -O2 -Wall -fPIC -O2 -isystem /home/pnavaro/.julia/conda/3/x86_64/envs/f2py/include -fPIC -O2 -isystem /home/pnavaro/.julia/conda/3/x86_64/envs/f2py/include -march=nocona -mtune=haswell -ftree-vectorize -fPIC -fstack-protector-strong -fno-plt -O2 -ffunction-sections -pipe -isystem /home/pnavaro/.julia/conda/3/x86_64/envs/f2py/include -DNDEBUG -D_FORTIFY_SOURCE=2 -O2 -isystem /home/pnavaro/.julia/conda/3/x86_64/envs/f2py/include -fPIC\n",
      "\u001b[0m\n",
      "\u001b[39mINFO: compile options: '-I/home/pnavaro/.julia/conda/3/x86_64/envs/f2py/include/python3.11 -c'\n",
      "extra options: '-msse -msse2 -msse3 -mssse3 -msse4.1 -Werror'\u001b[0m\n",
      "\u001b[39mINFO: CCompilerOpt.feature_test[1560] : testing feature 'SSE42' with flags (-msse -msse2 -msse3 -mssse3 -msse4.1 -mpopcnt -msse4.2)\u001b[0m\n",
      "\u001b[39mINFO: C compiler: /home/pnavaro/.julia/conda/3/x86_64/envs/f2py/bin/x86_64-conda-linux-gnu-cc -DNDEBUG -fwrapv -O2 -Wall -fPIC -O2 -isystem /home/pnavaro/.julia/conda/3/x86_64/envs/f2py/include -fPIC -O2 -isystem /home/pnavaro/.julia/conda/3/x86_64/envs/f2py/include -march=nocona -mtune=haswell -ftree-vectorize -fPIC -fstack-protector-strong -fno-plt -O2 -ffunction-sections -pipe -isystem /home/pnavaro/.julia/conda/3/x86_64/envs/f2py/include -DNDEBUG -D_FORTIFY_SOURCE=2 -O2 -isystem /home/pnavaro/.julia/conda/3/x86_64/envs/f2py/include -fPIC\n",
      "\u001b[0m\n",
      "\u001b[39mINFO: compile options: '-I/home/pnavaro/.julia/conda/3/x86_64/envs/f2py/include/python3.11 -c'\n",
      "extra options: '-msse -msse2 -msse3 -mssse3 -msse4.1 -mpopcnt -msse4.2 -Werror'\u001b[0m\n",
      "\u001b[39mINFO: CCompilerOpt.feature_test[1560] : testing feature 'F16C' with flags (-msse -msse2 -msse3 -mssse3 -msse4.1 -mpopcnt -msse4.2 -mavx -mf16c)\u001b[0m\n",
      "\u001b[39mINFO: C compiler: /home/pnavaro/.julia/conda/3/x86_64/envs/f2py/bin/x86_64-conda-linux-gnu-cc -DNDEBUG -fwrapv -O2 -Wall -fPIC -O2 -isystem /home/pnavaro/.julia/conda/3/x86_64/envs/f2py/include -fPIC -O2 -isystem /home/pnavaro/.julia/conda/3/x86_64/envs/f2py/include -march=nocona -mtune=haswell -ftree-vectorize -fPIC -fstack-protector-strong -fno-plt -O2 -ffunction-sections -pipe -isystem /home/pnavaro/.julia/conda/3/x86_64/envs/f2py/include -DNDEBUG -D_FORTIFY_SOURCE=2 -O2 -isystem /home/pnavaro/.julia/conda/3/x86_64/envs/f2py/include -fPIC\n",
      "\u001b[0m\n",
      "\u001b[39mINFO: compile options: '-I/home/pnavaro/.julia/conda/3/x86_64/envs/f2py/include/python3.11 -c'\n",
      "extra options: '-msse -msse2 -msse3 -mssse3 -msse4.1 -mpopcnt -msse4.2 -mavx -mf16c -Werror'\u001b[0m\n",
      "\u001b[39mINFO: CCompilerOpt.cc_test_flags[1086] : testing flags (-mavx512ifma -mavx512vbmi)\u001b[0m\n",
      "\u001b[39mINFO: C compiler: /home/pnavaro/.julia/conda/3/x86_64/envs/f2py/bin/x86_64-conda-linux-gnu-cc -DNDEBUG -fwrapv -O2 -Wall -fPIC -O2 -isystem /home/pnavaro/.julia/conda/3/x86_64/envs/f2py/include -fPIC -O2 -isystem /home/pnavaro/.julia/conda/3/x86_64/envs/f2py/include -march=nocona -mtune=haswell -ftree-vectorize -fPIC -fstack-protector-strong -fno-plt -O2 -ffunction-sections -pipe -isystem /home/pnavaro/.julia/conda/3/x86_64/envs/f2py/include -DNDEBUG -D_FORTIFY_SOURCE=2 -O2 -isystem /home/pnavaro/.julia/conda/3/x86_64/envs/f2py/include -fPIC\n",
      "\u001b[0m\n",
      "\u001b[39mINFO: compile options: '-I/home/pnavaro/.julia/conda/3/x86_64/envs/f2py/include/python3.11 -c'\n",
      "extra options: '-mavx512ifma -mavx512vbmi'\u001b[0m\n",
      "\u001b[39mINFO: CCompilerOpt.feature_test[1560] : testing feature 'AVX512_CNL' with flags (-msse -msse2 -msse3 -mssse3 -msse4.1 -mpopcnt -msse4.2 -mavx -mf16c -mfma -mavx2 -mavx512f -mno-mmx -mavx512cd -mavx512vl -mavx512bw -mavx512dq -mavx512ifma -mavx512vbmi)\u001b[0m\n",
      "\u001b[39mINFO: C compiler: /home/pnavaro/.julia/conda/3/x86_64/envs/f2py/bin/x86_64-conda-linux-gnu-cc -DNDEBUG -fwrapv -O2 -Wall -fPIC -O2 -isystem /home/pnavaro/.julia/conda/3/x86_64/envs/f2py/include -fPIC -O2 -isystem /home/pnavaro/.julia/conda/3/x86_64/envs/f2py/include -march=nocona -mtune=haswell -ftree-vectorize -fPIC -fstack-protector-strong -fno-plt -O2 -ffunction-sections -pipe -isystem /home/pnavaro/.julia/conda/3/x86_64/envs/f2py/include -DNDEBUG -D_FORTIFY_SOURCE=2 -O2 -isystem /home/pnavaro/.julia/conda/3/x86_64/envs/f2py/include -fPIC\n",
      "\u001b[0m\n",
      "\u001b[39mINFO: compile options: '-I/home/pnavaro/.julia/conda/3/x86_64/envs/f2py/include/python3.11 -c'\n",
      "extra options: '-msse -msse2 -msse3 -mssse3 -msse4.1 -mpopcnt -msse4.2 -mavx -mf16c -mfma -mavx2 -mavx512f -mno-mmx -mavx512cd -mavx512vl -mavx512bw -mavx512dq -mavx512ifma -mavx512vbmi -Werror'\u001b[0m\n",
      "\u001b[39mINFO: CCompilerOpt.cc_test_flags[1086] : testing flags (-mavx512er -mavx512pf)\u001b[0m\n",
      "\u001b[39mINFO: C compiler: /home/pnavaro/.julia/conda/3/x86_64/envs/f2py/bin/x86_64-conda-linux-gnu-cc -DNDEBUG -fwrapv -O2 -Wall -fPIC -O2 -isystem /home/pnavaro/.julia/conda/3/x86_64/envs/f2py/include -fPIC -O2 -isystem /home/pnavaro/.julia/conda/3/x86_64/envs/f2py/include -march=nocona -mtune=haswell -ftree-vectorize -fPIC -fstack-protector-strong -fno-plt -O2 -ffunction-sections -pipe -isystem /home/pnavaro/.julia/conda/3/x86_64/envs/f2py/include -DNDEBUG -D_FORTIFY_SOURCE=2 -O2 -isystem /home/pnavaro/.julia/conda/3/x86_64/envs/f2py/include -fPIC\n",
      "\u001b[0m\n",
      "\u001b[39mINFO: compile options: '-I/home/pnavaro/.julia/conda/3/x86_64/envs/f2py/include/python3.11 -c'\n",
      "extra options: '-mavx512er -mavx512pf'\u001b[0m\n",
      "\u001b[39mINFO: CCompilerOpt.feature_test[1560] : testing feature 'AVX512_KNL' with flags (-msse -msse2 -msse3 -mssse3 -msse4.1 -mpopcnt -msse4.2 -mavx -mf16c -mfma -mavx2 -mavx512f -mno-mmx -mavx512cd -mavx512er -mavx512pf)\u001b[0m\n",
      "\u001b[39mINFO: C compiler: /home/pnavaro/.julia/conda/3/x86_64/envs/f2py/bin/x86_64-conda-linux-gnu-cc -DNDEBUG -fwrapv -O2 -Wall -fPIC -O2 -isystem /home/pnavaro/.julia/conda/3/x86_64/envs/f2py/include -fPIC -O2 -isystem /home/pnavaro/.julia/conda/3/x86_64/envs/f2py/include -march=nocona -mtune=haswell -ftree-vectorize -fPIC -fstack-protector-strong -fno-plt -O2 -ffunction-sections -pipe -isystem /home/pnavaro/.julia/conda/3/x86_64/envs/f2py/include -DNDEBUG -D_FORTIFY_SOURCE=2 -O2 -isystem /home/pnavaro/.julia/conda/3/x86_64/envs/f2py/include -fPIC\n",
      "\u001b[0m\n",
      "\u001b[39mINFO: compile options: '-I/home/pnavaro/.julia/conda/3/x86_64/envs/f2py/include/python3.11 -c'\n",
      "extra options: '-msse -msse2 -msse3 -mssse3 -msse4.1 -mpopcnt -msse4.2 -mavx -mf16c -mfma -mavx2 -mavx512f -mno-mmx -mavx512cd -mavx512er -mavx512pf -Werror'\u001b[0m\n",
      "\u001b[39mINFO: CCompilerOpt.cc_test_flags[1086] : testing flags (-mavx5124fmaps -mavx5124vnniw -mavx512vpopcntdq)\u001b[0m\n",
      "\u001b[39mINFO: C compiler: /home/pnavaro/.julia/conda/3/x86_64/envs/f2py/bin/x86_64-conda-linux-gnu-cc -DNDEBUG -fwrapv -O2 -Wall -fPIC -O2 -isystem /home/pnavaro/.julia/conda/3/x86_64/envs/f2py/include -fPIC -O2 -isystem /home/pnavaro/.julia/conda/3/x86_64/envs/f2py/include -march=nocona -mtune=haswell -ftree-vectorize -fPIC -fstack-protector-strong -fno-plt -O2 -ffunction-sections -pipe -isystem /home/pnavaro/.julia/conda/3/x86_64/envs/f2py/include -DNDEBUG -D_FORTIFY_SOURCE=2 -O2 -isystem /home/pnavaro/.julia/conda/3/x86_64/envs/f2py/include -fPIC\n",
      "\u001b[0m\n",
      "\u001b[39mINFO: compile options: '-I/home/pnavaro/.julia/conda/3/x86_64/envs/f2py/include/python3.11 -c'\n",
      "extra options: '-mavx5124fmaps -mavx5124vnniw -mavx512vpopcntdq'\u001b[0m\n",
      "\u001b[39mINFO: CCompilerOpt.feature_test[1560] : testing feature 'AVX512_KNM' with flags (-msse -msse2 -msse3 -mssse3 -msse4.1 -mpopcnt -msse4.2 -mavx -mf16c -mfma -mavx2 -mavx512f -mno-mmx -mavx512cd -mavx512er -mavx512pf -mavx5124fmaps -mavx5124vnniw -mavx512vpopcntdq)\u001b[0m\n",
      "\u001b[39mINFO: C compiler: /home/pnavaro/.julia/conda/3/x86_64/envs/f2py/bin/x86_64-conda-linux-gnu-cc -DNDEBUG -fwrapv -O2 -Wall -fPIC -O2 -isystem /home/pnavaro/.julia/conda/3/x86_64/envs/f2py/include -fPIC -O2 -isystem /home/pnavaro/.julia/conda/3/x86_64/envs/f2py/include -march=nocona -mtune=haswell -ftree-vectorize -fPIC -fstack-protector-strong -fno-plt -O2 -ffunction-sections -pipe -isystem /home/pnavaro/.julia/conda/3/x86_64/envs/f2py/include -DNDEBUG -D_FORTIFY_SOURCE=2 -O2 -isystem /home/pnavaro/.julia/conda/3/x86_64/envs/f2py/include -fPIC\n",
      "\u001b[0m\n",
      "\u001b[39mINFO: compile options: '-I/home/pnavaro/.julia/conda/3/x86_64/envs/f2py/include/python3.11 -c'\n",
      "extra options: '-msse -msse2 -msse3 -mssse3 -msse4.1 -mpopcnt -msse4.2 -mavx -mf16c -mfma -mavx2 -mavx512f -mno-mmx -mavx512cd -mavx512er -mavx512pf -mavx5124fmaps -mavx5124vnniw -mavx512vpopcntdq -Werror'\u001b[0m\n",
      "\u001b[39mINFO: CCompilerOpt.cc_test_flags[1086] : testing flags (-mavx512vnni)\u001b[0m\n",
      "\u001b[39mINFO: C compiler: /home/pnavaro/.julia/conda/3/x86_64/envs/f2py/bin/x86_64-conda-linux-gnu-cc -DNDEBUG -fwrapv -O2 -Wall -fPIC -O2 -isystem /home/pnavaro/.julia/conda/3/x86_64/envs/f2py/include -fPIC -O2 -isystem /home/pnavaro/.julia/conda/3/x86_64/envs/f2py/include -march=nocona -mtune=haswell -ftree-vectorize -fPIC -fstack-protector-strong -fno-plt -O2 -ffunction-sections -pipe -isystem /home/pnavaro/.julia/conda/3/x86_64/envs/f2py/include -DNDEBUG -D_FORTIFY_SOURCE=2 -O2 -isystem /home/pnavaro/.julia/conda/3/x86_64/envs/f2py/include -fPIC\n",
      "\u001b[0m\n",
      "\u001b[39mINFO: compile options: '-I/home/pnavaro/.julia/conda/3/x86_64/envs/f2py/include/python3.11 -c'\n",
      "extra options: '-mavx512vnni'\u001b[0m\n",
      "\u001b[39mINFO: CCompilerOpt.cc_test_flags[1086] : testing flags (-mavx512vbmi2 -mavx512bitalg -mavx512vpopcntdq)\u001b[0m\n",
      "\u001b[39mINFO: C compiler: /home/pnavaro/.julia/conda/3/x86_64/envs/f2py/bin/x86_64-conda-linux-gnu-cc -DNDEBUG -fwrapv -O2 -Wall -fPIC -O2 -isystem /home/pnavaro/.julia/conda/3/x86_64/envs/f2py/include -fPIC -O2 -isystem /home/pnavaro/.julia/conda/3/x86_64/envs/f2py/include -march=nocona -mtune=haswell -ftree-vectorize -fPIC -fstack-protector-strong -fno-plt -O2 -ffunction-sections -pipe -isystem /home/pnavaro/.julia/conda/3/x86_64/envs/f2py/include -DNDEBUG -D_FORTIFY_SOURCE=2 -O2 -isystem /home/pnavaro/.julia/conda/3/x86_64/envs/f2py/include -fPIC\n",
      "\u001b[0m\n",
      "\u001b[39mINFO: compile options: '-I/home/pnavaro/.julia/conda/3/x86_64/envs/f2py/include/python3.11 -c'\n",
      "extra options: '-mavx512vbmi2 -mavx512bitalg -mavx512vpopcntdq'\u001b[0m\n",
      "\u001b[39mINFO: CCompilerOpt.feature_test[1560] : testing feature 'AVX512_ICL' with flags (-msse -msse2 -msse3 -mssse3 -msse4.1 -mpopcnt -msse4.2 -mavx -mf16c -mfma -mavx2 -mavx512f -mno-mmx -mavx512cd -mavx512vl -mavx512bw -mavx512dq -mavx512vnni -mavx512ifma -mavx512vbmi -mavx512vbmi2 -mavx512bitalg -mavx512vpopcntdq)\u001b[0m\n",
      "\u001b[39mINFO: C compiler: /home/pnavaro/.julia/conda/3/x86_64/envs/f2py/bin/x86_64-conda-linux-gnu-cc -DNDEBUG -fwrapv -O2 -Wall -fPIC -O2 -isystem /home/pnavaro/.julia/conda/3/x86_64/envs/f2py/include -fPIC -O2 -isystem /home/pnavaro/.julia/conda/3/x86_64/envs/f2py/include -march=nocona -mtune=haswell -ftree-vectorize -fPIC -fstack-protector-strong -fno-plt -O2 -ffunction-sections -pipe -isystem /home/pnavaro/.julia/conda/3/x86_64/envs/f2py/include -DNDEBUG -D_FORTIFY_SOURCE=2 -O2 -isystem /home/pnavaro/.julia/conda/3/x86_64/envs/f2py/include -fPIC\n",
      "\u001b[0m\n",
      "\u001b[39mINFO: compile options: '-I/home/pnavaro/.julia/conda/3/x86_64/envs/f2py/include/python3.11 -c'\n",
      "extra options: '-msse -msse2 -msse3 -mssse3 -msse4.1 -mpopcnt -msse4.2 -mavx -mf16c -mfma -mavx2 -mavx512f -mno-mmx -mavx512cd -mavx512vl -mavx512bw -mavx512dq -mavx512vnni -mavx512ifma -mavx512vbmi -mavx512vbmi2 -mavx512bitalg -mavx512vpopcntdq -Werror'\u001b[0m\n",
      "\u001b[39mINFO: CCompilerOpt.feature_test[1560] : testing feature 'AVX512_CLX' with flags (-msse -msse2 -msse3 -mssse3 -msse4.1 -mpopcnt -msse4.2 -mavx -mf16c -mfma -mavx2 -mavx512f -mno-mmx -mavx512cd -mavx512vl -mavx512bw -mavx512dq -mavx512vnni)\u001b[0m\n",
      "\u001b[39mINFO: C compiler: /home/pnavaro/.julia/conda/3/x86_64/envs/f2py/bin/x86_64-conda-linux-gnu-cc -DNDEBUG -fwrapv -O2 -Wall -fPIC -O2 -isystem /home/pnavaro/.julia/conda/3/x86_64/envs/f2py/include -fPIC -O2 -isystem /home/pnavaro/.julia/conda/3/x86_64/envs/f2py/include -march=nocona -mtune=haswell -ftree-vectorize -fPIC -fstack-protector-strong -fno-plt -O2 -ffunction-sections -pipe -isystem /home/pnavaro/.julia/conda/3/x86_64/envs/f2py/include -DNDEBUG -D_FORTIFY_SOURCE=2 -O2 -isystem /home/pnavaro/.julia/conda/3/x86_64/envs/f2py/include -fPIC\n",
      "\u001b[0m\n",
      "\u001b[39mINFO: compile options: '-I/home/pnavaro/.julia/conda/3/x86_64/envs/f2py/include/python3.11 -c'\n",
      "extra options: '-msse -msse2 -msse3 -mssse3 -msse4.1 -mpopcnt -msse4.2 -mavx -mf16c -mfma -mavx2 -mavx512f -mno-mmx -mavx512cd -mavx512vl -mavx512bw -mavx512dq -mavx512vnni -Werror'\u001b[0m\n",
      "\u001b[39mINFO: CCompilerOpt.cc_test_flags[1086] : testing flags (-mavx512fp16)\u001b[0m\n",
      "\u001b[39mINFO: C compiler: /home/pnavaro/.julia/conda/3/x86_64/envs/f2py/bin/x86_64-conda-linux-gnu-cc -DNDEBUG -fwrapv -O2 -Wall -fPIC -O2 -isystem /home/pnavaro/.julia/conda/3/x86_64/envs/f2py/include -fPIC -O2 -isystem /home/pnavaro/.julia/conda/3/x86_64/envs/f2py/include -march=nocona -mtune=haswell -ftree-vectorize -fPIC -fstack-protector-strong -fno-plt -O2 -ffunction-sections -pipe -isystem /home/pnavaro/.julia/conda/3/x86_64/envs/f2py/include -DNDEBUG -D_FORTIFY_SOURCE=2 -O2 -isystem /home/pnavaro/.julia/conda/3/x86_64/envs/f2py/include -fPIC\n",
      "\u001b[0m\n",
      "\u001b[39mINFO: compile options: '-I/home/pnavaro/.julia/conda/3/x86_64/envs/f2py/include/python3.11 -c'\n",
      "extra options: '-mavx512fp16'\u001b[0m\n",
      "\u001b[39mINFO: CCompilerOpt.feature_test[1560] : testing feature 'AVX512_SPR' with flags (-msse -msse2 -msse3 -mssse3 -msse4.1 -mpopcnt -msse4.2 -mavx -mf16c -mfma -mavx2 -mavx512f -mno-mmx -mavx512cd -mavx512vl -mavx512bw -mavx512dq -mavx512vnni -mavx512ifma -mavx512vbmi -mavx512vbmi2 -mavx512bitalg -mavx512vpopcntdq -mavx512fp16)\u001b[0m\n",
      "\u001b[39mINFO: C compiler: /home/pnavaro/.julia/conda/3/x86_64/envs/f2py/bin/x86_64-conda-linux-gnu-cc -DNDEBUG -fwrapv -O2 -Wall -fPIC -O2 -isystem /home/pnavaro/.julia/conda/3/x86_64/envs/f2py/include -fPIC -O2 -isystem /home/pnavaro/.julia/conda/3/x86_64/envs/f2py/include -march=nocona -mtune=haswell -ftree-vectorize -fPIC -fstack-protector-strong -fno-plt -O2 -ffunction-sections -pipe -isystem /home/pnavaro/.julia/conda/3/x86_64/envs/f2py/include -DNDEBUG -D_FORTIFY_SOURCE=2 -O2 -isystem /home/pnavaro/.julia/conda/3/x86_64/envs/f2py/include -fPIC\n",
      "\u001b[0m\n",
      "\u001b[39mINFO: compile options: '-I/home/pnavaro/.julia/conda/3/x86_64/envs/f2py/include/python3.11 -c'\n",
      "extra options: '-msse -msse2 -msse3 -mssse3 -msse4.1 -mpopcnt -msse4.2 -mavx -mf16c -mfma -mavx2 -mavx512f -mno-mmx -mavx512cd -mavx512vl -mavx512bw -mavx512dq -mavx512vnni -mavx512ifma -mavx512vbmi -mavx512vbmi2 -mavx512bitalg -mavx512vpopcntdq -mavx512fp16 -Werror'\u001b[0m\n",
      "\u001b[39mINFO: CCompilerOpt.__init__[1816] : skip features (SSE3 SSE SSE2) since its part of baseline\u001b[0m\n",
      "\u001b[39mINFO: CCompilerOpt.__init__[1820] : initialize targets groups\u001b[0m\n",
      "\u001b[39mINFO: CCompilerOpt.__init__[1822] : parse target group simd_test\u001b[0m\n",
      "\u001b[39mINFO: CCompilerOpt._parse_target_tokens[2033] : skip targets (NEON XOP VSX2 VX VXE2 VSX3 ASIMD VXE VSX VSX4 FMA4) not part of baseline or dispatch-able features\u001b[0m\n",
      "\u001b[39mINFO: CCompilerOpt._parse_policy_not_keepbase[2145] : skip baseline features (SSE2)\u001b[0m\n",
      "\u001b[39mINFO: CCompilerOpt.generate_dispatch_header[2366] : generate CPU dispatch header: (build/src.linux-x86_64-3.11/numpy/distutils/include/npy_cpu_dispatch_config.h)\u001b[0m\n",
      "\u001b[31mWARN: CCompilerOpt.generate_dispatch_header[2375] : dispatch header dir build/src.linux-x86_64-3.11/numpy/distutils/include does not exist, creating it\u001b[0m\n",
      "\u001b[39mINFO: CCompilerOpt.feature_extra_checks[1640] : Testing extra checks for feature 'AVX512F' (AVX512F_REDUCE)\u001b[0m\n",
      "\u001b[39mINFO: C compiler: /home/pnavaro/.julia/conda/3/x86_64/envs/f2py/bin/x86_64-conda-linux-gnu-cc -DNDEBUG -fwrapv -O2 -Wall -fPIC -O2 -isystem /home/pnavaro/.julia/conda/3/x86_64/envs/f2py/include -fPIC -O2 -isystem /home/pnavaro/.julia/conda/3/x86_64/envs/f2py/include -march=nocona -mtune=haswell -ftree-vectorize -fPIC -fstack-protector-strong -fno-plt -O2 -ffunction-sections -pipe -isystem /home/pnavaro/.julia/conda/3/x86_64/envs/f2py/include -DNDEBUG -D_FORTIFY_SOURCE=2 -O2 -isystem /home/pnavaro/.julia/conda/3/x86_64/envs/f2py/include -fPIC\n",
      "\u001b[0m\n",
      "\u001b[39mINFO: compile options: '-I/home/pnavaro/.julia/conda/3/x86_64/envs/f2py/include/python3.11 -c'\n",
      "extra options: '-msse -msse2 -msse3 -mssse3 -msse4.1 -mpopcnt -msse4.2 -mavx -mf16c -mfma -mavx2 -mavx512f -mno-mmx -Werror'\u001b[0m\n",
      "\u001b[39mINFO: CCompilerOpt.feature_extra_checks[1640] : Testing extra checks for feature 'AVX512_SKX' (AVX512BW_MASK AVX512DQ_MASK)\u001b[0m\n",
      "\u001b[39mINFO: C compiler: /home/pnavaro/.julia/conda/3/x86_64/envs/f2py/bin/x86_64-conda-linux-gnu-cc -DNDEBUG -fwrapv -O2 -Wall -fPIC -O2 -isystem /home/pnavaro/.julia/conda/3/x86_64/envs/f2py/include -fPIC -O2 -isystem /home/pnavaro/.julia/conda/3/x86_64/envs/f2py/include -march=nocona -mtune=haswell -ftree-vectorize -fPIC -fstack-protector-strong -fno-plt -O2 -ffunction-sections -pipe -isystem /home/pnavaro/.julia/conda/3/x86_64/envs/f2py/include -DNDEBUG -D_FORTIFY_SOURCE=2 -O2 -isystem /home/pnavaro/.julia/conda/3/x86_64/envs/f2py/include -fPIC\n",
      "\u001b[0m\n",
      "\u001b[39mINFO: compile options: '-I/home/pnavaro/.julia/conda/3/x86_64/envs/f2py/include/python3.11 -c'\n",
      "extra options: '-msse -msse2 -msse3 -mssse3 -msse4.1 -mpopcnt -msse4.2 -mavx -mf16c -mfma -mavx2 -mavx512f -mno-mmx -mavx512cd -mavx512vl -mavx512bw -mavx512dq -Werror'\u001b[0m\n",
      "\u001b[39mINFO: C compiler: /home/pnavaro/.julia/conda/3/x86_64/envs/f2py/bin/x86_64-conda-linux-gnu-cc -DNDEBUG -fwrapv -O2 -Wall -fPIC -O2 -isystem /home/pnavaro/.julia/conda/3/x86_64/envs/f2py/include -fPIC -O2 -isystem /home/pnavaro/.julia/conda/3/x86_64/envs/f2py/include -march=nocona -mtune=haswell -ftree-vectorize -fPIC -fstack-protector-strong -fno-plt -O2 -ffunction-sections -pipe -isystem /home/pnavaro/.julia/conda/3/x86_64/envs/f2py/include -DNDEBUG -D_FORTIFY_SOURCE=2 -O2 -isystem /home/pnavaro/.julia/conda/3/x86_64/envs/f2py/include -fPIC\n",
      "\u001b[0m\n",
      "\u001b[39mINFO: compile options: '-I/home/pnavaro/.julia/conda/3/x86_64/envs/f2py/include/python3.11 -c'\n",
      "extra options: '-msse -msse2 -msse3 -mssse3 -msse4.1 -mpopcnt -msse4.2 -mavx -mf16c -mfma -mavx2 -mavx512f -mno-mmx -mavx512cd -mavx512vl -mavx512bw -mavx512dq -Werror'\u001b[0m\n",
      "\u001b[39mINFO: building '_syracuseC' extension\u001b[0m\n",
      "\u001b[39mINFO: compiling C sources\u001b[0m\n",
      "\u001b[39mINFO: C compiler: /home/pnavaro/.julia/conda/3/x86_64/envs/f2py/bin/x86_64-conda-linux-gnu-cc -DNDEBUG -fwrapv -O2 -Wall -fPIC -O2 -isystem /home/pnavaro/.julia/conda/3/x86_64/envs/f2py/include -fPIC -O2 -isystem /home/pnavaro/.julia/conda/3/x86_64/envs/f2py/include -march=nocona -mtune=haswell -ftree-vectorize -fPIC -fstack-protector-strong -fno-plt -O2 -ffunction-sections -pipe -isystem /home/pnavaro/.julia/conda/3/x86_64/envs/f2py/include -DNDEBUG -D_FORTIFY_SOURCE=2 -O2 -isystem /home/pnavaro/.julia/conda/3/x86_64/envs/f2py/include -fPIC\n",
      "\u001b[0m\n",
      "\u001b[39mINFO: compile options: '-I/home/pnavaro/.julia/conda/3/x86_64/envs/f2py/lib/python3.11/site-packages/numpy/_core/include -Ibuild/src.linux-x86_64-3.11/numpy/distutils/include -I/home/pnavaro/.julia/conda/3/x86_64/envs/f2py/include/python3.11 -c'\n",
      "extra options: '-msse -msse2 -msse3'\u001b[0m\n",
      "\u001b[39mINFO: x86_64-conda-linux-gnu-cc: syrac_wrap.c\u001b[0m\n",
      "\u001b[39mINFO: x86_64-conda-linux-gnu-cc: syrac.c\u001b[0m\n",
      "\u001b[39mINFO: /home/pnavaro/.julia/conda/3/x86_64/envs/f2py/bin/x86_64-conda-linux-gnu-cc -shared -Wl,--allow-shlib-undefined -Wl,-rpath,/home/pnavaro/.julia/conda/3/x86_64/envs/f2py/lib -Wl,-rpath-link,/home/pnavaro/.julia/conda/3/x86_64/envs/f2py/lib -L/home/pnavaro/.julia/conda/3/x86_64/envs/f2py/lib -Wl,--allow-shlib-undefined -Wl,-rpath,/home/pnavaro/.julia/conda/3/x86_64/envs/f2py/lib -Wl,-rpath-link,/home/pnavaro/.julia/conda/3/x86_64/envs/f2py/lib -L/home/pnavaro/.julia/conda/3/x86_64/envs/f2py/lib -Wl,-O2 -Wl,--sort-common -Wl,--as-needed -Wl,-z,relro -Wl,-z,now -Wl,--disable-new-dtags -Wl,--gc-sections -Wl,--allow-shlib-undefined -Wl,-rpath,/home/pnavaro/.julia/conda/3/x86_64/envs/f2py/lib -Wl,-rpath-link,/home/pnavaro/.julia/conda/3/x86_64/envs/f2py/lib -L/home/pnavaro/.julia/conda/3/x86_64/envs/f2py/lib -march=nocona -mtune=haswell -ftree-vectorize -fPIC -fstack-protector-strong -fno-plt -O2 -ffunction-sections -pipe -isystem /home/pnavaro/.julia/conda/3/x86_64/envs/f2py/include -DNDEBUG -D_FORTIFY_SOURCE=2 -O2 -isystem /home/pnavaro/.julia/conda/3/x86_64/envs/f2py/include build/temp.linux-x86_64-3.11/syrac_wrap.o build/temp.linux-x86_64-3.11/syrac.o -o _syracuseC.cpython-311-x86_64-linux-gnu.so\u001b[0m\n",
      "\u001b[39mINFO: \n",
      "########### EXT COMPILER OPTIMIZATION ###########\u001b[0m\n",
      "\u001b[39mINFO: Platform      : \n",
      "  Architecture: x64\n",
      "  Compiler    : unix-like\n",
      "\n",
      "CPU baseline  : \n",
      "  Requested   : 'min'\n",
      "  Enabled     : SSE SSE2 SSE3\n",
      "  Flags       : -msse -msse2 -msse3\n",
      "  Extra checks: none\n",
      "\n",
      "CPU dispatch  : \n",
      "  Requested   : 'max -xop -fma4'\n",
      "  Enabled     : SSSE3 SSE41 POPCNT SSE42 AVX F16C FMA3 AVX2 AVX512F AVX512CD AVX512_KNL AVX512_KNM AVX512_SKX AVX512_CLX AVX512_CNL AVX512_ICL AVX512_SPR\n",
      "  Generated   : none\u001b[0m\n",
      "\u001b[39mINFO: CCompilerOpt.cache_flush[864] : write cache to path -> /home/pnavaro/python-fortran/notebooks/build/temp.linux-x86_64-3.11/ccompiler_opt_cache_ext.py\u001b[0m\n"
     ]
    }
   ],
   "source": [
    "import sys, os\n",
    "\n",
    "if sys.platform == \"darwin\":\n",
    "    os.environ[\"CC\"] = \"gcc-10\"\n",
    "    \n",
    "!{sys.executable} setup.py build_ext --inplace --quiet"
   ]
  },
  {
   "cell_type": "code",
   "execution_count": 15,
   "metadata": {},
   "outputs": [
    {
     "data": {
      "text/plain": [
       "111"
      ]
     },
     "execution_count": 15,
     "metadata": {},
     "output_type": "execute_result"
    }
   ],
   "source": [
    "import _syracuseC\n",
    "\n",
    "syracuse = _syracuseC.syracuse\n",
    "syracuse(1000)"
   ]
  },
  {
   "cell_type": "code",
   "execution_count": 16,
   "metadata": {},
   "outputs": [
    {
     "name": "stdout",
     "output_type": "stream",
     "text": [
      "CPU times: user 260 ms, sys: 4 ms, total: 264 ms\n",
      "Wall time: 263 ms\n"
     ]
    }
   ],
   "source": [
    "%%time\n",
    "N=1000000\n",
    "\n",
    "flights = [syracuse(i) for i in range(1,N+1)]"
   ]
  },
  {
   "cell_type": "markdown",
   "metadata": {},
   "source": [
    "## References\n",
    "\n",
    " - [Interfacage C-Python par Xavier Juvigny](http://calcul.math.cnrs.fr/Documents/Ecoles/2010/InterfacagePython.pdf)\n",
    " - [Optimizing and interfacing with Cython par Konrad Hinsen](http://calcul.math.cnrs.fr/Documents/Ecoles/2010/cours_cython.pdf)\n",
    " - Python Scripting for Computational Science de Hans Petter Langtangen chez Springer"
   ]
  },
  {
   "cell_type": "code",
   "execution_count": null,
   "metadata": {},
   "outputs": [],
   "source": []
  }
 ],
 "metadata": {
  "kernelspec": {
   "display_name": "Python 3 (ipykernel)",
   "language": "python",
   "name": "python3"
  },
  "language_info": {
   "codemirror_mode": {
    "name": "ipython",
    "version": 3
   },
   "file_extension": ".py",
   "mimetype": "text/x-python",
   "name": "python",
   "nbconvert_exporter": "python",
   "pygments_lexer": "ipython3",
   "version": "3.11.10"
  }
 },
 "nbformat": 4,
 "nbformat_minor": 4
}
