{
 "cells": [
  {
   "cell_type": "markdown",
   "metadata": {
    "internals": {
     "slide_helper": "subslide_end",
     "slide_type": "subslide"
    },
    "slide_helper": "slide_end",
    "slideshow": {
     "slide_type": "slide"
    }
   },
   "source": [
    "# Julia Set\n",
    "\n",
    "\n",
    "In the notebook I present different way to accelerate python code. \n",
    "This is a modified version from [Loic Gouarin](https://github.com/gouarin/GTSage2014/)\n",
    "\n",
    "The test case is the computation of the Julia set [wikipedia](https://en.wikipedia.org/wiki/Julia_set)"
   ]
  },
  {
   "cell_type": "code",
   "execution_count": null,
   "metadata": {},
   "outputs": [],
   "source": [
    "import os, sys\n",
    "if sys.platform == 'darwin':\n",
    "    os.environ['CC'] = 'gcc-10'\n",
    "    os.environ['CXX'] = 'g++-10'"
   ]
  },
  {
   "cell_type": "code",
   "execution_count": null,
   "metadata": {},
   "outputs": [],
   "source": [
    "import warnings\n",
    "warnings.filterwarnings('ignore')"
   ]
  },
  {
   "cell_type": "code",
   "execution_count": null,
   "metadata": {
    "internals": {
     "slide_helper": "subslide_end",
     "slide_type": "subslide"
    },
    "slide_helper": "slide_end",
    "slideshow": {
     "slide_type": "skip"
    }
   },
   "outputs": [],
   "source": [
    "%matplotlib inline\n",
    "%config InlineBackend.figure_format = 'retina'"
   ]
  },
  {
   "cell_type": "code",
   "execution_count": null,
   "metadata": {
    "internals": {
     "slide_helper": "subslide_end",
     "slide_type": "subslide"
    },
    "slide_helper": "slide_end",
    "slideshow": {
     "slide_type": "skip"
    }
   },
   "outputs": [],
   "source": [
    "import numpy as np\n",
    "import matplotlib.pyplot as plt\n",
    "import matplotlib.cm as cm\n",
    "\n",
    "plt.rcParams['figure.figsize'] = (6,6)"
   ]
  },
  {
   "cell_type": "markdown",
   "metadata": {},
   "source": [
    "## Initialize Mesh"
   ]
  },
  {
   "cell_type": "code",
   "execution_count": null,
   "metadata": {
    "internals": {
     "slide_helper": "subslide_end"
    },
    "slide_helper": "slide_end",
    "slideshow": {
     "slide_type": "-"
    }
   },
   "outputs": [],
   "source": [
    "nx, ny = 512, 512 # mesh\n",
    "lim, maxit = 400, 2000 # limits \n",
    "vmin, vmax = 0, 200 \n",
    "\n",
    "x = np.linspace(-1.6, 1.6, nx)\n",
    "y = np.linspace(-1.6, 1.6, ny)\n",
    "c = -0.772691322542185 + 0.124281466072787j"
   ]
  },
  {
   "cell_type": "markdown",
   "metadata": {
    "internals": {
     "slide_type": "subslide"
    },
    "slideshow": {
     "slide_type": "slide"
    }
   },
   "source": [
    "## Pure Python"
   ]
  },
  {
   "cell_type": "code",
   "execution_count": null,
   "metadata": {
    "internals": {},
    "slideshow": {
     "slide_type": "-"
    }
   },
   "outputs": [],
   "source": [
    "def juliaset_python(x, y, c, lim, maxit):\n",
    "    \"\"\" \n",
    "    returns Julia set\n",
    "    \"\"\"\n",
    "    julia = np.zeros((x.size, y.size))\n",
    "\n",
    "    for i in range(x.size):\n",
    "        for j in range(y.size):\n",
    "            z = x[i] + 1j*y[j]\n",
    "            ite = 0\n",
    "            while abs(z) < lim and ite < maxit:\n",
    "                z = z**2 + c\n",
    "                ite += 1\n",
    "            julia[j, i] = ite\n",
    "\n",
    "    return julia"
   ]
  },
  {
   "cell_type": "code",
   "execution_count": null,
   "metadata": {
    "internals": {},
    "slideshow": {
     "slide_type": "-"
    }
   },
   "outputs": [],
   "source": [
    "def plot_julia_set(julia):\n",
    "    plt.figure(figsize=(6,6))\n",
    "    plt.imshow(julia, cmap = cm.Greys, vmin=vmin, vmax=vmax)"
   ]
  },
  {
   "cell_type": "code",
   "execution_count": null,
   "metadata": {
    "internals": {
     "slide_helper": "subslide_end"
    },
    "slide_helper": "slide_end",
    "slideshow": {
     "slide_type": "-"
    }
   },
   "outputs": [],
   "source": [
    "plot_julia_set(juliaset_python(x, y, c, lim, maxit))"
   ]
  },
  {
   "cell_type": "markdown",
   "metadata": {},
   "source": [
    "## Pythran\n",
    "\n",
    "[Pythran](https://pythran.readthedocs.io/en/latest/) is a Python-to-C++ translator\n",
    "\n",
    "Add a comment line before your python function and it runs much faster.\n",
    "\n",
    "### Configuration\n",
    "\n",
    "`~/.pythranrc` file on my mac (gcc is installed with hombrew and pythran with pip)\n",
    "\n",
    "```\n",
    "[compiler]\n",
    "include_dirs=/usr/local/opt/openblas/include\n",
    "library_dirs=/usr/local/opt/openblas/lib\n",
    "blas=openblas\n",
    "CXX=g++-10\n",
    "CC=gcc-10\n",
    "```"
   ]
  },
  {
   "cell_type": "code",
   "execution_count": null,
   "metadata": {},
   "outputs": [],
   "source": [
    "%load_ext pythran.magic"
   ]
  },
  {
   "cell_type": "code",
   "execution_count": null,
   "metadata": {
    "slideshow": {
     "slide_type": "fragment"
    }
   },
   "outputs": [],
   "source": [
    "%%pythran(-fopenmp)\n",
    "\n",
    "import numpy as np\n",
    "\n",
    "#pythran export juliaset_pythran(float64[], float64[],complex, int, int)\n",
    "def juliaset_pythran(x, y, c, lim, maxit):\n",
    "    \"\"\" \n",
    "    returns Julia set\n",
    "    \"\"\"\n",
    "    juliap = np.zeros((x.size, y.size), dtype=np.int32)\n",
    "\n",
    "    #omp parallel for private(z, ite)\n",
    "    for j in range(y.size):\n",
    "        for i in range(x.size):\n",
    "            z = x[i] + 1j*y[j]\n",
    "            ite = 0\n",
    "            while abs(z) < lim and ite < maxit:\n",
    "                z = z**2 + c\n",
    "                ite += 1\n",
    "            juliap[j, i] = ite\n",
    "\n",
    "    return juliap"
   ]
  },
  {
   "cell_type": "code",
   "execution_count": null,
   "metadata": {},
   "outputs": [],
   "source": [
    "plot_julia_set(juliaset_pythran(x, y, c, lim, maxit))"
   ]
  },
  {
   "cell_type": "markdown",
   "metadata": {},
   "source": [
    "## Fortran\n",
    "\n",
    "You need [numpy](https://numpy.org) and [fortran-magic](https://github.com/mgaitan/fortran_magic)"
   ]
  },
  {
   "cell_type": "code",
   "execution_count": null,
   "metadata": {
    "lines_to_next_cell": 2
   },
   "outputs": [],
   "source": [
    "%load_ext fortranmagic"
   ]
  },
  {
   "cell_type": "markdown",
   "metadata": {},
   "source": [
    "On my mac i need to change compilers install with [homebrew](https://brew.sh)"
   ]
  },
  {
   "cell_type": "markdown",
   "metadata": {},
   "source": [
    "Complex computation inside the loop are avoided on purpose. It takes time even with fortran."
   ]
  },
  {
   "cell_type": "code",
   "execution_count": null,
   "metadata": {},
   "outputs": [],
   "source": [
    "%%fortran\n",
    "subroutine juliaset_fortran(x, y, c, lim, maxit, julia)\n",
    "\n",
    "    real(8),    intent(in)  :: x(:)\n",
    "    real(8),    intent(in)  :: y(:)\n",
    "    complex(8), intent(in)  :: c\n",
    "    real(8),    intent(in)  :: lim\n",
    "    integer,    intent(in)  :: maxit\n",
    "    integer,    intent(out) :: julia(size(x),size(y))\n",
    "\n",
    "    real(8)    :: zr, zi, limsq, cr, ci, tmp\n",
    "    integer    :: ite, nx, ny\n",
    "\n",
    "    nx = size(x)\n",
    "    ny = size(y)\n",
    "    limsq = lim * lim\n",
    "    cr = real(c)\n",
    "    ci = imag(c)\n",
    "\n",
    "    do i = 1, nx\n",
    "       do j = 1, ny   \n",
    "            zr = x(i)\n",
    "            zi = y(j)\n",
    "            ite = 0\n",
    "            do while (zr*zr+zi*zi < limsq .and. ite < maxit)\n",
    "                tmp = zr*zr - zi*zi \n",
    "                zi = 2*zr*zi + ci\n",
    "                zr = tmp + cr\n",
    "                ite = ite + 1\n",
    "            end do\n",
    "            julia(j, i) = ite\n",
    "        end do\n",
    "    end do\n",
    "\n",
    "\n",
    "end subroutine juliaset_fortran"
   ]
  },
  {
   "cell_type": "code",
   "execution_count": null,
   "metadata": {},
   "outputs": [],
   "source": [
    "plot_julia_set(juliaset_fortran(x, y, c, lim, maxit))"
   ]
  },
  {
   "cell_type": "markdown",
   "metadata": {},
   "source": [
    "## Fortran with OpenMP\n",
    "\n",
    "On Linux you don't need to add `-L/usr/local/lib`\n",
    "\n",
    "This is the same function from above with some openmp directives"
   ]
  },
  {
   "cell_type": "code",
   "execution_count": null,
   "metadata": {},
   "outputs": [],
   "source": [
    "%%fortran --f90flags \"-fopenmp\" --opt \"-O3\" --extra \"-lgomp\"\n",
    "subroutine juliaset_fortran_omp(x, y, c, lim, maxit, julia)\n",
    "\n",
    "    real(8),    intent(in)  :: x(:)\n",
    "    real(8),    intent(in)  :: y(:)\n",
    "    complex(8), intent(in)  :: c\n",
    "    real(8),    intent(in)  :: lim\n",
    "    integer,    intent(in)  :: maxit\n",
    "    integer,    intent(out) :: julia(size(x),size(y))\n",
    "\n",
    "    real(8)    :: zr, zi, limsq, cr, ci, tmp\n",
    "    integer    :: ite, nx, ny\n",
    "\n",
    "    nx = size(x)\n",
    "    ny = size(y)\n",
    "    limsq = lim * lim\n",
    "    cr = real(c)\n",
    "    ci = imag(c)\n",
    "\n",
    "    !$OMP PARALLEL DEFAULT(NONE) &\n",
    "    !$OMP FIRSTPRIVATE(nx,ny,x,y,c,limsq,maxit,cr,ci) &\n",
    "    !$OMP PRIVATE(i,j,ite,zr,zi, tmp) &\n",
    "    !$OMP SHARED(julia)\n",
    "    !$OMP DO SCHEDULE(DYNAMIC)\n",
    "    do i = 1, nx\n",
    "       do j = 1, ny   \n",
    "            zr = x(i)\n",
    "            zi = y(j)\n",
    "            ite = 0\n",
    "            do while (zr*zr+zi*zi < limsq .and. ite < maxit)\n",
    "                tmp = zr*zr - zi*zi \n",
    "                zi = 2*zr*zi + ci\n",
    "                zr = tmp + cr\n",
    "                ite = ite + 1\n",
    "            end do\n",
    "            julia(j, i) = ite\n",
    "        end do\n",
    "    end do  \n",
    "    !$OMP END PARALLEL\n",
    "\n",
    "\n",
    "end subroutine juliaset_fortran_omp"
   ]
  },
  {
   "cell_type": "code",
   "execution_count": null,
   "metadata": {},
   "outputs": [],
   "source": [
    "plot_julia_set(juliaset_fortran_omp(x, y, c, lim, maxit))"
   ]
  },
  {
   "cell_type": "markdown",
   "metadata": {
    "internals": {
     "slide_type": "subslide"
    },
    "slideshow": {
     "slide_type": "slide"
    }
   },
   "source": [
    "## Numpy\n",
    "\n",
    "Vectorize version with numpy. You could get some overflow warnings"
   ]
  },
  {
   "cell_type": "code",
   "execution_count": null,
   "metadata": {
    "internals": {
     "slide_helper": "subslide_end"
    },
    "slide_helper": "subslide_end",
    "slideshow": {
     "slide_type": "-"
    }
   },
   "outputs": [],
   "source": [
    "import itertools\n",
    "\n",
    "def juliaset_numpy(x, y, c, lim, maxit):\n",
    "    julia = np.zeros((x.size, y.size), dtype=np.int32)\n",
    "\n",
    "    zx = x[np.newaxis, :]\n",
    "    zy = y[:, np.newaxis]\n",
    "    \n",
    "    z = zx + zy*1j\n",
    "    \n",
    "    for ite in itertools.count():\n",
    "        \n",
    "        z = z**2 + c \n",
    "        mask = np.logical_not(julia) & (np.abs(z) >= lim)\n",
    "        julia[mask] = ite\n",
    "        if np.all(julia) or ite > maxit:\n",
    "            return julia"
   ]
  },
  {
   "cell_type": "code",
   "execution_count": null,
   "metadata": {},
   "outputs": [],
   "source": [
    "plot_julia_set(juliaset_numpy(x, y, c, lim, maxit))"
   ]
  },
  {
   "cell_type": "markdown",
   "metadata": {
    "internals": {
     "slide_type": "subslide"
    },
    "slideshow": {
     "slide_type": "slide"
    }
   },
   "source": [
    "## Cython\n",
    "\n",
    "Install [Cython](https://cython.readthedocs.io)\n",
    "\n",
    "Use `%%cython -a` to highlight the Python-C and C-Python conversions.\n",
    "\n",
    "Cython is not Python and not C, it is another language :-)"
   ]
  },
  {
   "cell_type": "code",
   "execution_count": null,
   "metadata": {
    "internals": {},
    "slideshow": {
     "slide_type": "-"
    }
   },
   "outputs": [],
   "source": [
    "%load_ext cython"
   ]
  },
  {
   "cell_type": "code",
   "execution_count": null,
   "metadata": {
    "internals": {
     "slide_helper": "subslide_end",
     "slide_type": "subslide"
    },
    "slide_helper": "subslide_end",
    "slideshow": {
     "slide_type": "subslide"
    }
   },
   "outputs": [],
   "source": [
    "%%cython\n",
    "import numpy as np\n",
    "import cython\n",
    "\n",
    "@cython.boundscheck(False)\n",
    "@cython.wraparound(False)\n",
    "def juliaset_cython(double [:] x, double [:] y, double complex c, double lim, int maxit):\n",
    "    cdef:\n",
    "        int [:, ::1] julia = np.zeros((x.size, y.size), dtype = np.int32)\n",
    "        double tmp, zr, zi, lim2 = lim*lim\n",
    "        double cr = c.real, ci = c.imag\n",
    "        int ite, i, j, nx=x.size, ny=y.size\n",
    "\n",
    "    for i in range(nx):\n",
    "        for j in range(ny):\n",
    "            zr = x[i] \n",
    "            zi = y[j]\n",
    "            ite = 0\n",
    "            while (zr*zr + zi*zi) < lim2 and ite < maxit:\n",
    "                zr, zi = zr*zr - zi*zi + cr, 2*zr*zi + ci\n",
    "                ite += 1\n",
    "            julia[j, i] = ite\n",
    "\n",
    "    return julia"
   ]
  },
  {
   "cell_type": "code",
   "execution_count": null,
   "metadata": {},
   "outputs": [],
   "source": [
    "plot_julia_set(juliaset_cython(x, y, c, lim, maxit))"
   ]
  },
  {
   "cell_type": "markdown",
   "metadata": {},
   "source": [
    "As f2py we can use openmp with the Cython `prange` function"
   ]
  },
  {
   "cell_type": "code",
   "execution_count": null,
   "metadata": {
    "internals": {
     "slide_helper": "subslide_end"
    },
    "slide_helper": "subslide_end",
    "slideshow": {
     "slide_type": "-"
    }
   },
   "outputs": [],
   "source": [
    "%%cython --v -f -c-fopenmp --link-args=-fopenmp\n",
    "import numpy as np\n",
    "import cython\n",
    "from cython.parallel import prange\n",
    "from libc.stdlib cimport malloc, free \n",
    "\n",
    "@cython.boundscheck(False)\n",
    "@cython.wraparound(False)\n",
    "def juliaset_cython_omp(double [:] x, double [:] y, double complex c, double lim, int maxit):\n",
    "    cdef:\n",
    "        int [:, ::1] julia = np.zeros((x.size, y.size), dtype = np.int32)\n",
    "        double tmp, zr, zi, lim2 = lim*lim\n",
    "        double cr = c.real, ci = c.imag\n",
    "        int  i, j, nx=x.size, ny=y.size\n",
    "        int *ite\n",
    "\n",
    "    for j in prange(ny, nogil=True, schedule='dynamic'):\n",
    "        ite = <int *> malloc(sizeof(int))\n",
    "        for i in range(nx):\n",
    "            zr = x[i] \n",
    "            zi = y[j]\n",
    "            ite[0] = 0\n",
    "            while (zr*zr + zi*zi) < lim2 and ite[0] < maxit:\n",
    "                zr, zi = zr*zr - zi*zi + cr, 2*zr*zi + ci\n",
    "                ite[0] += 1\n",
    "            julia[j, i] = ite[0]\n",
    "        free(ite)\n",
    "        \n",
    "    return julia"
   ]
  },
  {
   "cell_type": "code",
   "execution_count": null,
   "metadata": {},
   "outputs": [],
   "source": [
    "plot_julia_set(juliaset_cython_omp(x, y, c, lim, maxit))"
   ]
  },
  {
   "cell_type": "markdown",
   "metadata": {
    "internals": {
     "slide_type": "subslide"
    },
    "slideshow": {
     "slide_type": "slide"
    }
   },
   "source": [
    "## numba\n",
    "\n",
    "[Numba](https://numba.pydata.org) will accelerate the pure python function just  with\n",
    "the decorator `@jit`. Numba does everything for you."
   ]
  },
  {
   "cell_type": "code",
   "execution_count": null,
   "metadata": {
    "internals": {
     "slide_helper": "subslide_end"
    },
    "slide_helper": "subslide_end",
    "slideshow": {
     "slide_type": "slide"
    }
   },
   "outputs": [],
   "source": [
    "from numba import jit\n",
    "\n",
    "@jit(nopython=True, parallel=True)\n",
    "def juliaset_numba(x, y, c, lim, maxit):\n",
    "    julia = np.zeros((x.size, y.size))\n",
    "    lim2 = lim*lim\n",
    "    \n",
    "    c = complex(c)  # needed for numba\n",
    "    for j in range(y.size):\n",
    "        for i in range(x.size):\n",
    "\n",
    "            z = complex(x[i], y[j])\n",
    "            ite = 0\n",
    "            while (z.real*z.real + z.imag*z.imag) < lim2 and ite < maxit:\n",
    "                z = z*z + c\n",
    "                ite += 1\n",
    "            julia[j, i] = ite\n",
    "\n",
    "    return julia"
   ]
  },
  {
   "cell_type": "code",
   "execution_count": null,
   "metadata": {
    "slideshow": {
     "slide_type": "slide"
    }
   },
   "outputs": [],
   "source": [
    "plot_julia_set(juliaset_numba(x, y, c, lim, maxit))"
   ]
  },
  {
   "cell_type": "markdown",
   "metadata": {},
   "source": [
    "## PyJulia\n",
    "\n",
    "[PyJulia](https://pyjulia.readthedocs.io/en/latest/#) is a python module to import\n",
    "Julia function in your Python session. You can also run Julia code in a middle of\n",
    "a Jupyter notebook with a Python kernel.\n",
    "\n",
    "To use pyjulia you need to install [Julia](https://julialang.org/downloads/) and install [PyCall.jl](https://github.com/JuliaPy/PyCall.jl) and **REPL**\n",
    "\n",
    "```\n",
    "julia> using Pkg\n",
    "julia> ENV[\"PYTHON\"] = \"/usr/local/bin/python3.7\"\n",
    "julia> Pkg.add(\"PyCall\")\n",
    "julia> Pkg.add(\"REPL\")\n",
    "julia> Pkg.build(\"PyCall\")\n",
    "```\n",
    "\n",
    "print the value of `sys.executable` to know the python path. "
   ]
  },
  {
   "cell_type": "code",
   "execution_count": null,
   "metadata": {},
   "outputs": [],
   "source": [
    "import julia\n",
    "julia.install()"
   ]
  },
  {
   "cell_type": "code",
   "execution_count": null,
   "metadata": {},
   "outputs": [],
   "source": [
    "%%file juliaset_julia.jl\n",
    "import Base.Threads: @threads, @spawn\n",
    "\n",
    "function escapetime(z, c, lim, maxit)\n",
    "\n",
    "    for n = 1:maxit\n",
    "        if abs(z) > lim\n",
    "            return n-1\n",
    "        end\n",
    "        z = z*z + c\n",
    "    end\n",
    "    return maxit\n",
    "end\n",
    "\n",
    "function juliaset_julia(x :: Vector{Float64}, y :: Vector{Float64}, \n",
    "                        c :: Complex, lim , maxit )\n",
    "    \n",
    "    nx = length(x)\n",
    "    ny = length(y)\n",
    "    julia = zeros(Float64, (nx, ny))\n",
    "    @sync for i in eachindex(x)\n",
    "        @spawn for j in eachindex(y)\n",
    "            @inbounds z  = x[i] + 1im * y[j] \n",
    "            @inbounds julia[j, i] = escapetime(z, c, lim, maxit)\n",
    "        end\n",
    "    end\n",
    "    return julia\n",
    "end"
   ]
  },
  {
   "cell_type": "code",
   "execution_count": null,
   "metadata": {},
   "outputs": [],
   "source": [
    "from julia.api import Julia\n",
    "jl = Julia(compiled_modules=False)"
   ]
  },
  {
   "cell_type": "code",
   "execution_count": null,
   "metadata": {},
   "outputs": [],
   "source": [
    "jl = julia.Julia()\n",
    "juliaset_julia = jl.include(\"juliaset_julia.jl\")"
   ]
  },
  {
   "cell_type": "code",
   "execution_count": null,
   "metadata": {},
   "outputs": [],
   "source": [
    "plot_julia_set(juliaset_julia(x, y, c, lim, maxit))"
   ]
  },
  {
   "cell_type": "markdown",
   "metadata": {},
   "source": [
    "### Set number of threads used for parallel functions"
   ]
  },
  {
   "cell_type": "code",
   "execution_count": null,
   "metadata": {},
   "outputs": [],
   "source": [
    "%env OMP_NUM_THREADS=4\n",
    "%env JULIA_NUM_THREADS=4"
   ]
  },
  {
   "cell_type": "code",
   "execution_count": null,
   "metadata": {
    "internals": {
     "slide_type": "subslide"
    },
    "lines_to_next_cell": 0,
    "slideshow": {
     "slide_type": "subslide"
    }
   },
   "outputs": [],
   "source": [
    "import pandas as pd\n",
    "from collections import defaultdict\n",
    "from tqdm import tqdm_notebook as tqdm\n",
    "results = defaultdict(list)\n",
    "\n",
    "nx, ny = 1024, 1024 # increase mesh size\n",
    "\n",
    "x = np.linspace(-1.6, 1.6, nx)\n",
    "y = np.linspace(-1.6, 1.6, ny)\n",
    "\n",
    "functions = [juliaset_numpy,\n",
    "             juliaset_fortran,\n",
    "             juliaset_fortran_omp,\n",
    "             juliaset_cython,\n",
    "             juliaset_cython_omp,\n",
    "             juliaset_numba,\n",
    "             juliaset_pythran,\n",
    "             juliaset_julia]\n",
    "\n",
    "for f in tqdm(functions):\n",
    "\n",
    "    _ = %timeit -oq -n 1 f(x, y, c, lim, maxit)\n",
    "    results['etime'] += [_.best]\n",
    "    \n",
    "results = pd.DataFrame(results, index=list(map(lambda f:f.__name__[9:],functions)))\n",
    "results[\"speed_up\"] = [results.etime[\"numpy\"]/t for t in results.etime]\n",
    "results.sort_values(by=\"speed_up\",axis=0)"
   ]
  },
  {
   "cell_type": "code",
   "execution_count": null,
   "metadata": {
    "lines_to_next_cell": 2
   },
   "outputs": [],
   "source": []
  }
 ],
 "metadata": {
  "jupytext": {
   "cell_metadata_json": true,
   "comment_magics": false,
   "formats": "py,notebooks//ipynb"
  },
  "kernelspec": {
   "display_name": "Python 3",
   "language": "python",
   "name": "python3"
  }
 },
 "nbformat": 4,
 "nbformat_minor": 4
}
