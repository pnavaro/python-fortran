{
 "cells": [
  {
   "cell_type": "markdown",
   "metadata": {},
   "source": [
    "# Gray-Scott Model\n",
    "\n",
    "This notebook is originally an idea of [@gouarin](https://github.com/gouarin)"
   ]
  },
  {
   "cell_type": "code",
   "execution_count": null,
   "metadata": {},
   "outputs": [],
   "source": [
    "import sys\n",
    "if sys.platform == \"darwin\":\n",
    "    %env CC=gcc-10"
   ]
  },
  {
   "cell_type": "code",
   "execution_count": null,
   "metadata": {},
   "outputs": [],
   "source": [
    "import numpy as np"
   ]
  },
  {
   "cell_type": "code",
   "execution_count": null,
   "metadata": {
    "lines_to_next_cell": 1
   },
   "outputs": [],
   "source": [
    "%config InlineBackend.figure_format = 'retina'"
   ]
  },
  {
   "cell_type": "markdown",
   "metadata": {},
   "source": [
    "The reaction-diffusion system described here involves two generic chemical species U and V, whose concentration at a given point in space is referred to by variables u and v. As the term implies, they react with each other, and they diffuse through the medium. Therefore the concentration of U and V at any given location changes with time and can differ from that at other locations.\n",
    "\n",
    "The overall behavior of the system is described by the following formula, two equations which describe three sources of increase and decrease for each of the two chemicals:\n",
    "\n",
    "\n",
    "$$\n",
    "\\begin{array}{l}\n",
    "\\displaystyle \\frac{\\partial u}{\\partial t} = D_u \\Delta u - uv^2 + F(1-u) \\\\\n",
    "\\displaystyle \\frac{\\partial v}{\\partial t} = D_v \\Delta v + uv^2 - (F+k)v\n",
    "\\end{array}\n",
    "$$\n",
    "\n",
    "The laplacian is computed with the following numerical scheme\n",
    "\n",
    "$$\n",
    "\\Delta u_{i,j} \\approx u_{i,j-1} + u_{i-1,j} -4u_{i,j} + u_{i+1, j} + u_{i, j+1}\n",
    "$$\n",
    "\n",
    "The classic Euler scheme is used to integrate the time derivative."
   ]
  },
  {
   "cell_type": "markdown",
   "metadata": {},
   "source": [
    "## Initialization\n",
    "\n",
    "$u$ is $1$ everywhere et $v$ is $0$ in the domain except in a square zone where $v = 0.25$ and $ u = 0.5$. This square located in the center of the domain is  $[0, 1]\\times[0,1]$ with a size of $0.2$.\n"
   ]
  },
  {
   "cell_type": "code",
   "execution_count": null,
   "metadata": {},
   "outputs": [],
   "source": [
    "def init(n):\n",
    " \n",
    "    u = np.ones((n+2,n+2))\n",
    "    v = np.zeros((n+2,n+2))\n",
    "    \n",
    "    x, y = np.meshgrid(np.linspace(0, 1, n+2), np.linspace(0, 1, n+2))\n",
    "\n",
    "    mask = (0.4<x) & (x<0.6) & (0.4<y) & (y<0.6)\n",
    "    \n",
    "    u[mask] = 0.50\n",
    "    v[mask] = 0.25\n",
    "        \n",
    "    return u, v"
   ]
  },
  {
   "cell_type": "markdown",
   "metadata": {},
   "source": [
    "## Boundary conditions\n",
    "\n",
    "We assume that the domain is periodic.\n"
   ]
  },
  {
   "cell_type": "code",
   "execution_count": null,
   "metadata": {},
   "outputs": [],
   "source": [
    "def periodic_bc(u):\n",
    "    u[0, :] = u[-2, :]\n",
    "    u[-1, :] = u[1, :]\n",
    "    u[:, 0] = u[:, -2]\n",
    "    u[:, -1] = u[:, 1]"
   ]
  },
  {
   "cell_type": "markdown",
   "metadata": {},
   "source": [
    "## Laplacian"
   ]
  },
  {
   "cell_type": "code",
   "execution_count": null,
   "metadata": {},
   "outputs": [],
   "source": [
    "def laplacian(u):\n",
    "    \"\"\"\n",
    "    second order finite differences\n",
    "    \"\"\"\n",
    "    return (                  u[ :-2, 1:-1] +\n",
    "             u[1:-1, :-2] - 4*u[1:-1, 1:-1] + u[1:-1, 2:] +\n",
    "                          +   u[2:  , 1:-1] )"
   ]
  },
  {
   "cell_type": "markdown",
   "metadata": {},
   "source": [
    "## Gray-Scott model"
   ]
  },
  {
   "cell_type": "code",
   "execution_count": null,
   "metadata": {},
   "outputs": [],
   "source": [
    "def numpy_grayscott(U, V, Du, Dv, F, k):\n",
    "    \n",
    "    u, v = U[1:-1,1:-1], V[1:-1,1:-1]\n",
    "\n",
    "    Lu = laplacian(U)\n",
    "    Lv = laplacian(V)\n",
    "\n",
    "    uvv = u*v*v\n",
    "    u += Du*Lu - uvv + F*(1 - u)\n",
    "    v += Dv*Lv + uvv - (F + k)*v\n",
    "\n",
    "    periodic_bc(U)\n",
    "    periodic_bc(V)\n",
    "    \n",
    "    return U, V"
   ]
  },
  {
   "cell_type": "markdown",
   "metadata": {},
   "source": [
    "## Visualization\n",
    "\n",
    "Nous utiliserons les données suivantes."
   ]
  },
  {
   "cell_type": "code",
   "execution_count": null,
   "metadata": {},
   "outputs": [],
   "source": [
    "Du, Dv = .1, .05\n",
    "F, k = 0.0545, 0.062"
   ]
  },
  {
   "cell_type": "code",
   "execution_count": null,
   "metadata": {},
   "outputs": [],
   "source": [
    "%%time\n",
    "from tqdm.notebook import tqdm\n",
    "from PIL import Image\n",
    "U, V = init(300)\n",
    "\n",
    "def create_image(grayscott):\n",
    "    global U, V\n",
    "    for t in range(40):\n",
    "        U, V = grayscott(U, V, Du, Dv, F, k)\n",
    "    V_scaled = np.uint8(255*(V-V.min()) / (V.max()-V.min()))\n",
    "    return V_scaled\n",
    "\n",
    "def create_frames(n, grayscott):\n",
    "\n",
    "    return [create_image(grayscott) for i in tqdm(range(n))]\n",
    "    \n",
    "frames = create_frames(500, numpy_grayscott)"
   ]
  },
  {
   "cell_type": "code",
   "execution_count": null,
   "metadata": {},
   "outputs": [],
   "source": [
    "from ipywidgets import interact, IntSlider\n",
    "\n",
    "def display_sequence(iframe):\n",
    "    \n",
    "    return Image.fromarray(frames[iframe])\n",
    "    \n",
    "interact(display_sequence, \n",
    "         iframe=IntSlider(min=0,\n",
    "                          max=len(frames)-1,\n",
    "                          step=1,\n",
    "                          value=0, \n",
    "                          continuous_update=True))"
   ]
  },
  {
   "cell_type": "code",
   "execution_count": null,
   "metadata": {},
   "outputs": [],
   "source": [
    "import imageio\n",
    "frames_scaled = [np.uint8(255 * frame) for frame in frames]\n",
    "imageio.mimsave('movie.gif', frames_scaled, format='gif', fps=60)"
   ]
  },
  {
   "cell_type": "markdown",
   "metadata": {},
   "source": [
    "![grayscott](movie.gif \"grayscott\")"
   ]
  },
  {
   "cell_type": "markdown",
   "metadata": {},
   "source": [
    "## References\n",
    "\n",
    "- [Reaction-Diffusion by the Gray-Scott Model: Pearson's Parametrization](https://mrob.com/pub/comp/xmorphia/)"
   ]
  },
  {
   "cell_type": "markdown",
   "metadata": {},
   "source": [
    "## Cython\n",
    "\n",
    "[Program by Hyry](https://stackoverflow.com/questions/26823312/numba-or-cython-acceleration-in-reaction-diffusion-algorithm)"
   ]
  },
  {
   "cell_type": "code",
   "execution_count": null,
   "metadata": {},
   "outputs": [],
   "source": [
    "%load_ext cython"
   ]
  },
  {
   "cell_type": "code",
   "execution_count": null,
   "metadata": {},
   "outputs": [],
   "source": [
    "%%cython\n",
    "\n",
    "cimport cython\n",
    "import numpy as np\n",
    "cimport numpy as np\n",
    "\n",
    "cpdef cython_grayscott(np.ndarray[double, ndim=2] U, np.ndarray[double, ndim=2] V, double Du, double Dv, double F, double k):\n",
    "   \n",
    "    cdef np.ndarray u = U[1:-1,1:-1]\n",
    "    cdef np.ndarray v = V[1:-1,1:-1]\n",
    "\n",
    "    cdef np.ndarray Lu = np.zeros_like(u)\n",
    "    cdef np.ndarray Lv = np.zeros_like(v)\n",
    "    cdef Py_ssize_t i, c, r, r1, c1, r2, c2\n",
    "    cdef double uvv\n",
    "\n",
    "    cdef double[:, ::1] bU = U\n",
    "    cdef double[:, ::1] bV = V\n",
    "    cdef double[:, ::1] bLu = Lu\n",
    "    cdef double[:, ::1] bLv = Lv\n",
    "    \n",
    "    n = np.shape(U)[0]-2\n",
    "\n",
    "    for r in range(n):\n",
    "        r1 = r + 1\n",
    "        r2 = r + 2\n",
    "        for c in range(n):\n",
    "            c1 = c + 1\n",
    "            c2 = c + 2\n",
    "            bLu[r,c] = bU[r1,c2] + bU[r1,c] + bU[r2,c1] + bU[r,c1] - 4*bU[r1,c1]\n",
    "            bLv[r,c] = bV[r1,c2] + bV[r1,c] + bV[r2,c1] + bV[r,c1] - 4*bV[r1,c1]\n",
    "\n",
    "    for r in range(n):\n",
    "        r1 = r + 1\n",
    "        for c in range(n):\n",
    "            c1 = c + 1\n",
    "            uvv = bU[r1,c1]*bV[r1,c1]*bV[r1,c1]\n",
    "            bU[r1,c1] += Du*bLu[r,c] - uvv + F*(1 - bU[r1,c1])\n",
    "            bV[r1,c1] += Dv*bLv[r,c] + uvv - (F + k)*bV[r1,c1]\n",
    "\n",
    "    return U, V"
   ]
  },
  {
   "cell_type": "code",
   "execution_count": null,
   "metadata": {},
   "outputs": [],
   "source": [
    "U, V = init(300)\n",
    "frames = create_frames(500, cython_grayscott)"
   ]
  },
  {
   "cell_type": "code",
   "execution_count": null,
   "metadata": {},
   "outputs": [],
   "source": [
    "interact(display_sequence, \n",
    "         iframe=IntSlider(min=0,\n",
    "                          max=len(frames)-1,\n",
    "                          step=1,\n",
    "                          value=0, \n",
    "                          continuous_update=True))"
   ]
  },
  {
   "cell_type": "code",
   "execution_count": null,
   "metadata": {},
   "outputs": [],
   "source": [
    "%load_ext fortranmagic"
   ]
  },
  {
   "cell_type": "code",
   "execution_count": null,
   "metadata": {},
   "outputs": [],
   "source": [
    "%%fortran\n",
    "\n",
    "subroutine fortran_grayscott( U, V, Du, Dv, F, k)\n",
    "\n",
    "    real(8), intent(in) :: Du, Dv, F, k\n",
    "    real(8) :: U(:,:)\n",
    "    real(8) :: V(:,:)\n",
    "    real(8), allocatable :: Lu(:,:), Lv(:,:)\n",
    "    integer :: n, c, r, r1, c1, r2, c2\n",
    "    real(8) :: uvv\n",
    "\n",
    "    n = size(U,1)\n",
    "   \n",
    "    Lu = U(2:n-1,2:n-1)\n",
    "    Lv = V(2:n-1,2:n-1)\n",
    "\n",
    "    do c = 1, n-2\n",
    "        c1 = c + 1\n",
    "        c2 = c + 2\n",
    "        do r = 1, n-2\n",
    "            r1 = r + 1\n",
    "            r2 = r + 2 \n",
    "            Lu(r,c) = U(r1,c2) + U(r1,c) + U(r2,c1) + U(r,c1) - 4*U(r1,c1)\n",
    "            Lv(r,c) = V(r1,c2) + V(r1,c) + V(r2,c1) + V(r,c1) - 4*V(r1,c1)\n",
    "        end do\n",
    "    end do\n",
    "\n",
    "    do c = 1, n-2\n",
    "        c1 = c + 1\n",
    "        do r = 1, n-2\n",
    "            r1 = r + 1     \n",
    "            uvv = U(r1,c1)*V(r1,c1)*V(r1,c1)\n",
    "            U(r1,c1) = U(r1, c1) + Du*Lu(r,c) - uvv + F*(1 - U(r1,c1))\n",
    "            V(r1,c1) = V(r1, c1) + Dv*Lv(r,c) + uvv - (F + k)*V(r1,c1)\n",
    "        end do\n",
    "    end do\n",
    "\n",
    "end subroutine fortran_grayscott"
   ]
  },
  {
   "cell_type": "code",
   "execution_count": null,
   "metadata": {},
   "outputs": [],
   "source": [
    "U, V = init(300)\n",
    "U = np.asfortranarray(U)\n",
    "V = np.asfortranarray(V)\n",
    "def create_image():\n",
    "    global U, V\n",
    "    for t in range(40):\n",
    "        fortran_grayscott(U, V, Du, Dv, F, k)\n",
    "    V_scaled = np.uint8(255*(V-V.min()) / (V.max()-V.min()))\n",
    "    return V_scaled\n",
    "\n",
    "def create_frames(n):\n",
    "\n",
    "    return [create_image() for i in tqdm(range(n))]\n",
    "    \n",
    "frames = create_frames(500)"
   ]
  },
  {
   "cell_type": "code",
   "execution_count": null,
   "metadata": {},
   "outputs": [],
   "source": [
    "interact(display_sequence, \n",
    "         iframe=IntSlider(min=0,\n",
    "                          max=len(frames)-1,\n",
    "                          step=1,\n",
    "                          value=0, \n",
    "                          continuous_update=True))"
   ]
  },
  {
   "cell_type": "code",
   "execution_count": null,
   "metadata": {},
   "outputs": [],
   "source": [
    "U, V = init(300)\n",
    "%timeit numpy_grayscott(U, V, Du, Dv, F, k)"
   ]
  },
  {
   "cell_type": "code",
   "execution_count": null,
   "metadata": {},
   "outputs": [],
   "source": [
    "U, V = init(300)\n",
    "%timeit cython_grayscott(U, V, Du, Dv, F, k)"
   ]
  },
  {
   "cell_type": "code",
   "execution_count": null,
   "metadata": {},
   "outputs": [],
   "source": [
    "U, V = init(300)\n",
    "U = np.asfortranarray(U)\n",
    "V = np.asfortranarray(V)\n",
    "%timeit fortran_grayscott(U, V, Du, Dv, F, k)"
   ]
  },
  {
   "cell_type": "code",
   "execution_count": null,
   "metadata": {},
   "outputs": [],
   "source": []
  }
 ],
 "metadata": {
  "jupytext": {
   "comment_magics": false,
   "encoding": "# -*- coding: utf-8 -*-",
   "formats": "py,notebooks//ipynb"
  },
  "kernelspec": {
   "display_name": "Python 3",
   "language": "python",
   "name": "python3"
  }
 },
 "nbformat": 4,
 "nbformat_minor": 4
}
